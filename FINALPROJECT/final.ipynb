{
 "cells": [
  {
   "cell_type": "code",
   "execution_count": 1,
   "metadata": {},
   "outputs": [],
   "source": [
    "# Libraries\n",
    "import numpy as np\n",
    "SEED = 42 # set to 42\n",
    "np.random.seed(SEED)\n",
    "\n",
    "import pandas as pd\n",
    "from pandas.tseries.offsets import BDay\n",
    "\n",
    "from decimal import Decimal, getcontext\n",
    "getcontext().prec = 15 # to be run within the target cells\n",
    "\n",
    "import os\n",
    "\n",
    "from FinDates.daycount import yearfrac\n",
    "import datetime as dt\n",
    "from datetime import datetime\n",
    "from dateutil.relativedelta import relativedelta\n",
    "\n",
    "from Final import (DC_CONV, \n",
    "                   depo_converter, \n",
    "                   future_converter, \n",
    "                   swap_converter, \n",
    "                   bootstrapDepo, \n",
    "                   bootstrapFuture, \n",
    "                   bootstrapSwap, \n",
    "                   getZeroRates, \n",
    "                   getRatesLinInterpDiscount,\n",
    "                   interpZeroRate,\n",
    "                   followingBday,\n",
    "                   bootstrapCurves,\n",
    "                   callEuropean,\n",
    "                   deltaEuropean,\n",
    "                   vegaEuropean)\n",
    "\n",
    "from plotly.subplots import make_subplots\n",
    "import plotly.graph_objects as pltgo\n",
    "\n",
    "import matplotlib.pyplot as plt\n",
    "\n",
    "# Suppress all warnings\n",
    "import warnings\n",
    "warnings.filterwarnings(\"ignore\")"
   ]
  },
  {
   "cell_type": "markdown",
   "metadata": {},
   "source": [
    "# Final project"
   ]
  },
  {
   "cell_type": "markdown",
   "metadata": {},
   "source": [
    "## Problem settings"
   ]
  },
  {
   "cell_type": "code",
   "execution_count": 2,
   "metadata": {},
   "outputs": [
    {
     "data": {
      "text/plain": [
       "'\\nParty A : Act/360\\nParty B : 30E/360\\n'"
      ]
     },
     "execution_count": 2,
     "metadata": {},
     "output_type": "execute_result"
    }
   ],
   "source": [
    "stock_name = 'ENEL'\n",
    "\n",
    "S0 = price_at_settle = 6.13 # in euros per share (underlying price)\n",
    "sigma = 0.16 # volatility\n",
    "d = 0.04 # dividend yield\n",
    "T = 4 # time period in years\n",
    "#dt = 1/252 # timestep in years\n",
    "alpha = 1.2\n",
    "Spol = 200e-4 # Spread Over Libor, 200 basis points\n",
    "K = 1\n",
    "n_sim = 100000\n",
    "\n",
    "# Day count convention\n",
    "\"\"\"\n",
    "Party A : Act/360\n",
    "Party B : 30E/360\n",
    "\"\"\""
   ]
  },
  {
   "cell_type": "markdown",
   "metadata": {},
   "source": [
    "## Bootstrap"
   ]
  },
  {
   "cell_type": "markdown",
   "metadata": {},
   "source": [
    "First thing to do is performing the bootstrap as we are going to extensively use the outputs of the bootstrap during the project."
   ]
  },
  {
   "cell_type": "code",
   "execution_count": 3,
   "metadata": {},
   "outputs": [
    {
     "name": "stdout",
     "output_type": "stream",
     "text": [
      "Today: 2008-02-15 00:00:00\n",
      "Settlement Date (t_0): 2008-02-19 00:00:00\n"
     ]
    }
   ],
   "source": [
    "dt = pd.read_csv('data/dt.csv',\n",
    "                index_col = 'Market',\n",
    "                usecols = ['Market','TARGET'],\n",
    "                converters = {'TARGET':pd.to_datetime})\n",
    "\n",
    "today = dt.TARGET['Today']\n",
    "dtSettle  = dt.TARGET['Settlement']\n",
    "\n",
    "print('Today:', today)\n",
    "print('Settlement Date (t_0):', dtSettle)"
   ]
  },
  {
   "cell_type": "code",
   "execution_count": 4,
   "metadata": {},
   "outputs": [],
   "source": [
    "df_depo = pd.read_csv('data/depos.csv', \n",
    "                   index_col ='Depos',\n",
    "                   usecols = ['Depos','ASK','BID'], \n",
    "                   converters={'Depos':pd.to_datetime,'BID':depo_converter,'ASK':depo_converter})\n",
    "\n",
    "# print(\"Number of deposits:\", df_depo.shape[0])\n",
    "# sanity_check = df_depo[\"ASK\"] > df_depo[\"BID\"]\n",
    "# print(\"\\nAre all ASK > BID?\", sanity_check.all()) # Check if all ASK > BID, deposits\n",
    "\n",
    "futures = pd.read_csv('data/futures.csv',\n",
    "                      index_col ='Future',\n",
    "                      usecols = ['Future','ASK','BID'],\n",
    "                      converters={'Future':pd.to_datetime,'BID':future_converter,'ASK':future_converter})\n",
    "\n",
    "settle = pd.read_csv('data/settles.csv',\n",
    "                     index_col = 'Future',\n",
    "                     usecols =['Future', 'Settle', 'Expiry'], \n",
    "                     converters = {'Future':pd.to_datetime, 'Settle':pd.to_datetime, 'Expiry':pd.to_datetime})\n",
    "\n",
    "df_futures = futures.join(settle)\n",
    "\n",
    "df_swaps = pd.read_csv('data/swaps.csv',\n",
    "                    index_col = 'Swap',\n",
    "                    usecols = ['Swap','BID','ASK'],\n",
    "                    converters={'Swap':pd.to_datetime,'BID':swap_converter,'ASK':swap_converter})\n",
    "\n",
    "swapsYearFrac = [yearfrac(dtSettle, T, DC_CONV[\"SWAP\"]) for T in df_swaps.index]"
   ]
  },
  {
   "cell_type": "code",
   "execution_count": 5,
   "metadata": {},
   "outputs": [],
   "source": [
    "termDates = [dtSettle]  \n",
    "discounts = [1.] \n",
    "\n",
    "termDates, discounts = bootstrapDepo(dtSettle, df_depo, df_futures, termDates, discounts)\n",
    "\n",
    "termDates, discounts = bootstrapFuture(dtSettle, df_futures, termDates, discounts)\n",
    "\n",
    "termDates, discounts = bootstrapSwap(dtSettle, df_swaps, termDates, discounts)\n",
    "\n",
    "yearFrac = [yearfrac(dtSettle, T, DC_CONV[\"INTERP\"]) for T in termDates[1:]] # converting all the term dates to year fractions according to ACT/365\n",
    "zeroRates = getZeroRates(yearFrac, discounts[1:])\n",
    "\n",
    "discCurve = pd.Series(index=pd.to_datetime(termDates), data=discounts)\n",
    "zeroCurve = pd.Series(index=pd.to_datetime(termDates[1:]), data=zeroRates)"
   ]
  },
  {
   "cell_type": "code",
   "execution_count": 6,
   "metadata": {},
   "outputs": [
    {
     "data": {
      "application/vnd.plotly.v1+json": {
       "config": {
        "plotlyServerURL": "https://plot.ly"
       },
       "data": [
        {
         "mode": "lines+markers",
         "name": "discounts",
         "opacity": 0.8,
         "type": "scatter",
         "x": [
          "2008-02-19T00:00:00",
          "2008-02-20T00:00:00",
          "2008-02-26T00:00:00",
          "2008-03-19T00:00:00",
          "2008-06-19T00:00:00",
          "2008-09-18T00:00:00",
          "2008-12-17T00:00:00",
          "2009-03-17T00:00:00",
          "2009-06-18T00:00:00",
          "2009-09-17T00:00:00",
          "2009-12-16T00:00:00",
          "2010-02-19T00:00:00",
          "2011-02-21T00:00:00",
          "2012-02-20T00:00:00",
          "2013-02-19T00:00:00",
          "2014-02-19T00:00:00",
          "2015-02-19T00:00:00",
          "2016-02-19T00:00:00",
          "2017-02-20T00:00:00",
          "2018-02-19T00:00:00",
          "2019-02-19T00:00:00",
          "2020-02-19T00:00:00",
          "2021-02-19T00:00:00",
          "2022-02-21T00:00:00",
          "2023-02-20T00:00:00",
          "2024-02-19T00:00:00",
          "2025-02-19T00:00:00",
          "2026-02-19T00:00:00",
          "2027-02-19T00:00:00",
          "2028-02-21T00:00:00",
          "2029-02-19T00:00:00",
          "2030-02-19T00:00:00",
          "2031-02-19T00:00:00",
          "2032-02-19T00:00:00",
          "2033-02-21T00:00:00",
          "2034-02-20T00:00:00",
          "2035-02-19T00:00:00",
          "2036-02-19T00:00:00",
          "2037-02-19T00:00:00",
          "2038-02-19T00:00:00",
          "2039-02-21T00:00:00",
          "2040-02-20T00:00:00",
          "2041-02-19T00:00:00",
          "2042-02-19T00:00:00",
          "2043-02-19T00:00:00",
          "2044-02-19T00:00:00",
          "2045-02-20T00:00:00",
          "2046-02-19T00:00:00",
          "2047-02-19T00:00:00",
          "2048-02-19T00:00:00",
          "2049-02-19T00:00:00",
          "2050-02-21T00:00:00",
          "2051-02-20T00:00:00",
          "2052-02-19T00:00:00",
          "2053-02-19T00:00:00",
          "2054-02-19T00:00:00",
          "2055-02-19T00:00:00",
          "2056-02-21T00:00:00",
          "2057-02-19T00:00:00",
          "2058-02-19T00:00:00"
         ],
         "xaxis": "x",
         "y": [
          1,
          0.9998886235172139,
          0.9992092369122325,
          0.9966640822613312,
          0.9857872886797621,
          0.9760983596587144,
          0.9673303177784316,
          0.9590049560041208,
          0.9506603677429752,
          0.9424978753495874,
          0.9343020617942617,
          0.926896694630836,
          0.8916151560504275,
          0.8559911620712988,
          0.8198871039326494,
          0.7837539494992296,
          0.7478026807897062,
          0.7123706599132775,
          0.6777338389011456,
          0.6443005899927632,
          0.6120673707320364,
          0.5810755725229267,
          0.5519080516978822,
          0.5239095087488743,
          0.49760892033734255,
          0.4727370366935323,
          0.44918284457969493,
          0.4269817177713405,
          0.4060558861115732,
          0.38623714027730444,
          0.36774400016374553,
          0.3502322017646158,
          0.3337286774996549,
          0.31818730527076833,
          0.3034767918848401,
          0.2897278403658936,
          0.2767634201746833,
          0.26448589944550405,
          0.2528897555288847,
          0.2419180928907134,
          0.23145606704725935,
          0.22161082020590406,
          0.21227519880966947,
          0.2033852289089939,
          0.19493939510862515,
          0.18690912628298167,
          0.17926090204688222,
          0.17201860138908376,
          0.165097280739111,
          0.1584945601475837,
          0.15219495991170998,
          0.14613863058163537,
          0.1404126329070562,
          0.13493765044092593,
          0.12970295146016864,
          0.12471391645204163,
          0.11994094159292454,
          0.1153628598751218,
          0.11103702199000627,
          0.10690413347064442
         ],
         "yaxis": "y"
        },
        {
         "mode": "lines+markers",
         "name": "z-rates",
         "opacity": 0.8,
         "type": "scatter",
         "x": [
          "2008-02-20T00:00:00",
          "2008-02-26T00:00:00",
          "2008-03-19T00:00:00",
          "2008-06-19T00:00:00",
          "2008-09-18T00:00:00",
          "2008-12-17T00:00:00",
          "2009-03-17T00:00:00",
          "2009-06-18T00:00:00",
          "2009-09-17T00:00:00",
          "2009-12-16T00:00:00",
          "2010-02-19T00:00:00",
          "2011-02-21T00:00:00",
          "2012-02-20T00:00:00",
          "2013-02-19T00:00:00",
          "2014-02-19T00:00:00",
          "2015-02-19T00:00:00",
          "2016-02-19T00:00:00",
          "2017-02-20T00:00:00",
          "2018-02-19T00:00:00",
          "2019-02-19T00:00:00",
          "2020-02-19T00:00:00",
          "2021-02-19T00:00:00",
          "2022-02-21T00:00:00",
          "2023-02-20T00:00:00",
          "2024-02-19T00:00:00",
          "2025-02-19T00:00:00",
          "2026-02-19T00:00:00",
          "2027-02-19T00:00:00",
          "2028-02-21T00:00:00",
          "2029-02-19T00:00:00",
          "2030-02-19T00:00:00",
          "2031-02-19T00:00:00",
          "2032-02-19T00:00:00",
          "2033-02-21T00:00:00",
          "2034-02-20T00:00:00",
          "2035-02-19T00:00:00",
          "2036-02-19T00:00:00",
          "2037-02-19T00:00:00",
          "2038-02-19T00:00:00",
          "2039-02-21T00:00:00",
          "2040-02-20T00:00:00",
          "2041-02-19T00:00:00",
          "2042-02-19T00:00:00",
          "2043-02-19T00:00:00",
          "2044-02-19T00:00:00",
          "2045-02-20T00:00:00",
          "2046-02-19T00:00:00",
          "2047-02-19T00:00:00",
          "2048-02-19T00:00:00",
          "2049-02-19T00:00:00",
          "2050-02-21T00:00:00",
          "2051-02-20T00:00:00",
          "2052-02-19T00:00:00",
          "2053-02-19T00:00:00",
          "2054-02-19T00:00:00",
          "2055-02-19T00:00:00",
          "2056-02-21T00:00:00",
          "2057-02-19T00:00:00",
          "2058-02-19T00:00:00"
         ],
         "xaxis": "x",
         "y": [
          0.04076606293222405,
          0.041361968789955746,
          0.04217196276831697,
          0.04329894704705439,
          0.04176529465436613,
          0.040254245317286226,
          0.0390621958662763,
          0.03814734131882094,
          0.037584099712479335,
          0.037291368387867965,
          0.037949620231945966,
          0.0381658506511425,
          0.03884727187241848,
          0.03971481183633488,
          0.04060754220243027,
          0.04151441490121617,
          0.04239461415802045,
          0.04320737905823844,
          0.04395737838274974,
          0.04462695915778553,
          0.04523953811665058,
          0.045719773065852884,
          0.04615474791373853,
          0.04651975309692474,
          0.046825999555017525,
          0.04707694002136057,
          0.047277596725489146,
          0.04743405683202759,
          0.04755219485227858,
          0.04763575057696809,
          0.04768824632279065,
          0.04771345469325647,
          0.047713127471458235,
          0.04768685402328794,
          0.04764097232758008,
          0.04757684317121335,
          0.04749883354749146,
          0.04740635330193808,
          0.04730462393988077,
          0.04719642828097801,
          0.04708449535921513,
          0.04696528824085809,
          0.046842242278079156,
          0.04671569794301834,
          0.04658702044300756,
          0.04645320738354661,
          0.04631935975646441,
          0.04618470405922923,
          0.04605087517723023,
          0.04591649041747859,
          0.04578409329009822,
          0.04565181384179775,
          0.04552141945032611,
          0.04538870630140755,
          0.04525470073736344,
          0.045122111919643215,
          0.04498806205156301,
          0.0448545948866283,
          0.044716127867817895
         ],
         "yaxis": "y2"
        }
       ],
       "layout": {
        "legend": {
         "title": {
          "text": "Legend"
         }
        },
        "template": {
         "data": {
          "bar": [
           {
            "error_x": {
             "color": "#2a3f5f"
            },
            "error_y": {
             "color": "#2a3f5f"
            },
            "marker": {
             "line": {
              "color": "#E5ECF6",
              "width": 0.5
             },
             "pattern": {
              "fillmode": "overlay",
              "size": 10,
              "solidity": 0.2
             }
            },
            "type": "bar"
           }
          ],
          "barpolar": [
           {
            "marker": {
             "line": {
              "color": "#E5ECF6",
              "width": 0.5
             },
             "pattern": {
              "fillmode": "overlay",
              "size": 10,
              "solidity": 0.2
             }
            },
            "type": "barpolar"
           }
          ],
          "carpet": [
           {
            "aaxis": {
             "endlinecolor": "#2a3f5f",
             "gridcolor": "white",
             "linecolor": "white",
             "minorgridcolor": "white",
             "startlinecolor": "#2a3f5f"
            },
            "baxis": {
             "endlinecolor": "#2a3f5f",
             "gridcolor": "white",
             "linecolor": "white",
             "minorgridcolor": "white",
             "startlinecolor": "#2a3f5f"
            },
            "type": "carpet"
           }
          ],
          "choropleth": [
           {
            "colorbar": {
             "outlinewidth": 0,
             "ticks": ""
            },
            "type": "choropleth"
           }
          ],
          "contour": [
           {
            "colorbar": {
             "outlinewidth": 0,
             "ticks": ""
            },
            "colorscale": [
             [
              0,
              "#0d0887"
             ],
             [
              0.1111111111111111,
              "#46039f"
             ],
             [
              0.2222222222222222,
              "#7201a8"
             ],
             [
              0.3333333333333333,
              "#9c179e"
             ],
             [
              0.4444444444444444,
              "#bd3786"
             ],
             [
              0.5555555555555556,
              "#d8576b"
             ],
             [
              0.6666666666666666,
              "#ed7953"
             ],
             [
              0.7777777777777778,
              "#fb9f3a"
             ],
             [
              0.8888888888888888,
              "#fdca26"
             ],
             [
              1,
              "#f0f921"
             ]
            ],
            "type": "contour"
           }
          ],
          "contourcarpet": [
           {
            "colorbar": {
             "outlinewidth": 0,
             "ticks": ""
            },
            "type": "contourcarpet"
           }
          ],
          "heatmap": [
           {
            "colorbar": {
             "outlinewidth": 0,
             "ticks": ""
            },
            "colorscale": [
             [
              0,
              "#0d0887"
             ],
             [
              0.1111111111111111,
              "#46039f"
             ],
             [
              0.2222222222222222,
              "#7201a8"
             ],
             [
              0.3333333333333333,
              "#9c179e"
             ],
             [
              0.4444444444444444,
              "#bd3786"
             ],
             [
              0.5555555555555556,
              "#d8576b"
             ],
             [
              0.6666666666666666,
              "#ed7953"
             ],
             [
              0.7777777777777778,
              "#fb9f3a"
             ],
             [
              0.8888888888888888,
              "#fdca26"
             ],
             [
              1,
              "#f0f921"
             ]
            ],
            "type": "heatmap"
           }
          ],
          "heatmapgl": [
           {
            "colorbar": {
             "outlinewidth": 0,
             "ticks": ""
            },
            "colorscale": [
             [
              0,
              "#0d0887"
             ],
             [
              0.1111111111111111,
              "#46039f"
             ],
             [
              0.2222222222222222,
              "#7201a8"
             ],
             [
              0.3333333333333333,
              "#9c179e"
             ],
             [
              0.4444444444444444,
              "#bd3786"
             ],
             [
              0.5555555555555556,
              "#d8576b"
             ],
             [
              0.6666666666666666,
              "#ed7953"
             ],
             [
              0.7777777777777778,
              "#fb9f3a"
             ],
             [
              0.8888888888888888,
              "#fdca26"
             ],
             [
              1,
              "#f0f921"
             ]
            ],
            "type": "heatmapgl"
           }
          ],
          "histogram": [
           {
            "marker": {
             "pattern": {
              "fillmode": "overlay",
              "size": 10,
              "solidity": 0.2
             }
            },
            "type": "histogram"
           }
          ],
          "histogram2d": [
           {
            "colorbar": {
             "outlinewidth": 0,
             "ticks": ""
            },
            "colorscale": [
             [
              0,
              "#0d0887"
             ],
             [
              0.1111111111111111,
              "#46039f"
             ],
             [
              0.2222222222222222,
              "#7201a8"
             ],
             [
              0.3333333333333333,
              "#9c179e"
             ],
             [
              0.4444444444444444,
              "#bd3786"
             ],
             [
              0.5555555555555556,
              "#d8576b"
             ],
             [
              0.6666666666666666,
              "#ed7953"
             ],
             [
              0.7777777777777778,
              "#fb9f3a"
             ],
             [
              0.8888888888888888,
              "#fdca26"
             ],
             [
              1,
              "#f0f921"
             ]
            ],
            "type": "histogram2d"
           }
          ],
          "histogram2dcontour": [
           {
            "colorbar": {
             "outlinewidth": 0,
             "ticks": ""
            },
            "colorscale": [
             [
              0,
              "#0d0887"
             ],
             [
              0.1111111111111111,
              "#46039f"
             ],
             [
              0.2222222222222222,
              "#7201a8"
             ],
             [
              0.3333333333333333,
              "#9c179e"
             ],
             [
              0.4444444444444444,
              "#bd3786"
             ],
             [
              0.5555555555555556,
              "#d8576b"
             ],
             [
              0.6666666666666666,
              "#ed7953"
             ],
             [
              0.7777777777777778,
              "#fb9f3a"
             ],
             [
              0.8888888888888888,
              "#fdca26"
             ],
             [
              1,
              "#f0f921"
             ]
            ],
            "type": "histogram2dcontour"
           }
          ],
          "mesh3d": [
           {
            "colorbar": {
             "outlinewidth": 0,
             "ticks": ""
            },
            "type": "mesh3d"
           }
          ],
          "parcoords": [
           {
            "line": {
             "colorbar": {
              "outlinewidth": 0,
              "ticks": ""
             }
            },
            "type": "parcoords"
           }
          ],
          "pie": [
           {
            "automargin": true,
            "type": "pie"
           }
          ],
          "scatter": [
           {
            "fillpattern": {
             "fillmode": "overlay",
             "size": 10,
             "solidity": 0.2
            },
            "type": "scatter"
           }
          ],
          "scatter3d": [
           {
            "line": {
             "colorbar": {
              "outlinewidth": 0,
              "ticks": ""
             }
            },
            "marker": {
             "colorbar": {
              "outlinewidth": 0,
              "ticks": ""
             }
            },
            "type": "scatter3d"
           }
          ],
          "scattercarpet": [
           {
            "marker": {
             "colorbar": {
              "outlinewidth": 0,
              "ticks": ""
             }
            },
            "type": "scattercarpet"
           }
          ],
          "scattergeo": [
           {
            "marker": {
             "colorbar": {
              "outlinewidth": 0,
              "ticks": ""
             }
            },
            "type": "scattergeo"
           }
          ],
          "scattergl": [
           {
            "marker": {
             "colorbar": {
              "outlinewidth": 0,
              "ticks": ""
             }
            },
            "type": "scattergl"
           }
          ],
          "scattermapbox": [
           {
            "marker": {
             "colorbar": {
              "outlinewidth": 0,
              "ticks": ""
             }
            },
            "type": "scattermapbox"
           }
          ],
          "scatterpolar": [
           {
            "marker": {
             "colorbar": {
              "outlinewidth": 0,
              "ticks": ""
             }
            },
            "type": "scatterpolar"
           }
          ],
          "scatterpolargl": [
           {
            "marker": {
             "colorbar": {
              "outlinewidth": 0,
              "ticks": ""
             }
            },
            "type": "scatterpolargl"
           }
          ],
          "scatterternary": [
           {
            "marker": {
             "colorbar": {
              "outlinewidth": 0,
              "ticks": ""
             }
            },
            "type": "scatterternary"
           }
          ],
          "surface": [
           {
            "colorbar": {
             "outlinewidth": 0,
             "ticks": ""
            },
            "colorscale": [
             [
              0,
              "#0d0887"
             ],
             [
              0.1111111111111111,
              "#46039f"
             ],
             [
              0.2222222222222222,
              "#7201a8"
             ],
             [
              0.3333333333333333,
              "#9c179e"
             ],
             [
              0.4444444444444444,
              "#bd3786"
             ],
             [
              0.5555555555555556,
              "#d8576b"
             ],
             [
              0.6666666666666666,
              "#ed7953"
             ],
             [
              0.7777777777777778,
              "#fb9f3a"
             ],
             [
              0.8888888888888888,
              "#fdca26"
             ],
             [
              1,
              "#f0f921"
             ]
            ],
            "type": "surface"
           }
          ],
          "table": [
           {
            "cells": {
             "fill": {
              "color": "#EBF0F8"
             },
             "line": {
              "color": "white"
             }
            },
            "header": {
             "fill": {
              "color": "#C8D4E3"
             },
             "line": {
              "color": "white"
             }
            },
            "type": "table"
           }
          ]
         },
         "layout": {
          "annotationdefaults": {
           "arrowcolor": "#2a3f5f",
           "arrowhead": 0,
           "arrowwidth": 1
          },
          "autotypenumbers": "strict",
          "coloraxis": {
           "colorbar": {
            "outlinewidth": 0,
            "ticks": ""
           }
          },
          "colorscale": {
           "diverging": [
            [
             0,
             "#8e0152"
            ],
            [
             0.1,
             "#c51b7d"
            ],
            [
             0.2,
             "#de77ae"
            ],
            [
             0.3,
             "#f1b6da"
            ],
            [
             0.4,
             "#fde0ef"
            ],
            [
             0.5,
             "#f7f7f7"
            ],
            [
             0.6,
             "#e6f5d0"
            ],
            [
             0.7,
             "#b8e186"
            ],
            [
             0.8,
             "#7fbc41"
            ],
            [
             0.9,
             "#4d9221"
            ],
            [
             1,
             "#276419"
            ]
           ],
           "sequential": [
            [
             0,
             "#0d0887"
            ],
            [
             0.1111111111111111,
             "#46039f"
            ],
            [
             0.2222222222222222,
             "#7201a8"
            ],
            [
             0.3333333333333333,
             "#9c179e"
            ],
            [
             0.4444444444444444,
             "#bd3786"
            ],
            [
             0.5555555555555556,
             "#d8576b"
            ],
            [
             0.6666666666666666,
             "#ed7953"
            ],
            [
             0.7777777777777778,
             "#fb9f3a"
            ],
            [
             0.8888888888888888,
             "#fdca26"
            ],
            [
             1,
             "#f0f921"
            ]
           ],
           "sequentialminus": [
            [
             0,
             "#0d0887"
            ],
            [
             0.1111111111111111,
             "#46039f"
            ],
            [
             0.2222222222222222,
             "#7201a8"
            ],
            [
             0.3333333333333333,
             "#9c179e"
            ],
            [
             0.4444444444444444,
             "#bd3786"
            ],
            [
             0.5555555555555556,
             "#d8576b"
            ],
            [
             0.6666666666666666,
             "#ed7953"
            ],
            [
             0.7777777777777778,
             "#fb9f3a"
            ],
            [
             0.8888888888888888,
             "#fdca26"
            ],
            [
             1,
             "#f0f921"
            ]
           ]
          },
          "colorway": [
           "#636efa",
           "#EF553B",
           "#00cc96",
           "#ab63fa",
           "#FFA15A",
           "#19d3f3",
           "#FF6692",
           "#B6E880",
           "#FF97FF",
           "#FECB52"
          ],
          "font": {
           "color": "#2a3f5f"
          },
          "geo": {
           "bgcolor": "white",
           "lakecolor": "white",
           "landcolor": "#E5ECF6",
           "showlakes": true,
           "showland": true,
           "subunitcolor": "white"
          },
          "hoverlabel": {
           "align": "left"
          },
          "hovermode": "closest",
          "mapbox": {
           "style": "light"
          },
          "paper_bgcolor": "white",
          "plot_bgcolor": "#E5ECF6",
          "polar": {
           "angularaxis": {
            "gridcolor": "white",
            "linecolor": "white",
            "ticks": ""
           },
           "bgcolor": "#E5ECF6",
           "radialaxis": {
            "gridcolor": "white",
            "linecolor": "white",
            "ticks": ""
           }
          },
          "scene": {
           "xaxis": {
            "backgroundcolor": "#E5ECF6",
            "gridcolor": "white",
            "gridwidth": 2,
            "linecolor": "white",
            "showbackground": true,
            "ticks": "",
            "zerolinecolor": "white"
           },
           "yaxis": {
            "backgroundcolor": "#E5ECF6",
            "gridcolor": "white",
            "gridwidth": 2,
            "linecolor": "white",
            "showbackground": true,
            "ticks": "",
            "zerolinecolor": "white"
           },
           "zaxis": {
            "backgroundcolor": "#E5ECF6",
            "gridcolor": "white",
            "gridwidth": 2,
            "linecolor": "white",
            "showbackground": true,
            "ticks": "",
            "zerolinecolor": "white"
           }
          },
          "shapedefaults": {
           "line": {
            "color": "#2a3f5f"
           }
          },
          "ternary": {
           "aaxis": {
            "gridcolor": "white",
            "linecolor": "white",
            "ticks": ""
           },
           "baxis": {
            "gridcolor": "white",
            "linecolor": "white",
            "ticks": ""
           },
           "bgcolor": "#E5ECF6",
           "caxis": {
            "gridcolor": "white",
            "linecolor": "white",
            "ticks": ""
           }
          },
          "title": {
           "x": 0.05
          },
          "xaxis": {
           "automargin": true,
           "gridcolor": "white",
           "linecolor": "white",
           "ticks": "",
           "title": {
            "standoff": 15
           },
           "zerolinecolor": "white",
           "zerolinewidth": 2
          },
          "yaxis": {
           "automargin": true,
           "gridcolor": "white",
           "linecolor": "white",
           "ticks": "",
           "title": {
            "standoff": 15
           },
           "zerolinecolor": "white",
           "zerolinewidth": 2
          }
         }
        },
        "title": {
         "text": "IR Bootstrap Curves"
        },
        "xaxis": {
         "anchor": "y",
         "domain": [
          0,
          0.94
         ],
         "title": {
          "text": "Time"
         }
        },
        "yaxis": {
         "anchor": "x",
         "domain": [
          0,
          1
         ],
         "tickfont": {
          "color": "blue"
         },
         "title": {
          "text": "Discounts"
         }
        },
        "yaxis2": {
         "anchor": "x",
         "overlaying": "y",
         "side": "right",
         "tickfont": {
          "color": "red"
         },
         "title": {
          "text": "Zero Rates"
         }
        }
       }
      }
     },
     "metadata": {},
     "output_type": "display_data"
    }
   ],
   "source": [
    "# Create subplots with shared x-axis and separate y-axes\n",
    "fig = make_subplots(specs=[[{\"secondary_y\": True}]])\n",
    "\n",
    "# Add traces to the subplots\n",
    "fig.add_trace(\n",
    "    pltgo.Scatter(x=discCurve.index, y=discCurve.values, opacity=0.8, mode='lines+markers', name='discounts'),\n",
    "    secondary_y=False  # Primary y-axis\n",
    ")\n",
    "fig.add_trace(\n",
    "    pltgo.Scatter(x=zeroCurve.index, y=zeroCurve.values, opacity=0.8, mode='lines+markers', name='z-rates'),\n",
    "    secondary_y=True  # Secondary y-axis\n",
    ")\n",
    "\n",
    "# Customize the appearance of the y-axes\n",
    "fig.update_yaxes(title_text=\"Discounts\", secondary_y=False, tickfont=dict(color=\"blue\"))  # Customize primary y-axis\n",
    "fig.update_yaxes(title_text=\"Zero Rates\", secondary_y=True, tickfont=dict(color=\"red\"))  # Customize secondary y-axis\n",
    "\n",
    "fig.update_layout(title=\"IR Bootstrap Curves\",\n",
    "                  xaxis_title=\"Time\",\n",
    "                  yaxis_title=\"Discounts\",\n",
    "                  legend_title=\"Legend\")\n",
    "\n",
    "# Show the figure\n",
    "fig.show()"
   ]
  },
  {
   "cell_type": "markdown",
   "metadata": {},
   "source": [
    "### Shifted Bootstrap"
   ]
  },
  {
   "cell_type": "markdown",
   "metadata": {},
   "source": [
    "The shifted bootstrap is performed by shifting the rates (from different securities) used during the bootstrap process by 1 bps. Both discount curve and zero rate curve are bootstrapped using the shifted rates."
   ]
  },
  {
   "cell_type": "code",
   "execution_count": 7,
   "metadata": {},
   "outputs": [
    {
     "name": "stdout",
     "output_type": "stream",
     "text": [
      "Shift: 0.0001  (bps)\n"
     ]
    }
   ],
   "source": [
    "shift = 1e-4 # Spread over Libor\n",
    "print(\"Shift:\", shift, \" (bps)\")"
   ]
  },
  {
   "cell_type": "code",
   "execution_count": 8,
   "metadata": {},
   "outputs": [],
   "source": [
    "discCurve_shift, zeroCurve_shift, _, _ = bootstrapCurves(df_depo=df_depo, df_futures=df_futures, df_swaps=df_swaps, shift=shift)"
   ]
  },
  {
   "cell_type": "code",
   "execution_count": 9,
   "metadata": {},
   "outputs": [
    {
     "data": {
      "application/vnd.plotly.v1+json": {
       "config": {
        "plotlyServerURL": "https://plot.ly"
       },
       "data": [
        {
         "mode": "lines+markers",
         "name": "discounts",
         "opacity": 0.8,
         "type": "scatter",
         "x": [
          "2008-02-19T00:00:00",
          "2008-02-20T00:00:00",
          "2008-02-26T00:00:00",
          "2008-03-19T00:00:00",
          "2008-06-19T00:00:00",
          "2008-09-18T00:00:00",
          "2008-12-17T00:00:00",
          "2009-03-17T00:00:00",
          "2009-06-18T00:00:00",
          "2009-09-17T00:00:00",
          "2009-12-16T00:00:00",
          "2010-02-19T00:00:00",
          "2011-02-21T00:00:00",
          "2012-02-20T00:00:00",
          "2013-02-19T00:00:00",
          "2014-02-19T00:00:00",
          "2015-02-19T00:00:00",
          "2016-02-19T00:00:00",
          "2017-02-20T00:00:00",
          "2018-02-19T00:00:00",
          "2019-02-19T00:00:00",
          "2020-02-19T00:00:00",
          "2021-02-19T00:00:00",
          "2022-02-21T00:00:00",
          "2023-02-20T00:00:00",
          "2024-02-19T00:00:00",
          "2025-02-19T00:00:00",
          "2026-02-19T00:00:00",
          "2027-02-19T00:00:00",
          "2028-02-21T00:00:00",
          "2029-02-19T00:00:00",
          "2030-02-19T00:00:00",
          "2031-02-19T00:00:00",
          "2032-02-19T00:00:00",
          "2033-02-21T00:00:00",
          "2034-02-20T00:00:00",
          "2035-02-19T00:00:00",
          "2036-02-19T00:00:00",
          "2037-02-19T00:00:00",
          "2038-02-19T00:00:00",
          "2039-02-21T00:00:00",
          "2040-02-20T00:00:00",
          "2041-02-19T00:00:00",
          "2042-02-19T00:00:00",
          "2043-02-19T00:00:00",
          "2044-02-19T00:00:00",
          "2045-02-20T00:00:00",
          "2046-02-19T00:00:00",
          "2047-02-19T00:00:00",
          "2048-02-19T00:00:00",
          "2049-02-19T00:00:00",
          "2050-02-21T00:00:00",
          "2051-02-20T00:00:00",
          "2052-02-19T00:00:00",
          "2053-02-19T00:00:00",
          "2054-02-19T00:00:00",
          "2055-02-19T00:00:00",
          "2056-02-21T00:00:00",
          "2057-02-19T00:00:00",
          "2058-02-19T00:00:00"
         ],
         "xaxis": "x",
         "y": [
          1,
          0.9998883458013854,
          0.9992072955455338,
          0.9966560804257162,
          0.9857544575868536,
          0.9760414227686302,
          0.9672499305070212,
          0.9589014943716482,
          0.9505334615386278,
          0.9423484449389175,
          0.9341307827478963,
          0.9267185437815338,
          0.8913575137678866,
          0.8556615534633888,
          0.8194924077336458,
          0.7833006968623384,
          0.747297432622568,
          0.7118196774814116,
          0.67714287967686,
          0.6436753388098405,
          0.6114127401742023,
          0.5803962420880322,
          0.5512079392682236,
          0.5231923756854254,
          0.4968782546462186,
          0.47199584569287023,
          0.44843380923263526,
          0.42622724065040574,
          0.40529811828493006,
          0.3854779961512754,
          0.36698519868917523,
          0.3494752453264506,
          0.33297490339937924,
          0.3174378769877712,
          0.302732758889261,
          0.28899004491221075,
          0.2760326369772948,
          0.2637628423410305,
          0.2521750215502099,
          0.2412122131392808,
          0.2307595796780928,
          0.2209240585489362,
          0.21159849905357236,
          0.20271891545132462,
          0.19428371412623058,
          0.18626428254689822,
          0.17862707522700355,
          0.17139586049137606,
          0.1644857599423546,
          0.1578943380970626,
          0.15160608520883415,
          0.14556120823007512,
          0.1398465547073165,
          0.1343829050742912,
          0.1291595149755264,
          0.1241817104947093,
          0.11941989984238634,
          0.11485294070828801,
          0.11053799528531419,
          0.10641590146980463
         ],
         "yaxis": "y"
        },
        {
         "mode": "lines+markers",
         "name": "z-rates",
         "opacity": 0.8,
         "type": "scatter",
         "x": [
          "2008-02-20T00:00:00",
          "2008-02-26T00:00:00",
          "2008-03-19T00:00:00",
          "2008-06-19T00:00:00",
          "2008-09-18T00:00:00",
          "2008-12-17T00:00:00",
          "2009-03-17T00:00:00",
          "2009-06-18T00:00:00",
          "2009-09-17T00:00:00",
          "2009-12-16T00:00:00",
          "2010-02-19T00:00:00",
          "2011-02-21T00:00:00",
          "2012-02-20T00:00:00",
          "2013-02-19T00:00:00",
          "2014-02-19T00:00:00",
          "2015-02-19T00:00:00",
          "2016-02-19T00:00:00",
          "2017-02-20T00:00:00",
          "2018-02-19T00:00:00",
          "2019-02-19T00:00:00",
          "2020-02-19T00:00:00",
          "2021-02-19T00:00:00",
          "2022-02-21T00:00:00",
          "2023-02-20T00:00:00",
          "2024-02-19T00:00:00",
          "2025-02-19T00:00:00",
          "2026-02-19T00:00:00",
          "2027-02-19T00:00:00",
          "2028-02-21T00:00:00",
          "2029-02-19T00:00:00",
          "2030-02-19T00:00:00",
          "2031-02-19T00:00:00",
          "2032-02-19T00:00:00",
          "2033-02-21T00:00:00",
          "2034-02-20T00:00:00",
          "2035-02-19T00:00:00",
          "2036-02-19T00:00:00",
          "2037-02-19T00:00:00",
          "2038-02-19T00:00:00",
          "2039-02-21T00:00:00",
          "2040-02-20T00:00:00",
          "2041-02-19T00:00:00",
          "2042-02-19T00:00:00",
          "2043-02-19T00:00:00",
          "2044-02-19T00:00:00",
          "2045-02-20T00:00:00",
          "2046-02-19T00:00:00",
          "2047-02-19T00:00:00",
          "2048-02-19T00:00:00",
          "2049-02-19T00:00:00",
          "2050-02-21T00:00:00",
          "2051-02-20T00:00:00",
          "2052-02-19T00:00:00",
          "2053-02-19T00:00:00",
          "2054-02-19T00:00:00",
          "2055-02-19T00:00:00",
          "2056-02-21T00:00:00",
          "2057-02-19T00:00:00",
          "2058-02-19T00:00:00"
         ],
         "xaxis": "x",
         "y": [
          0.04086771826156362,
          0.04146355496369392,
          0.04227328987658547,
          0.0433996877723893,
          0.041866001281400625,
          0.04035496275684381,
          0.039162877286122284,
          0.03824799133382305,
          0.03768472727508006,
          0.037391978245543196,
          0.03804571254917883,
          0.03826199764025259,
          0.038943489878612465,
          0.0398111085758052,
          0.040703949166473866,
          0.041610962991619746,
          0.04249133270133725,
          0.04330427272035316,
          0.04405446533679342,
          0.044724238859664124,
          0.045337019390527054,
          0.045817411556251554,
          0.046252546260681635,
          0.04661769497094679,
          0.04692406843334196,
          0.04717511102156543,
          0.04737584827807258,
          0.047532365976141445,
          0.04765053904370826,
          0.04773410731941186,
          0.047786591854912075,
          0.047811766084505825,
          0.047811380951022525,
          0.04778501934144592,
          0.04773902830345311,
          0.047674766056437584,
          0.047596603715601635,
          0.047503947531885166,
          0.0474020264576674,
          0.04729362583526271,
          0.04718147974518898,
          0.04706204273550102,
          0.04693875575167404,
          0.04681195925590706,
          0.046683020551306596,
          0.04654893026576291,
          0.0464147999895374,
          0.04627985392447673,
          0.046145730397169744,
          0.04601104366117909,
          0.04587834261030657,
          0.045745753143527294,
          0.045615046667515785,
          0.04548200901770355,
          0.04534766838204205,
          0.04521474132067775,
          0.04508034176532278,
          0.0449465200465414,
          0.044807676563070595
         ],
         "yaxis": "y2"
        }
       ],
       "layout": {
        "legend": {
         "title": {
          "text": "Legend"
         }
        },
        "template": {
         "data": {
          "bar": [
           {
            "error_x": {
             "color": "#2a3f5f"
            },
            "error_y": {
             "color": "#2a3f5f"
            },
            "marker": {
             "line": {
              "color": "#E5ECF6",
              "width": 0.5
             },
             "pattern": {
              "fillmode": "overlay",
              "size": 10,
              "solidity": 0.2
             }
            },
            "type": "bar"
           }
          ],
          "barpolar": [
           {
            "marker": {
             "line": {
              "color": "#E5ECF6",
              "width": 0.5
             },
             "pattern": {
              "fillmode": "overlay",
              "size": 10,
              "solidity": 0.2
             }
            },
            "type": "barpolar"
           }
          ],
          "carpet": [
           {
            "aaxis": {
             "endlinecolor": "#2a3f5f",
             "gridcolor": "white",
             "linecolor": "white",
             "minorgridcolor": "white",
             "startlinecolor": "#2a3f5f"
            },
            "baxis": {
             "endlinecolor": "#2a3f5f",
             "gridcolor": "white",
             "linecolor": "white",
             "minorgridcolor": "white",
             "startlinecolor": "#2a3f5f"
            },
            "type": "carpet"
           }
          ],
          "choropleth": [
           {
            "colorbar": {
             "outlinewidth": 0,
             "ticks": ""
            },
            "type": "choropleth"
           }
          ],
          "contour": [
           {
            "colorbar": {
             "outlinewidth": 0,
             "ticks": ""
            },
            "colorscale": [
             [
              0,
              "#0d0887"
             ],
             [
              0.1111111111111111,
              "#46039f"
             ],
             [
              0.2222222222222222,
              "#7201a8"
             ],
             [
              0.3333333333333333,
              "#9c179e"
             ],
             [
              0.4444444444444444,
              "#bd3786"
             ],
             [
              0.5555555555555556,
              "#d8576b"
             ],
             [
              0.6666666666666666,
              "#ed7953"
             ],
             [
              0.7777777777777778,
              "#fb9f3a"
             ],
             [
              0.8888888888888888,
              "#fdca26"
             ],
             [
              1,
              "#f0f921"
             ]
            ],
            "type": "contour"
           }
          ],
          "contourcarpet": [
           {
            "colorbar": {
             "outlinewidth": 0,
             "ticks": ""
            },
            "type": "contourcarpet"
           }
          ],
          "heatmap": [
           {
            "colorbar": {
             "outlinewidth": 0,
             "ticks": ""
            },
            "colorscale": [
             [
              0,
              "#0d0887"
             ],
             [
              0.1111111111111111,
              "#46039f"
             ],
             [
              0.2222222222222222,
              "#7201a8"
             ],
             [
              0.3333333333333333,
              "#9c179e"
             ],
             [
              0.4444444444444444,
              "#bd3786"
             ],
             [
              0.5555555555555556,
              "#d8576b"
             ],
             [
              0.6666666666666666,
              "#ed7953"
             ],
             [
              0.7777777777777778,
              "#fb9f3a"
             ],
             [
              0.8888888888888888,
              "#fdca26"
             ],
             [
              1,
              "#f0f921"
             ]
            ],
            "type": "heatmap"
           }
          ],
          "heatmapgl": [
           {
            "colorbar": {
             "outlinewidth": 0,
             "ticks": ""
            },
            "colorscale": [
             [
              0,
              "#0d0887"
             ],
             [
              0.1111111111111111,
              "#46039f"
             ],
             [
              0.2222222222222222,
              "#7201a8"
             ],
             [
              0.3333333333333333,
              "#9c179e"
             ],
             [
              0.4444444444444444,
              "#bd3786"
             ],
             [
              0.5555555555555556,
              "#d8576b"
             ],
             [
              0.6666666666666666,
              "#ed7953"
             ],
             [
              0.7777777777777778,
              "#fb9f3a"
             ],
             [
              0.8888888888888888,
              "#fdca26"
             ],
             [
              1,
              "#f0f921"
             ]
            ],
            "type": "heatmapgl"
           }
          ],
          "histogram": [
           {
            "marker": {
             "pattern": {
              "fillmode": "overlay",
              "size": 10,
              "solidity": 0.2
             }
            },
            "type": "histogram"
           }
          ],
          "histogram2d": [
           {
            "colorbar": {
             "outlinewidth": 0,
             "ticks": ""
            },
            "colorscale": [
             [
              0,
              "#0d0887"
             ],
             [
              0.1111111111111111,
              "#46039f"
             ],
             [
              0.2222222222222222,
              "#7201a8"
             ],
             [
              0.3333333333333333,
              "#9c179e"
             ],
             [
              0.4444444444444444,
              "#bd3786"
             ],
             [
              0.5555555555555556,
              "#d8576b"
             ],
             [
              0.6666666666666666,
              "#ed7953"
             ],
             [
              0.7777777777777778,
              "#fb9f3a"
             ],
             [
              0.8888888888888888,
              "#fdca26"
             ],
             [
              1,
              "#f0f921"
             ]
            ],
            "type": "histogram2d"
           }
          ],
          "histogram2dcontour": [
           {
            "colorbar": {
             "outlinewidth": 0,
             "ticks": ""
            },
            "colorscale": [
             [
              0,
              "#0d0887"
             ],
             [
              0.1111111111111111,
              "#46039f"
             ],
             [
              0.2222222222222222,
              "#7201a8"
             ],
             [
              0.3333333333333333,
              "#9c179e"
             ],
             [
              0.4444444444444444,
              "#bd3786"
             ],
             [
              0.5555555555555556,
              "#d8576b"
             ],
             [
              0.6666666666666666,
              "#ed7953"
             ],
             [
              0.7777777777777778,
              "#fb9f3a"
             ],
             [
              0.8888888888888888,
              "#fdca26"
             ],
             [
              1,
              "#f0f921"
             ]
            ],
            "type": "histogram2dcontour"
           }
          ],
          "mesh3d": [
           {
            "colorbar": {
             "outlinewidth": 0,
             "ticks": ""
            },
            "type": "mesh3d"
           }
          ],
          "parcoords": [
           {
            "line": {
             "colorbar": {
              "outlinewidth": 0,
              "ticks": ""
             }
            },
            "type": "parcoords"
           }
          ],
          "pie": [
           {
            "automargin": true,
            "type": "pie"
           }
          ],
          "scatter": [
           {
            "fillpattern": {
             "fillmode": "overlay",
             "size": 10,
             "solidity": 0.2
            },
            "type": "scatter"
           }
          ],
          "scatter3d": [
           {
            "line": {
             "colorbar": {
              "outlinewidth": 0,
              "ticks": ""
             }
            },
            "marker": {
             "colorbar": {
              "outlinewidth": 0,
              "ticks": ""
             }
            },
            "type": "scatter3d"
           }
          ],
          "scattercarpet": [
           {
            "marker": {
             "colorbar": {
              "outlinewidth": 0,
              "ticks": ""
             }
            },
            "type": "scattercarpet"
           }
          ],
          "scattergeo": [
           {
            "marker": {
             "colorbar": {
              "outlinewidth": 0,
              "ticks": ""
             }
            },
            "type": "scattergeo"
           }
          ],
          "scattergl": [
           {
            "marker": {
             "colorbar": {
              "outlinewidth": 0,
              "ticks": ""
             }
            },
            "type": "scattergl"
           }
          ],
          "scattermapbox": [
           {
            "marker": {
             "colorbar": {
              "outlinewidth": 0,
              "ticks": ""
             }
            },
            "type": "scattermapbox"
           }
          ],
          "scatterpolar": [
           {
            "marker": {
             "colorbar": {
              "outlinewidth": 0,
              "ticks": ""
             }
            },
            "type": "scatterpolar"
           }
          ],
          "scatterpolargl": [
           {
            "marker": {
             "colorbar": {
              "outlinewidth": 0,
              "ticks": ""
             }
            },
            "type": "scatterpolargl"
           }
          ],
          "scatterternary": [
           {
            "marker": {
             "colorbar": {
              "outlinewidth": 0,
              "ticks": ""
             }
            },
            "type": "scatterternary"
           }
          ],
          "surface": [
           {
            "colorbar": {
             "outlinewidth": 0,
             "ticks": ""
            },
            "colorscale": [
             [
              0,
              "#0d0887"
             ],
             [
              0.1111111111111111,
              "#46039f"
             ],
             [
              0.2222222222222222,
              "#7201a8"
             ],
             [
              0.3333333333333333,
              "#9c179e"
             ],
             [
              0.4444444444444444,
              "#bd3786"
             ],
             [
              0.5555555555555556,
              "#d8576b"
             ],
             [
              0.6666666666666666,
              "#ed7953"
             ],
             [
              0.7777777777777778,
              "#fb9f3a"
             ],
             [
              0.8888888888888888,
              "#fdca26"
             ],
             [
              1,
              "#f0f921"
             ]
            ],
            "type": "surface"
           }
          ],
          "table": [
           {
            "cells": {
             "fill": {
              "color": "#EBF0F8"
             },
             "line": {
              "color": "white"
             }
            },
            "header": {
             "fill": {
              "color": "#C8D4E3"
             },
             "line": {
              "color": "white"
             }
            },
            "type": "table"
           }
          ]
         },
         "layout": {
          "annotationdefaults": {
           "arrowcolor": "#2a3f5f",
           "arrowhead": 0,
           "arrowwidth": 1
          },
          "autotypenumbers": "strict",
          "coloraxis": {
           "colorbar": {
            "outlinewidth": 0,
            "ticks": ""
           }
          },
          "colorscale": {
           "diverging": [
            [
             0,
             "#8e0152"
            ],
            [
             0.1,
             "#c51b7d"
            ],
            [
             0.2,
             "#de77ae"
            ],
            [
             0.3,
             "#f1b6da"
            ],
            [
             0.4,
             "#fde0ef"
            ],
            [
             0.5,
             "#f7f7f7"
            ],
            [
             0.6,
             "#e6f5d0"
            ],
            [
             0.7,
             "#b8e186"
            ],
            [
             0.8,
             "#7fbc41"
            ],
            [
             0.9,
             "#4d9221"
            ],
            [
             1,
             "#276419"
            ]
           ],
           "sequential": [
            [
             0,
             "#0d0887"
            ],
            [
             0.1111111111111111,
             "#46039f"
            ],
            [
             0.2222222222222222,
             "#7201a8"
            ],
            [
             0.3333333333333333,
             "#9c179e"
            ],
            [
             0.4444444444444444,
             "#bd3786"
            ],
            [
             0.5555555555555556,
             "#d8576b"
            ],
            [
             0.6666666666666666,
             "#ed7953"
            ],
            [
             0.7777777777777778,
             "#fb9f3a"
            ],
            [
             0.8888888888888888,
             "#fdca26"
            ],
            [
             1,
             "#f0f921"
            ]
           ],
           "sequentialminus": [
            [
             0,
             "#0d0887"
            ],
            [
             0.1111111111111111,
             "#46039f"
            ],
            [
             0.2222222222222222,
             "#7201a8"
            ],
            [
             0.3333333333333333,
             "#9c179e"
            ],
            [
             0.4444444444444444,
             "#bd3786"
            ],
            [
             0.5555555555555556,
             "#d8576b"
            ],
            [
             0.6666666666666666,
             "#ed7953"
            ],
            [
             0.7777777777777778,
             "#fb9f3a"
            ],
            [
             0.8888888888888888,
             "#fdca26"
            ],
            [
             1,
             "#f0f921"
            ]
           ]
          },
          "colorway": [
           "#636efa",
           "#EF553B",
           "#00cc96",
           "#ab63fa",
           "#FFA15A",
           "#19d3f3",
           "#FF6692",
           "#B6E880",
           "#FF97FF",
           "#FECB52"
          ],
          "font": {
           "color": "#2a3f5f"
          },
          "geo": {
           "bgcolor": "white",
           "lakecolor": "white",
           "landcolor": "#E5ECF6",
           "showlakes": true,
           "showland": true,
           "subunitcolor": "white"
          },
          "hoverlabel": {
           "align": "left"
          },
          "hovermode": "closest",
          "mapbox": {
           "style": "light"
          },
          "paper_bgcolor": "white",
          "plot_bgcolor": "#E5ECF6",
          "polar": {
           "angularaxis": {
            "gridcolor": "white",
            "linecolor": "white",
            "ticks": ""
           },
           "bgcolor": "#E5ECF6",
           "radialaxis": {
            "gridcolor": "white",
            "linecolor": "white",
            "ticks": ""
           }
          },
          "scene": {
           "xaxis": {
            "backgroundcolor": "#E5ECF6",
            "gridcolor": "white",
            "gridwidth": 2,
            "linecolor": "white",
            "showbackground": true,
            "ticks": "",
            "zerolinecolor": "white"
           },
           "yaxis": {
            "backgroundcolor": "#E5ECF6",
            "gridcolor": "white",
            "gridwidth": 2,
            "linecolor": "white",
            "showbackground": true,
            "ticks": "",
            "zerolinecolor": "white"
           },
           "zaxis": {
            "backgroundcolor": "#E5ECF6",
            "gridcolor": "white",
            "gridwidth": 2,
            "linecolor": "white",
            "showbackground": true,
            "ticks": "",
            "zerolinecolor": "white"
           }
          },
          "shapedefaults": {
           "line": {
            "color": "#2a3f5f"
           }
          },
          "ternary": {
           "aaxis": {
            "gridcolor": "white",
            "linecolor": "white",
            "ticks": ""
           },
           "baxis": {
            "gridcolor": "white",
            "linecolor": "white",
            "ticks": ""
           },
           "bgcolor": "#E5ECF6",
           "caxis": {
            "gridcolor": "white",
            "linecolor": "white",
            "ticks": ""
           }
          },
          "title": {
           "x": 0.05
          },
          "xaxis": {
           "automargin": true,
           "gridcolor": "white",
           "linecolor": "white",
           "ticks": "",
           "title": {
            "standoff": 15
           },
           "zerolinecolor": "white",
           "zerolinewidth": 2
          },
          "yaxis": {
           "automargin": true,
           "gridcolor": "white",
           "linecolor": "white",
           "ticks": "",
           "title": {
            "standoff": 15
           },
           "zerolinecolor": "white",
           "zerolinewidth": 2
          }
         }
        },
        "title": {
         "text": "IR Bootstrap Curves with Shift (1 bps)"
        },
        "xaxis": {
         "anchor": "y",
         "domain": [
          0,
          0.94
         ],
         "title": {
          "text": "Time"
         }
        },
        "yaxis": {
         "anchor": "x",
         "domain": [
          0,
          1
         ],
         "tickfont": {
          "color": "blue"
         },
         "title": {
          "text": "Discounts"
         }
        },
        "yaxis2": {
         "anchor": "x",
         "overlaying": "y",
         "side": "right",
         "tickfont": {
          "color": "red"
         },
         "title": {
          "text": "Zero Rates"
         }
        }
       }
      }
     },
     "metadata": {},
     "output_type": "display_data"
    }
   ],
   "source": [
    "# Create subplots with shared x-axis and separate y-axes\n",
    "fig = make_subplots(specs=[[{\"secondary_y\": True}]])\n",
    "\n",
    "# Add traces to the subplots\n",
    "fig.add_trace(\n",
    "    pltgo.Scatter(x=discCurve.index, y=discCurve_shift.values, opacity=0.8, mode='lines+markers', name='discounts'),\n",
    "    secondary_y=False  # Primary y-axis\n",
    ")\n",
    "fig.add_trace(\n",
    "    pltgo.Scatter(x=zeroCurve.index, y=zeroCurve_shift.values, opacity=0.8, mode='lines+markers', name='z-rates'),\n",
    "    secondary_y=True  # Secondary y-axis\n",
    ")\n",
    "\n",
    "# Customize the appearance of the y-axes\n",
    "fig.update_yaxes(title_text=\"Discounts\", secondary_y=False, tickfont=dict(color=\"blue\"))  # Customize primary y-axis\n",
    "fig.update_yaxes(title_text=\"Zero Rates\", secondary_y=True, tickfont=dict(color=\"red\"))  # Customize secondary y-axis\n",
    "\n",
    "fig.update_layout(title=\"IR Bootstrap Curves with Shift (1 bps)\",\n",
    "                  xaxis_title=\"Time\",\n",
    "                  yaxis_title=\"Discounts\",\n",
    "                  legend_title=\"Legend\")\n",
    "\n",
    "# Show the figure\n",
    "fig.show()"
   ]
  },
  {
   "cell_type": "code",
   "execution_count": 10,
   "metadata": {},
   "outputs": [
    {
     "data": {
      "application/vnd.plotly.v1+json": {
       "config": {
        "plotlyServerURL": "https://plot.ly"
       },
       "data": [
        {
         "mode": "lines+markers",
         "name": "discounts",
         "opacity": 0.8,
         "type": "scatter",
         "x": [
          "2008-02-19T00:00:00",
          "2008-02-20T00:00:00",
          "2008-02-26T00:00:00",
          "2008-03-19T00:00:00",
          "2008-06-19T00:00:00",
          "2008-09-18T00:00:00",
          "2008-12-17T00:00:00",
          "2009-03-17T00:00:00",
          "2009-06-18T00:00:00",
          "2009-09-17T00:00:00",
          "2009-12-16T00:00:00",
          "2010-02-19T00:00:00",
          "2011-02-21T00:00:00",
          "2012-02-20T00:00:00",
          "2013-02-19T00:00:00",
          "2014-02-19T00:00:00",
          "2015-02-19T00:00:00",
          "2016-02-19T00:00:00",
          "2017-02-20T00:00:00",
          "2018-02-19T00:00:00",
          "2019-02-19T00:00:00",
          "2020-02-19T00:00:00",
          "2021-02-19T00:00:00",
          "2022-02-21T00:00:00",
          "2023-02-20T00:00:00",
          "2024-02-19T00:00:00",
          "2025-02-19T00:00:00",
          "2026-02-19T00:00:00",
          "2027-02-19T00:00:00",
          "2028-02-21T00:00:00",
          "2029-02-19T00:00:00",
          "2030-02-19T00:00:00",
          "2031-02-19T00:00:00",
          "2032-02-19T00:00:00",
          "2033-02-21T00:00:00",
          "2034-02-20T00:00:00",
          "2035-02-19T00:00:00",
          "2036-02-19T00:00:00",
          "2037-02-19T00:00:00",
          "2038-02-19T00:00:00",
          "2039-02-21T00:00:00",
          "2040-02-20T00:00:00",
          "2041-02-19T00:00:00",
          "2042-02-19T00:00:00",
          "2043-02-19T00:00:00",
          "2044-02-19T00:00:00",
          "2045-02-20T00:00:00",
          "2046-02-19T00:00:00",
          "2047-02-19T00:00:00",
          "2048-02-19T00:00:00",
          "2049-02-19T00:00:00",
          "2050-02-21T00:00:00",
          "2051-02-20T00:00:00",
          "2052-02-19T00:00:00",
          "2053-02-19T00:00:00",
          "2054-02-19T00:00:00",
          "2055-02-19T00:00:00",
          "2056-02-21T00:00:00",
          "2057-02-19T00:00:00",
          "2058-02-19T00:00:00"
         ],
         "xaxis": "x",
         "y": [
          1,
          0.9998886235172139,
          0.9992092369122325,
          0.9966640822613312,
          0.9857872886797621,
          0.9760983596587144,
          0.9673303177784316,
          0.9590049560041208,
          0.9506603677429752,
          0.9424978753495874,
          0.9343020617942617,
          0.926896694630836,
          0.8916151560504275,
          0.8559911620712988,
          0.8198871039326494,
          0.7837539494992296,
          0.7478026807897062,
          0.7123706599132775,
          0.6777338389011456,
          0.6443005899927632,
          0.6120673707320364,
          0.5810755725229267,
          0.5519080516978822,
          0.5239095087488743,
          0.49760892033734255,
          0.4727370366935323,
          0.44918284457969493,
          0.4269817177713405,
          0.4060558861115732,
          0.38623714027730444,
          0.36774400016374553,
          0.3502322017646158,
          0.3337286774996549,
          0.31818730527076833,
          0.3034767918848401,
          0.2897278403658936,
          0.2767634201746833,
          0.26448589944550405,
          0.2528897555288847,
          0.2419180928907134,
          0.23145606704725935,
          0.22161082020590406,
          0.21227519880966947,
          0.2033852289089939,
          0.19493939510862515,
          0.18690912628298167,
          0.17926090204688222,
          0.17201860138908376,
          0.165097280739111,
          0.1584945601475837,
          0.15219495991170998,
          0.14613863058163537,
          0.1404126329070562,
          0.13493765044092593,
          0.12970295146016864,
          0.12471391645204163,
          0.11994094159292454,
          0.1153628598751218,
          0.11103702199000627,
          0.10690413347064442
         ],
         "yaxis": "y"
        },
        {
         "mode": "lines+markers",
         "name": "z-rates",
         "opacity": 0.8,
         "type": "scatter",
         "x": [
          "2008-02-20T00:00:00",
          "2008-02-26T00:00:00",
          "2008-03-19T00:00:00",
          "2008-06-19T00:00:00",
          "2008-09-18T00:00:00",
          "2008-12-17T00:00:00",
          "2009-03-17T00:00:00",
          "2009-06-18T00:00:00",
          "2009-09-17T00:00:00",
          "2009-12-16T00:00:00",
          "2010-02-19T00:00:00",
          "2011-02-21T00:00:00",
          "2012-02-20T00:00:00",
          "2013-02-19T00:00:00",
          "2014-02-19T00:00:00",
          "2015-02-19T00:00:00",
          "2016-02-19T00:00:00",
          "2017-02-20T00:00:00",
          "2018-02-19T00:00:00",
          "2019-02-19T00:00:00",
          "2020-02-19T00:00:00",
          "2021-02-19T00:00:00",
          "2022-02-21T00:00:00",
          "2023-02-20T00:00:00",
          "2024-02-19T00:00:00",
          "2025-02-19T00:00:00",
          "2026-02-19T00:00:00",
          "2027-02-19T00:00:00",
          "2028-02-21T00:00:00",
          "2029-02-19T00:00:00",
          "2030-02-19T00:00:00",
          "2031-02-19T00:00:00",
          "2032-02-19T00:00:00",
          "2033-02-21T00:00:00",
          "2034-02-20T00:00:00",
          "2035-02-19T00:00:00",
          "2036-02-19T00:00:00",
          "2037-02-19T00:00:00",
          "2038-02-19T00:00:00",
          "2039-02-21T00:00:00",
          "2040-02-20T00:00:00",
          "2041-02-19T00:00:00",
          "2042-02-19T00:00:00",
          "2043-02-19T00:00:00",
          "2044-02-19T00:00:00",
          "2045-02-20T00:00:00",
          "2046-02-19T00:00:00",
          "2047-02-19T00:00:00",
          "2048-02-19T00:00:00",
          "2049-02-19T00:00:00",
          "2050-02-21T00:00:00",
          "2051-02-20T00:00:00",
          "2052-02-19T00:00:00",
          "2053-02-19T00:00:00",
          "2054-02-19T00:00:00",
          "2055-02-19T00:00:00",
          "2056-02-21T00:00:00",
          "2057-02-19T00:00:00",
          "2058-02-19T00:00:00"
         ],
         "xaxis": "x",
         "y": [
          0.04076606293222405,
          0.041361968789955746,
          0.04217196276831697,
          0.04329894704705439,
          0.04176529465436613,
          0.040254245317286226,
          0.0390621958662763,
          0.03814734131882094,
          0.037584099712479335,
          0.037291368387867965,
          0.037949620231945966,
          0.0381658506511425,
          0.03884727187241848,
          0.03971481183633488,
          0.04060754220243027,
          0.04151441490121617,
          0.04239461415802045,
          0.04320737905823844,
          0.04395737838274974,
          0.04462695915778553,
          0.04523953811665058,
          0.045719773065852884,
          0.04615474791373853,
          0.04651975309692474,
          0.046825999555017525,
          0.04707694002136057,
          0.047277596725489146,
          0.04743405683202759,
          0.04755219485227858,
          0.04763575057696809,
          0.04768824632279065,
          0.04771345469325647,
          0.047713127471458235,
          0.04768685402328794,
          0.04764097232758008,
          0.04757684317121335,
          0.04749883354749146,
          0.04740635330193808,
          0.04730462393988077,
          0.04719642828097801,
          0.04708449535921513,
          0.04696528824085809,
          0.046842242278079156,
          0.04671569794301834,
          0.04658702044300756,
          0.04645320738354661,
          0.04631935975646441,
          0.04618470405922923,
          0.04605087517723023,
          0.04591649041747859,
          0.04578409329009822,
          0.04565181384179775,
          0.04552141945032611,
          0.04538870630140755,
          0.04525470073736344,
          0.045122111919643215,
          0.04498806205156301,
          0.0448545948866283,
          0.044716127867817895
         ],
         "yaxis": "y2"
        },
        {
         "mode": "lines+markers",
         "name": "discounts (1bp shift)",
         "opacity": 0.8,
         "type": "scatter",
         "x": [
          "2008-02-19T00:00:00",
          "2008-02-20T00:00:00",
          "2008-02-26T00:00:00",
          "2008-03-19T00:00:00",
          "2008-06-19T00:00:00",
          "2008-09-18T00:00:00",
          "2008-12-17T00:00:00",
          "2009-03-17T00:00:00",
          "2009-06-18T00:00:00",
          "2009-09-17T00:00:00",
          "2009-12-16T00:00:00",
          "2010-02-19T00:00:00",
          "2011-02-21T00:00:00",
          "2012-02-20T00:00:00",
          "2013-02-19T00:00:00",
          "2014-02-19T00:00:00",
          "2015-02-19T00:00:00",
          "2016-02-19T00:00:00",
          "2017-02-20T00:00:00",
          "2018-02-19T00:00:00",
          "2019-02-19T00:00:00",
          "2020-02-19T00:00:00",
          "2021-02-19T00:00:00",
          "2022-02-21T00:00:00",
          "2023-02-20T00:00:00",
          "2024-02-19T00:00:00",
          "2025-02-19T00:00:00",
          "2026-02-19T00:00:00",
          "2027-02-19T00:00:00",
          "2028-02-21T00:00:00",
          "2029-02-19T00:00:00",
          "2030-02-19T00:00:00",
          "2031-02-19T00:00:00",
          "2032-02-19T00:00:00",
          "2033-02-21T00:00:00",
          "2034-02-20T00:00:00",
          "2035-02-19T00:00:00",
          "2036-02-19T00:00:00",
          "2037-02-19T00:00:00",
          "2038-02-19T00:00:00",
          "2039-02-21T00:00:00",
          "2040-02-20T00:00:00",
          "2041-02-19T00:00:00",
          "2042-02-19T00:00:00",
          "2043-02-19T00:00:00",
          "2044-02-19T00:00:00",
          "2045-02-20T00:00:00",
          "2046-02-19T00:00:00",
          "2047-02-19T00:00:00",
          "2048-02-19T00:00:00",
          "2049-02-19T00:00:00",
          "2050-02-21T00:00:00",
          "2051-02-20T00:00:00",
          "2052-02-19T00:00:00",
          "2053-02-19T00:00:00",
          "2054-02-19T00:00:00",
          "2055-02-19T00:00:00",
          "2056-02-21T00:00:00",
          "2057-02-19T00:00:00",
          "2058-02-19T00:00:00"
         ],
         "xaxis": "x",
         "y": [
          1,
          0.9998883458013854,
          0.9992072955455338,
          0.9966560804257162,
          0.9857544575868536,
          0.9760414227686302,
          0.9672499305070212,
          0.9589014943716482,
          0.9505334615386278,
          0.9423484449389175,
          0.9341307827478963,
          0.9267185437815338,
          0.8913575137678866,
          0.8556615534633888,
          0.8194924077336458,
          0.7833006968623384,
          0.747297432622568,
          0.7118196774814116,
          0.67714287967686,
          0.6436753388098405,
          0.6114127401742023,
          0.5803962420880322,
          0.5512079392682236,
          0.5231923756854254,
          0.4968782546462186,
          0.47199584569287023,
          0.44843380923263526,
          0.42622724065040574,
          0.40529811828493006,
          0.3854779961512754,
          0.36698519868917523,
          0.3494752453264506,
          0.33297490339937924,
          0.3174378769877712,
          0.302732758889261,
          0.28899004491221075,
          0.2760326369772948,
          0.2637628423410305,
          0.2521750215502099,
          0.2412122131392808,
          0.2307595796780928,
          0.2209240585489362,
          0.21159849905357236,
          0.20271891545132462,
          0.19428371412623058,
          0.18626428254689822,
          0.17862707522700355,
          0.17139586049137606,
          0.1644857599423546,
          0.1578943380970626,
          0.15160608520883415,
          0.14556120823007512,
          0.1398465547073165,
          0.1343829050742912,
          0.1291595149755264,
          0.1241817104947093,
          0.11941989984238634,
          0.11485294070828801,
          0.11053799528531419,
          0.10641590146980463
         ],
         "yaxis": "y"
        },
        {
         "mode": "lines+markers",
         "name": "z-rates (1bp shift)",
         "opacity": 0.8,
         "type": "scatter",
         "x": [
          "2008-02-20T00:00:00",
          "2008-02-26T00:00:00",
          "2008-03-19T00:00:00",
          "2008-06-19T00:00:00",
          "2008-09-18T00:00:00",
          "2008-12-17T00:00:00",
          "2009-03-17T00:00:00",
          "2009-06-18T00:00:00",
          "2009-09-17T00:00:00",
          "2009-12-16T00:00:00",
          "2010-02-19T00:00:00",
          "2011-02-21T00:00:00",
          "2012-02-20T00:00:00",
          "2013-02-19T00:00:00",
          "2014-02-19T00:00:00",
          "2015-02-19T00:00:00",
          "2016-02-19T00:00:00",
          "2017-02-20T00:00:00",
          "2018-02-19T00:00:00",
          "2019-02-19T00:00:00",
          "2020-02-19T00:00:00",
          "2021-02-19T00:00:00",
          "2022-02-21T00:00:00",
          "2023-02-20T00:00:00",
          "2024-02-19T00:00:00",
          "2025-02-19T00:00:00",
          "2026-02-19T00:00:00",
          "2027-02-19T00:00:00",
          "2028-02-21T00:00:00",
          "2029-02-19T00:00:00",
          "2030-02-19T00:00:00",
          "2031-02-19T00:00:00",
          "2032-02-19T00:00:00",
          "2033-02-21T00:00:00",
          "2034-02-20T00:00:00",
          "2035-02-19T00:00:00",
          "2036-02-19T00:00:00",
          "2037-02-19T00:00:00",
          "2038-02-19T00:00:00",
          "2039-02-21T00:00:00",
          "2040-02-20T00:00:00",
          "2041-02-19T00:00:00",
          "2042-02-19T00:00:00",
          "2043-02-19T00:00:00",
          "2044-02-19T00:00:00",
          "2045-02-20T00:00:00",
          "2046-02-19T00:00:00",
          "2047-02-19T00:00:00",
          "2048-02-19T00:00:00",
          "2049-02-19T00:00:00",
          "2050-02-21T00:00:00",
          "2051-02-20T00:00:00",
          "2052-02-19T00:00:00",
          "2053-02-19T00:00:00",
          "2054-02-19T00:00:00",
          "2055-02-19T00:00:00",
          "2056-02-21T00:00:00",
          "2057-02-19T00:00:00",
          "2058-02-19T00:00:00"
         ],
         "xaxis": "x",
         "y": [
          0.04086771826156362,
          0.04146355496369392,
          0.04227328987658547,
          0.0433996877723893,
          0.041866001281400625,
          0.04035496275684381,
          0.039162877286122284,
          0.03824799133382305,
          0.03768472727508006,
          0.037391978245543196,
          0.03804571254917883,
          0.03826199764025259,
          0.038943489878612465,
          0.0398111085758052,
          0.040703949166473866,
          0.041610962991619746,
          0.04249133270133725,
          0.04330427272035316,
          0.04405446533679342,
          0.044724238859664124,
          0.045337019390527054,
          0.045817411556251554,
          0.046252546260681635,
          0.04661769497094679,
          0.04692406843334196,
          0.04717511102156543,
          0.04737584827807258,
          0.047532365976141445,
          0.04765053904370826,
          0.04773410731941186,
          0.047786591854912075,
          0.047811766084505825,
          0.047811380951022525,
          0.04778501934144592,
          0.04773902830345311,
          0.047674766056437584,
          0.047596603715601635,
          0.047503947531885166,
          0.0474020264576674,
          0.04729362583526271,
          0.04718147974518898,
          0.04706204273550102,
          0.04693875575167404,
          0.04681195925590706,
          0.046683020551306596,
          0.04654893026576291,
          0.0464147999895374,
          0.04627985392447673,
          0.046145730397169744,
          0.04601104366117909,
          0.04587834261030657,
          0.045745753143527294,
          0.045615046667515785,
          0.04548200901770355,
          0.04534766838204205,
          0.04521474132067775,
          0.04508034176532278,
          0.0449465200465414,
          0.044807676563070595
         ],
         "yaxis": "y2"
        }
       ],
       "layout": {
        "legend": {
         "title": {
          "text": "Legend"
         }
        },
        "template": {
         "data": {
          "bar": [
           {
            "error_x": {
             "color": "#2a3f5f"
            },
            "error_y": {
             "color": "#2a3f5f"
            },
            "marker": {
             "line": {
              "color": "#E5ECF6",
              "width": 0.5
             },
             "pattern": {
              "fillmode": "overlay",
              "size": 10,
              "solidity": 0.2
             }
            },
            "type": "bar"
           }
          ],
          "barpolar": [
           {
            "marker": {
             "line": {
              "color": "#E5ECF6",
              "width": 0.5
             },
             "pattern": {
              "fillmode": "overlay",
              "size": 10,
              "solidity": 0.2
             }
            },
            "type": "barpolar"
           }
          ],
          "carpet": [
           {
            "aaxis": {
             "endlinecolor": "#2a3f5f",
             "gridcolor": "white",
             "linecolor": "white",
             "minorgridcolor": "white",
             "startlinecolor": "#2a3f5f"
            },
            "baxis": {
             "endlinecolor": "#2a3f5f",
             "gridcolor": "white",
             "linecolor": "white",
             "minorgridcolor": "white",
             "startlinecolor": "#2a3f5f"
            },
            "type": "carpet"
           }
          ],
          "choropleth": [
           {
            "colorbar": {
             "outlinewidth": 0,
             "ticks": ""
            },
            "type": "choropleth"
           }
          ],
          "contour": [
           {
            "colorbar": {
             "outlinewidth": 0,
             "ticks": ""
            },
            "colorscale": [
             [
              0,
              "#0d0887"
             ],
             [
              0.1111111111111111,
              "#46039f"
             ],
             [
              0.2222222222222222,
              "#7201a8"
             ],
             [
              0.3333333333333333,
              "#9c179e"
             ],
             [
              0.4444444444444444,
              "#bd3786"
             ],
             [
              0.5555555555555556,
              "#d8576b"
             ],
             [
              0.6666666666666666,
              "#ed7953"
             ],
             [
              0.7777777777777778,
              "#fb9f3a"
             ],
             [
              0.8888888888888888,
              "#fdca26"
             ],
             [
              1,
              "#f0f921"
             ]
            ],
            "type": "contour"
           }
          ],
          "contourcarpet": [
           {
            "colorbar": {
             "outlinewidth": 0,
             "ticks": ""
            },
            "type": "contourcarpet"
           }
          ],
          "heatmap": [
           {
            "colorbar": {
             "outlinewidth": 0,
             "ticks": ""
            },
            "colorscale": [
             [
              0,
              "#0d0887"
             ],
             [
              0.1111111111111111,
              "#46039f"
             ],
             [
              0.2222222222222222,
              "#7201a8"
             ],
             [
              0.3333333333333333,
              "#9c179e"
             ],
             [
              0.4444444444444444,
              "#bd3786"
             ],
             [
              0.5555555555555556,
              "#d8576b"
             ],
             [
              0.6666666666666666,
              "#ed7953"
             ],
             [
              0.7777777777777778,
              "#fb9f3a"
             ],
             [
              0.8888888888888888,
              "#fdca26"
             ],
             [
              1,
              "#f0f921"
             ]
            ],
            "type": "heatmap"
           }
          ],
          "heatmapgl": [
           {
            "colorbar": {
             "outlinewidth": 0,
             "ticks": ""
            },
            "colorscale": [
             [
              0,
              "#0d0887"
             ],
             [
              0.1111111111111111,
              "#46039f"
             ],
             [
              0.2222222222222222,
              "#7201a8"
             ],
             [
              0.3333333333333333,
              "#9c179e"
             ],
             [
              0.4444444444444444,
              "#bd3786"
             ],
             [
              0.5555555555555556,
              "#d8576b"
             ],
             [
              0.6666666666666666,
              "#ed7953"
             ],
             [
              0.7777777777777778,
              "#fb9f3a"
             ],
             [
              0.8888888888888888,
              "#fdca26"
             ],
             [
              1,
              "#f0f921"
             ]
            ],
            "type": "heatmapgl"
           }
          ],
          "histogram": [
           {
            "marker": {
             "pattern": {
              "fillmode": "overlay",
              "size": 10,
              "solidity": 0.2
             }
            },
            "type": "histogram"
           }
          ],
          "histogram2d": [
           {
            "colorbar": {
             "outlinewidth": 0,
             "ticks": ""
            },
            "colorscale": [
             [
              0,
              "#0d0887"
             ],
             [
              0.1111111111111111,
              "#46039f"
             ],
             [
              0.2222222222222222,
              "#7201a8"
             ],
             [
              0.3333333333333333,
              "#9c179e"
             ],
             [
              0.4444444444444444,
              "#bd3786"
             ],
             [
              0.5555555555555556,
              "#d8576b"
             ],
             [
              0.6666666666666666,
              "#ed7953"
             ],
             [
              0.7777777777777778,
              "#fb9f3a"
             ],
             [
              0.8888888888888888,
              "#fdca26"
             ],
             [
              1,
              "#f0f921"
             ]
            ],
            "type": "histogram2d"
           }
          ],
          "histogram2dcontour": [
           {
            "colorbar": {
             "outlinewidth": 0,
             "ticks": ""
            },
            "colorscale": [
             [
              0,
              "#0d0887"
             ],
             [
              0.1111111111111111,
              "#46039f"
             ],
             [
              0.2222222222222222,
              "#7201a8"
             ],
             [
              0.3333333333333333,
              "#9c179e"
             ],
             [
              0.4444444444444444,
              "#bd3786"
             ],
             [
              0.5555555555555556,
              "#d8576b"
             ],
             [
              0.6666666666666666,
              "#ed7953"
             ],
             [
              0.7777777777777778,
              "#fb9f3a"
             ],
             [
              0.8888888888888888,
              "#fdca26"
             ],
             [
              1,
              "#f0f921"
             ]
            ],
            "type": "histogram2dcontour"
           }
          ],
          "mesh3d": [
           {
            "colorbar": {
             "outlinewidth": 0,
             "ticks": ""
            },
            "type": "mesh3d"
           }
          ],
          "parcoords": [
           {
            "line": {
             "colorbar": {
              "outlinewidth": 0,
              "ticks": ""
             }
            },
            "type": "parcoords"
           }
          ],
          "pie": [
           {
            "automargin": true,
            "type": "pie"
           }
          ],
          "scatter": [
           {
            "fillpattern": {
             "fillmode": "overlay",
             "size": 10,
             "solidity": 0.2
            },
            "type": "scatter"
           }
          ],
          "scatter3d": [
           {
            "line": {
             "colorbar": {
              "outlinewidth": 0,
              "ticks": ""
             }
            },
            "marker": {
             "colorbar": {
              "outlinewidth": 0,
              "ticks": ""
             }
            },
            "type": "scatter3d"
           }
          ],
          "scattercarpet": [
           {
            "marker": {
             "colorbar": {
              "outlinewidth": 0,
              "ticks": ""
             }
            },
            "type": "scattercarpet"
           }
          ],
          "scattergeo": [
           {
            "marker": {
             "colorbar": {
              "outlinewidth": 0,
              "ticks": ""
             }
            },
            "type": "scattergeo"
           }
          ],
          "scattergl": [
           {
            "marker": {
             "colorbar": {
              "outlinewidth": 0,
              "ticks": ""
             }
            },
            "type": "scattergl"
           }
          ],
          "scattermapbox": [
           {
            "marker": {
             "colorbar": {
              "outlinewidth": 0,
              "ticks": ""
             }
            },
            "type": "scattermapbox"
           }
          ],
          "scatterpolar": [
           {
            "marker": {
             "colorbar": {
              "outlinewidth": 0,
              "ticks": ""
             }
            },
            "type": "scatterpolar"
           }
          ],
          "scatterpolargl": [
           {
            "marker": {
             "colorbar": {
              "outlinewidth": 0,
              "ticks": ""
             }
            },
            "type": "scatterpolargl"
           }
          ],
          "scatterternary": [
           {
            "marker": {
             "colorbar": {
              "outlinewidth": 0,
              "ticks": ""
             }
            },
            "type": "scatterternary"
           }
          ],
          "surface": [
           {
            "colorbar": {
             "outlinewidth": 0,
             "ticks": ""
            },
            "colorscale": [
             [
              0,
              "#0d0887"
             ],
             [
              0.1111111111111111,
              "#46039f"
             ],
             [
              0.2222222222222222,
              "#7201a8"
             ],
             [
              0.3333333333333333,
              "#9c179e"
             ],
             [
              0.4444444444444444,
              "#bd3786"
             ],
             [
              0.5555555555555556,
              "#d8576b"
             ],
             [
              0.6666666666666666,
              "#ed7953"
             ],
             [
              0.7777777777777778,
              "#fb9f3a"
             ],
             [
              0.8888888888888888,
              "#fdca26"
             ],
             [
              1,
              "#f0f921"
             ]
            ],
            "type": "surface"
           }
          ],
          "table": [
           {
            "cells": {
             "fill": {
              "color": "#EBF0F8"
             },
             "line": {
              "color": "white"
             }
            },
            "header": {
             "fill": {
              "color": "#C8D4E3"
             },
             "line": {
              "color": "white"
             }
            },
            "type": "table"
           }
          ]
         },
         "layout": {
          "annotationdefaults": {
           "arrowcolor": "#2a3f5f",
           "arrowhead": 0,
           "arrowwidth": 1
          },
          "autotypenumbers": "strict",
          "coloraxis": {
           "colorbar": {
            "outlinewidth": 0,
            "ticks": ""
           }
          },
          "colorscale": {
           "diverging": [
            [
             0,
             "#8e0152"
            ],
            [
             0.1,
             "#c51b7d"
            ],
            [
             0.2,
             "#de77ae"
            ],
            [
             0.3,
             "#f1b6da"
            ],
            [
             0.4,
             "#fde0ef"
            ],
            [
             0.5,
             "#f7f7f7"
            ],
            [
             0.6,
             "#e6f5d0"
            ],
            [
             0.7,
             "#b8e186"
            ],
            [
             0.8,
             "#7fbc41"
            ],
            [
             0.9,
             "#4d9221"
            ],
            [
             1,
             "#276419"
            ]
           ],
           "sequential": [
            [
             0,
             "#0d0887"
            ],
            [
             0.1111111111111111,
             "#46039f"
            ],
            [
             0.2222222222222222,
             "#7201a8"
            ],
            [
             0.3333333333333333,
             "#9c179e"
            ],
            [
             0.4444444444444444,
             "#bd3786"
            ],
            [
             0.5555555555555556,
             "#d8576b"
            ],
            [
             0.6666666666666666,
             "#ed7953"
            ],
            [
             0.7777777777777778,
             "#fb9f3a"
            ],
            [
             0.8888888888888888,
             "#fdca26"
            ],
            [
             1,
             "#f0f921"
            ]
           ],
           "sequentialminus": [
            [
             0,
             "#0d0887"
            ],
            [
             0.1111111111111111,
             "#46039f"
            ],
            [
             0.2222222222222222,
             "#7201a8"
            ],
            [
             0.3333333333333333,
             "#9c179e"
            ],
            [
             0.4444444444444444,
             "#bd3786"
            ],
            [
             0.5555555555555556,
             "#d8576b"
            ],
            [
             0.6666666666666666,
             "#ed7953"
            ],
            [
             0.7777777777777778,
             "#fb9f3a"
            ],
            [
             0.8888888888888888,
             "#fdca26"
            ],
            [
             1,
             "#f0f921"
            ]
           ]
          },
          "colorway": [
           "#636efa",
           "#EF553B",
           "#00cc96",
           "#ab63fa",
           "#FFA15A",
           "#19d3f3",
           "#FF6692",
           "#B6E880",
           "#FF97FF",
           "#FECB52"
          ],
          "font": {
           "color": "#2a3f5f"
          },
          "geo": {
           "bgcolor": "white",
           "lakecolor": "white",
           "landcolor": "#E5ECF6",
           "showlakes": true,
           "showland": true,
           "subunitcolor": "white"
          },
          "hoverlabel": {
           "align": "left"
          },
          "hovermode": "closest",
          "mapbox": {
           "style": "light"
          },
          "paper_bgcolor": "white",
          "plot_bgcolor": "#E5ECF6",
          "polar": {
           "angularaxis": {
            "gridcolor": "white",
            "linecolor": "white",
            "ticks": ""
           },
           "bgcolor": "#E5ECF6",
           "radialaxis": {
            "gridcolor": "white",
            "linecolor": "white",
            "ticks": ""
           }
          },
          "scene": {
           "xaxis": {
            "backgroundcolor": "#E5ECF6",
            "gridcolor": "white",
            "gridwidth": 2,
            "linecolor": "white",
            "showbackground": true,
            "ticks": "",
            "zerolinecolor": "white"
           },
           "yaxis": {
            "backgroundcolor": "#E5ECF6",
            "gridcolor": "white",
            "gridwidth": 2,
            "linecolor": "white",
            "showbackground": true,
            "ticks": "",
            "zerolinecolor": "white"
           },
           "zaxis": {
            "backgroundcolor": "#E5ECF6",
            "gridcolor": "white",
            "gridwidth": 2,
            "linecolor": "white",
            "showbackground": true,
            "ticks": "",
            "zerolinecolor": "white"
           }
          },
          "shapedefaults": {
           "line": {
            "color": "#2a3f5f"
           }
          },
          "ternary": {
           "aaxis": {
            "gridcolor": "white",
            "linecolor": "white",
            "ticks": ""
           },
           "baxis": {
            "gridcolor": "white",
            "linecolor": "white",
            "ticks": ""
           },
           "bgcolor": "#E5ECF6",
           "caxis": {
            "gridcolor": "white",
            "linecolor": "white",
            "ticks": ""
           }
          },
          "title": {
           "x": 0.05
          },
          "xaxis": {
           "automargin": true,
           "gridcolor": "white",
           "linecolor": "white",
           "ticks": "",
           "title": {
            "standoff": 15
           },
           "zerolinecolor": "white",
           "zerolinewidth": 2
          },
          "yaxis": {
           "automargin": true,
           "gridcolor": "white",
           "linecolor": "white",
           "ticks": "",
           "title": {
            "standoff": 15
           },
           "zerolinecolor": "white",
           "zerolinewidth": 2
          }
         }
        },
        "title": {
         "text": "IR Bootstrap Curves (Original vs Shifted by 1 bps)"
        },
        "xaxis": {
         "anchor": "y",
         "domain": [
          0,
          0.94
         ],
         "title": {
          "text": "Time"
         }
        },
        "yaxis": {
         "anchor": "x",
         "domain": [
          0,
          1
         ],
         "title": {
          "text": "Discounts"
         }
        },
        "yaxis2": {
         "anchor": "x",
         "overlaying": "y",
         "side": "right",
         "title": {
          "text": "Zero Rates"
         }
        }
       }
      }
     },
     "metadata": {},
     "output_type": "display_data"
    }
   ],
   "source": [
    "# Create a subplot with shared x-axis and secondary y-axis\n",
    "fig = make_subplots(specs=[[{\"secondary_y\": True}]])\n",
    "\n",
    "# Add traces to the subplots\n",
    "fig.add_trace(\n",
    "    pltgo.Scatter(x=discCurve.index, y=discCurve.values, opacity=0.8, mode='lines+markers', name='discounts'),\n",
    "    secondary_y=False  # Primary y-axis\n",
    ")\n",
    "fig.add_trace(\n",
    "    pltgo.Scatter(x=zeroCurve.index, y=zeroCurve.values, opacity=0.8, mode='lines+markers', name='z-rates'),\n",
    "    secondary_y=True  # Secondary y-axis\n",
    ")\n",
    "fig.add_trace(\n",
    "    pltgo.Scatter(x=discCurve.index, y=discCurve_shift.values, opacity=0.8, mode='lines+markers', name='discounts (1bp shift)'),\n",
    "    secondary_y=False  # Primary y-axis\n",
    ")\n",
    "fig.add_trace(\n",
    "    pltgo.Scatter(x=zeroCurve.index, y=zeroCurve_shift.values, opacity=0.8, mode='lines+markers', name='z-rates (1bp shift)'),\n",
    "    secondary_y=True  # Secondary y-axis\n",
    ")\n",
    "\n",
    "# Customize the appearance of the y-axes\n",
    "fig.update_yaxes(title_text=\"Discounts\", secondary_y=False)  # Customize primary y-axis\n",
    "fig.update_yaxes(title_text=\"Zero Rates\", secondary_y=True)  # Customize secondary y-axis\n",
    "\n",
    "fig.update_layout(\n",
    "    title=\"IR Bootstrap Curves (Original vs Shifted by 1 bps)\",\n",
    "    xaxis_title=\"Time\",\n",
    "    legend_title=\"Legend\"\n",
    ")\n",
    "\n",
    "# Show the figure\n",
    "fig.show()\n"
   ]
  },
  {
   "cell_type": "markdown",
   "metadata": {},
   "source": [
    "## Business Day Check"
   ]
  },
  {
   "cell_type": "markdown",
   "metadata": {},
   "source": [
    "This section is used to check if the date is a business day or not. If the date is not a business day, the date is shifted to the next business day."
   ]
  },
  {
   "cell_type": "code",
   "execution_count": 11,
   "metadata": {},
   "outputs": [
    {
     "name": "stdout",
     "output_type": "stream",
     "text": [
      "Day of the week: 6\n",
      "Following Business Day: 2023-05-29 00:00:00\n"
     ]
    }
   ],
   "source": [
    "day = pd.Timestamp('2023-05-27')  # 27th May 2023 - Saturday\n",
    "day.weekday()\n",
    "print(\"Day of the week:\", day.weekday() + 1)\n",
    "\n",
    "f_day = followingBday(day)\n",
    "print(\"Following Business Day:\", f_day)"
   ]
  },
  {
   "cell_type": "code",
   "execution_count": 12,
   "metadata": {},
   "outputs": [
    {
     "name": "stdout",
     "output_type": "stream",
     "text": [
      "Day of the week: 7\n",
      "Following Business Day: 2023-05-29 00:00:00\n"
     ]
    }
   ],
   "source": [
    "day = pd.Timestamp('2023-05-28')  # 28th May 2023 - Sunday\n",
    "day.weekday()\n",
    "print(\"Day of the week:\", day.weekday() + 1)\n",
    "\n",
    "f_day = followingBday(day)\n",
    "print(\"Following Business Day:\", f_day)"
   ]
  },
  {
   "cell_type": "markdown",
   "metadata": {},
   "source": [
    "## Relevant days"
   ]
  },
  {
   "cell_type": "markdown",
   "metadata": {},
   "source": [
    "We want to retrieve the relevant days for both Party A and Party B. The relevant days are the days when the cashflows are exchanged between the two parties. Every date is checked following the business day check and spot discount factors is calculated for each date, according to the proper day count convention for each party."
   ]
  },
  {
   "cell_type": "code",
   "execution_count": 13,
   "metadata": {},
   "outputs": [
    {
     "name": "stdout",
     "output_type": "stream",
     "text": [
      "Start Day (Tuesday): 2008-02-19 00:00:00\n",
      "Maturity Day (Monday): 2012-02-20 00:00:00\n"
     ]
    }
   ],
   "source": [
    "start_day = dtSettle # February 19th, 2008\n",
    "\n",
    "maturity_day = start_day + relativedelta(years=4)\n",
    "maturity_day = followingBday(maturity_day)\n",
    "\n",
    "print(\"Start Day (Tuesday):\", start_day)\n",
    "print(\"Maturity Day (Monday):\", maturity_day)"
   ]
  },
  {
   "cell_type": "code",
   "execution_count": 14,
   "metadata": {},
   "outputs": [
    {
     "data": {
      "text/plain": [
       "Timestamp('2008-02-19 00:00:00')"
      ]
     },
     "execution_count": 14,
     "metadata": {},
     "output_type": "execute_result"
    }
   ],
   "source": [
    "start_day"
   ]
  },
  {
   "cell_type": "code",
   "execution_count": 15,
   "metadata": {},
   "outputs": [
    {
     "data": {
      "text/plain": [
       "Timestamp('2012-02-20 00:00:00')"
      ]
     },
     "execution_count": 15,
     "metadata": {},
     "output_type": "execute_result"
    }
   ],
   "source": [
    "maturity_day"
   ]
  },
  {
   "cell_type": "markdown",
   "metadata": {},
   "source": [
    "### Party A: quarterly, subject to following business day convention"
   ]
  },
  {
   "cell_type": "code",
   "execution_count": 16,
   "metadata": {},
   "outputs": [
    {
     "data": {
      "text/plain": [
       "[Timestamp('2008-05-19 00:00:00'),\n",
       " Timestamp('2008-08-19 00:00:00'),\n",
       " Timestamp('2008-11-19 00:00:00'),\n",
       " Timestamp('2009-02-19 00:00:00'),\n",
       " Timestamp('2009-05-19 00:00:00'),\n",
       " Timestamp('2009-08-19 00:00:00'),\n",
       " Timestamp('2009-11-19 00:00:00'),\n",
       " Timestamp('2010-02-19 00:00:00'),\n",
       " Timestamp('2010-05-19 00:00:00'),\n",
       " Timestamp('2010-08-19 00:00:00'),\n",
       " Timestamp('2010-11-19 00:00:00'),\n",
       " Timestamp('2011-02-21 00:00:00'),\n",
       " Timestamp('2011-05-19 00:00:00'),\n",
       " Timestamp('2011-08-19 00:00:00'),\n",
       " Timestamp('2011-11-21 00:00:00'),\n",
       " Timestamp('2012-02-20 00:00:00')]"
      ]
     },
     "execution_count": 16,
     "metadata": {},
     "output_type": "execute_result"
    }
   ],
   "source": [
    "# quarterly payment dates\n",
    "payment_dates_A = [start_day + relativedelta(months=3 * i) for i in range(1, (4 * 4) + 1)]\n",
    "payment_dates_A = [followingBday(d) for d in payment_dates_A]\n",
    "\n",
    "payment_dates_A"
   ]
  },
  {
   "cell_type": "code",
   "execution_count": 17,
   "metadata": {},
   "outputs": [],
   "source": [
    "zr_payment_dates_A = [interpZeroRate(start_day, date, termDates, discounts) for date in payment_dates_A]\n",
    "disc_payment_dates_A = [np.exp(-zr * yearfrac(start_day, date, DC_CONV[\"PARTY_A\"])) for date, zr in zip(payment_dates_A, zr_payment_dates_A)]"
   ]
  },
  {
   "cell_type": "code",
   "execution_count": 18,
   "metadata": {},
   "outputs": [
    {
     "data": {
      "text/plain": [
       "[0.9893275583907681,\n",
       " 0.9788564411336942,\n",
       " 0.9694796885672654,\n",
       " 0.9607284297053306,\n",
       " 0.9525744687650304,\n",
       " 0.9442354906176196,\n",
       " 0.9358050928538152,\n",
       " 0.9258354015947787,\n",
       " 0.9170803001223348,\n",
       " 0.9080923501959123,\n",
       " 0.8991675761590292,\n",
       " 0.8901139021632458,\n",
       " 0.8814688951194966,\n",
       " 0.8723436361905355,\n",
       " 0.8630390659310103,\n",
       " 0.8540520936725212]"
      ]
     },
     "execution_count": 18,
     "metadata": {},
     "output_type": "execute_result"
    }
   ],
   "source": [
    "disc_payment_dates_A"
   ]
  },
  {
   "cell_type": "markdown",
   "metadata": {},
   "source": [
    "### Party B: annualy, subject to following business day convention"
   ]
  },
  {
   "cell_type": "code",
   "execution_count": 19,
   "metadata": {},
   "outputs": [
    {
     "data": {
      "text/plain": [
       "[Timestamp('2009-02-19 00:00:00'),\n",
       " Timestamp('2010-02-19 00:00:00'),\n",
       " Timestamp('2011-02-21 00:00:00'),\n",
       " Timestamp('2012-02-20 00:00:00')]"
      ]
     },
     "execution_count": 19,
     "metadata": {},
     "output_type": "execute_result"
    }
   ],
   "source": [
    "# annual payment dates, coupon dates\n",
    "payment_dates_B = [start_day + relativedelta(years=i) for i in range(1, 5)]\n",
    "payment_dates_B = [followingBday(d) for d in payment_dates_B]\n",
    "\n",
    "payment_dates_B"
   ]
  },
  {
   "cell_type": "code",
   "execution_count": 20,
   "metadata": {},
   "outputs": [],
   "source": [
    "zr_payment_dates_B = [interpZeroRate(start_day, date, termDates, discounts) for date in payment_dates_B]\n",
    "disc_payment_dates_B = [np.exp(-zr * yearfrac(start_day, date, DC_CONV[\"PARTY_B\"])) for date, zr in zip(payment_dates_B, zr_payment_dates_B)]"
   ]
  },
  {
   "cell_type": "code",
   "execution_count": 21,
   "metadata": {},
   "outputs": [
    {
     "data": {
      "text/plain": [
       "[0.961359622938438, 0.926909596835314, 0.8916250480825645, 0.85598964782303]"
      ]
     },
     "execution_count": 21,
     "metadata": {},
     "output_type": "execute_result"
    }
   ],
   "source": [
    "disc_payment_dates_B"
   ]
  },
  {
   "cell_type": "markdown",
   "metadata": {},
   "source": [
    "## Asian Option: Pricing"
   ]
  },
  {
   "cell_type": "markdown",
   "metadata": {},
   "source": [
    "We use antithetic variates Monte Carlo simulation to price the Asian option (cumulated coupon payment)."
   ]
  },
  {
   "cell_type": "code",
   "execution_count": 22,
   "metadata": {},
   "outputs": [],
   "source": [
    "def asian_option_pricer_MC(S0 = 6.13, \n",
    "                           K = 1,\n",
    "                           sigma = 0.16, \n",
    "                           d = 0.04,\n",
    "                           start_day = dtSettle, \n",
    "                           dates = payment_dates_B,\n",
    "                           alpha = 1.2, \n",
    "                           n_sim = 100000, # default 100000\n",
    "                           bs_dates = termDates,\n",
    "                           bs_discounts = discounts,\n",
    "                           seed = SEED):\n",
    "    \n",
    "    np.random.seed(seed)\n",
    "    \n",
    "    # ANTI-THETIC VARIATES MC\n",
    "    g_pos = np.random.standard_normal(size=int(n_sim/2))\n",
    "    g_neg = -g_pos\n",
    "    g = np.concatenate([g_pos,g_neg])\n",
    "    \n",
    "    S_hist = [S0] # list average performances of the underlying\n",
    "    payoff_hist = [] # list of average payoffs \n",
    "    delta_T = 0.0 # cumulative time interval\n",
    "    dates = [start_day] + dates\n",
    "    zero_rates = [] # list of zero rates through forward rates\n",
    "    \n",
    "    price = 0.0 # initial price\n",
    "    t_0 = start_day # initial date\n",
    "    S_init = S0 # initial price of the underlying\n",
    "    \n",
    "    for i in range(len(dates)-1):\n",
    "        \n",
    "        #np.random.seed(seed)\n",
    "        \n",
    "        # get the dates\n",
    "        t_1 = dates[i]\n",
    "        t_2 = dates[i+1]\n",
    "\n",
    "        # retrieve the zero rates\n",
    "        zR1 = interpZeroRate(t_0, t_1, bs_dates, bs_discounts)\n",
    "        zR2 = interpZeroRate(t_0, t_2, bs_dates, bs_discounts)\n",
    "        \n",
    "        # get the discount factors\n",
    "        B_01 = np.exp(-zR1 * yearfrac(t_0, t_1, DC_CONV[\"PARTY_B\"]))\n",
    "        if i == 0:\n",
    "            B_01 = 1.0\n",
    "        B_02 = np.exp(-zR2 * yearfrac(t_0, t_2, DC_CONV[\"PARTY_B\"]))\n",
    "        \n",
    "        # compute the forward discount factor\n",
    "        B_012 = B_02 / B_01\n",
    "        \n",
    "        # compute the time interval with proper day count convention\n",
    "        delta_t = yearfrac(t_1, t_2, DC_CONV[\"PARTY_B\"])\n",
    "        \n",
    "        # update the comulative time interval\n",
    "        delta_T += delta_t\n",
    "        \n",
    "        # compute the corresponding forward zero rate\n",
    "        z_012 = -np.log(B_012) / delta_t\n",
    "\n",
    "        # append the zero rate to the history\n",
    "        zero_rates.append(z_012)\n",
    "        \n",
    "        \"\"\"\n",
    "        CHECK: smoothness of the price wrt the underlying price\n",
    "        \"\"\"\n",
    "        \n",
    "        # compute the price of the underlying\n",
    "        S = S_init * np.exp((z_012 - d - 0.5 * sigma**2) * delta_t + sigma * np.sqrt(delta_t) * g)\n",
    "        \n",
    "        # compute the average price of the underlying up to the current monitoring date\n",
    "        S_init = np.mean(S)\n",
    "\n",
    "        # append the price to the history\n",
    "        S_hist.append(S_init)\n",
    "        \n",
    "        # collect all the monte carlo paths\n",
    "        if i == 0:\n",
    "            S_tn_mat = np.array(S)/S0\n",
    "        else:\n",
    "            S_tn_mat = np.column_stack((S_tn_mat, np.array(S)/S0))\n",
    "        \n",
    "        # compute the average performance of the underlying up to the current monitoring date\n",
    "        if i == 0:\n",
    "            S_tn = S_tn_mat # for i == 0, we have only one value\n",
    "        else:\n",
    "            S_tn = np.mean(S_tn_mat, axis=1) # considering the cumulative average performance over time\n",
    "            \n",
    "        \n",
    "        # compute the payoffs for each path of the monte carlo simulation\n",
    "        payoff = alpha * np.maximum(0, S_tn - K)\n",
    "        \n",
    "        # compute the average payoff for the current monitoring date\n",
    "        payoff = np.mean(payoff) \n",
    "        \n",
    "        # append the payoff to the history\n",
    "        payoff_hist.append(payoff) # considering the average payoff of the average performance\n",
    "        \n",
    "        # update the price of the option up to the current monitoring date\n",
    "        price += payoff * np.exp(-zR2 * delta_T) # discounting the payoffs\n",
    "        \n",
    "    #print(\"S_hist:\", S_hist)\n",
    "    #print(\"payoff_hist:\", payoff_hist)\n",
    "    #print(\"Elapsed time:\", delta_T)\n",
    "        \n",
    "    return price, S_hist, payoff_hist, zero_rates"
   ]
  },
  {
   "cell_type": "code",
   "execution_count": 23,
   "metadata": {},
   "outputs": [],
   "source": [
    "\"\"\"\n",
    "Precision adjusted version of the asian_option_pricer_MC function\n",
    "\"\"\"\n",
    "\n",
    "def asian_option_pricer_MC_precision(S0=6.13, \n",
    "                           K=1,\n",
    "                           sigma=0.16, \n",
    "                           d=0.04,\n",
    "                           start_day=dtSettle, \n",
    "                           dates=payment_dates_B,\n",
    "                           alpha=1.2, \n",
    "                           n_sim=100000,  \n",
    "                           bs_dates=termDates,\n",
    "                           bs_discounts=discounts,\n",
    "                           seed=SEED):\n",
    "    \n",
    "    getcontext().prec = 15\n",
    "\n",
    "    np.random.seed(seed)\n",
    "    \n",
    "    # ANTI-THETIC VARIATES MC\n",
    "    g_pos = np.random.standard_normal(size=int(n_sim / 2))\n",
    "    g_neg = -g_pos\n",
    "    g = np.concatenate([g_pos, g_neg])\n",
    "    \n",
    "    S_hist = [S0]  # List average performances of the underlying\n",
    "    payoff_hist = []  # List of average payoffs \n",
    "    delta_T = 0.0\n",
    "    dates = [start_day] + dates\n",
    "    zero_rates = []  # List of zero rates through forward rates\n",
    "    \n",
    "    price = Decimal(0.0)  # Initial price, using Decimal for precision\n",
    "    t_0 = start_day  # Initial date\n",
    "    S_init = S0  # Initial price of the underlying\n",
    "    \n",
    "    for i in range(len(dates) - 1):\n",
    "        \n",
    "        t_1 = dates[i]\n",
    "        t_2 = dates[i + 1]\n",
    "        \n",
    "        zR1 = interpZeroRate(t_0, t_1, bs_dates, bs_discounts)\n",
    "        zR2 = interpZeroRate(t_0, t_2, bs_dates, bs_discounts)\n",
    "        \n",
    "        B_01 = np.exp(-zR1 * yearfrac(t_0, t_1, DC_CONV[\"PARTY_B\"]))\n",
    "        if i == 0:\n",
    "            B_01 = 1.0\n",
    "        B_02 = np.exp(-zR2 * yearfrac(t_0, t_2, DC_CONV[\"PARTY_B\"]))\n",
    "        \n",
    "        B_012 = B_02 / B_01\n",
    "        \n",
    "        delta_t = yearfrac(t_1, t_2, DC_CONV[\"PARTY_B\"])\n",
    "        \n",
    "        delta_T += delta_t\n",
    "        \n",
    "        z_012 = -np.log(B_012) / delta_t\n",
    "        \n",
    "        zero_rates.append(z_012)\n",
    "        \n",
    "        S = S_init * np.exp((z_012 - d - 0.5 * sigma**2) * delta_t + sigma * np.sqrt(delta_t) * g)\n",
    "        \n",
    "        S_init = np.mean(S)\n",
    "        \n",
    "        S_hist.append(S_init)\n",
    "        \n",
    "        if i == 0:\n",
    "            S_tn_mat = np.array(S) / S0\n",
    "        else:\n",
    "            S_tn_mat = np.column_stack((S_tn_mat, np.array(S) / S0))\n",
    "        \n",
    "        if i == 0:\n",
    "            S_tn = S_tn_mat \n",
    "        else:\n",
    "            S_tn = np.mean(S_tn_mat, axis=1) \n",
    "            \n",
    "        payoff = alpha * np.maximum(0, S_tn - K)\n",
    "        \n",
    "        payoff = np.mean(payoff) \n",
    "        \n",
    "        payoff_hist.append(payoff)  \n",
    "\n",
    "        price += Decimal(payoff) * Decimal(np.exp(-zR2 * delta_T)) \n",
    "        \n",
    "    return price, S_hist, payoff_hist, zero_rates\n"
   ]
  },
  {
   "cell_type": "code",
   "execution_count": 24,
   "metadata": {},
   "outputs": [],
   "source": [
    "price, S_hist, payoff_hist, zero_rates = asian_option_pricer_MC(S0 = S0, \n",
    "                                                                K = K, \n",
    "                                                                sigma = sigma, \n",
    "                                                                d = d, \n",
    "                                                                start_day = dtSettle, \n",
    "                                                                dates = payment_dates_B, \n",
    "                                                                alpha = alpha, \n",
    "                                                                n_sim = n_sim, \n",
    "                                                                bs_dates = termDates, \n",
    "                                                                bs_discounts = discounts, \n",
    "                                                                seed = SEED)"
   ]
  },
  {
   "cell_type": "code",
   "execution_count": 25,
   "metadata": {},
   "outputs": [
    {
     "name": "stdout",
     "output_type": "stream",
     "text": [
      "Asian Option Price: 0.27269026782519046\n"
     ]
    }
   ],
   "source": [
    "print(\"Asian Option Price:\", price)"
   ]
  },
  {
   "cell_type": "code",
   "execution_count": 26,
   "metadata": {},
   "outputs": [
    {
     "data": {
      "text/plain": [
       "[6.13,\n",
       " 6.1263895604618535,\n",
       " 6.10496418323128,\n",
       " 6.096376088500899,\n",
       " 6.101881386515016]"
      ]
     },
     "execution_count": 26,
     "metadata": {},
     "output_type": "execute_result"
    }
   ],
   "source": [
    "S_hist # you can see the negative drift in the underlying price due to the dividend yield"
   ]
  },
  {
   "cell_type": "code",
   "execution_count": 27,
   "metadata": {},
   "outputs": [
    {
     "data": {
      "text/plain": [
       "[0.07615148816746109,\n",
       " 0.07504534318766747,\n",
       " 0.07445566317214636,\n",
       " 0.07422346634865096]"
      ]
     },
     "execution_count": 27,
     "metadata": {},
     "output_type": "execute_result"
    }
   ],
   "source": [
    "payoff_hist"
   ]
  },
  {
   "cell_type": "code",
   "execution_count": 28,
   "metadata": {},
   "outputs": [
    {
     "data": {
      "text/plain": [
       "[0.039406722595989555,\n",
       " 0.036492517867902315,\n",
       " 0.038595922203135694,\n",
       " 0.04090102608250377]"
      ]
     },
     "execution_count": 28,
     "metadata": {},
     "output_type": "execute_result"
    }
   ],
   "source": [
    "zero_rates # forward zero rates"
   ]
  },
  {
   "cell_type": "markdown",
   "metadata": {},
   "source": [
    "## Asian Option: Greeks"
   ]
  },
  {
   "cell_type": "markdown",
   "metadata": {},
   "source": [
    "We compute the Greeks of the Asian option using the finite difference methods."
   ]
  },
  {
   "cell_type": "markdown",
   "metadata": {},
   "source": [
    "### Delta"
   ]
  },
  {
   "cell_type": "code",
   "execution_count": 29,
   "metadata": {},
   "outputs": [
    {
     "data": {
      "application/vnd.plotly.v1+json": {
       "config": {
        "plotlyServerURL": "https://plot.ly"
       },
       "data": [
        {
         "line": {
          "color": "blue"
         },
         "mode": "lines",
         "name": "Original Option Price",
         "opacity": 0.8,
         "type": "scatter",
         "x": [
          6.1299,
          6.1299002002002005,
          6.129900400400401,
          6.1299006006006005,
          6.129900800800801,
          6.129901001001001,
          6.129901201201202,
          6.129901401401401,
          6.129901601601602,
          6.129901801801802,
          6.1299020020020025,
          6.129902202202202,
          6.1299024024024025,
          6.129902602602603,
          6.129902802802803,
          6.129903003003003,
          6.129903203203203,
          6.129903403403404,
          6.129903603603604,
          6.129903803803804,
          6.129904004004004,
          6.1299042042042045,
          6.129904404404405,
          6.129904604604604,
          6.129904804804805,
          6.129905005005005,
          6.129905205205206,
          6.129905405405405,
          6.129905605605606,
          6.129905805805806,
          6.129906006006006,
          6.129906206206206,
          6.129906406406406,
          6.129906606606607,
          6.129906806806807,
          6.129907007007007,
          6.129907207207207,
          6.129907407407408,
          6.129907607607608,
          6.1299078078078075,
          6.129908008008008,
          6.129908208208208,
          6.129908408408409,
          6.129908608608608,
          6.129908808808809,
          6.129909009009009,
          6.12990920920921,
          6.129909409409409,
          6.1299096096096095,
          6.12990980980981,
          6.12991001001001,
          6.12991021021021,
          6.12991041041041,
          6.129910610610611,
          6.129910810810811,
          6.1299110110110115,
          6.129911211211211,
          6.1299114114114115,
          6.129911611611612,
          6.129911811811812,
          6.129912012012012,
          6.129912212212212,
          6.129912412412413,
          6.129912612612613,
          6.129912812812813,
          6.129913013013013,
          6.1299132132132135,
          6.129913413413414,
          6.129913613613613,
          6.129913813813814,
          6.129914014014014,
          6.129914214214215,
          6.129914414414414,
          6.129914614614615,
          6.129914814814815,
          6.1299150150150155,
          6.129915215215215,
          6.129915415415415,
          6.129915615615616,
          6.129915815815816,
          6.129916016016016,
          6.129916216216216,
          6.129916416416417,
          6.129916616616617,
          6.1299168168168165,
          6.129917017017017,
          6.129917217217217,
          6.129917417417418,
          6.129917617617617,
          6.129917817817818,
          6.129918018018018,
          6.129918218218219,
          6.129918418418418,
          6.1299186186186185,
          6.129918818818819,
          6.129919019019019,
          6.129919219219219,
          6.129919419419419,
          6.12991961961962,
          6.12991981981982,
          6.12992002002002,
          6.12992022022022,
          6.1299204204204205,
          6.129920620620621,
          6.1299208208208205,
          6.129921021021021,
          6.129921221221221,
          6.129921421421422,
          6.129921621621622,
          6.129921821821822,
          6.129922022022022,
          6.1299222222222225,
          6.129922422422423,
          6.129922622622622,
          6.129922822822823,
          6.129923023023023,
          6.129923223223224,
          6.129923423423423,
          6.129923623623624,
          6.129923823823824,
          6.1299240240240245,
          6.129924224224224,
          6.129924424424424,
          6.129924624624625,
          6.129924824824825,
          6.129925025025025,
          6.129925225225225,
          6.129925425425426,
          6.129925625625626,
          6.129925825825826,
          6.129926026026026,
          6.129926226226226,
          6.129926426426427,
          6.129926626626626,
          6.129926826826827,
          6.129927027027027,
          6.129927227227228,
          6.129927427427427,
          6.1299276276276276,
          6.129927827827828,
          6.129928028028028,
          6.129928228228228,
          6.129928428428428,
          6.129928628628629,
          6.129928828828829,
          6.129929029029029,
          6.129929229229229,
          6.1299294294294295,
          6.12992962962963,
          6.1299298298298295,
          6.12993003003003,
          6.12993023023023,
          6.129930430430431,
          6.12993063063063,
          6.129930830830831,
          6.129931031031031,
          6.1299312312312315,
          6.129931431431431,
          6.1299316316316315,
          6.129931831831832,
          6.129932032032032,
          6.129932232232233,
          6.129932432432432,
          6.129932632632633,
          6.129932832832833,
          6.1299330330330335,
          6.129933233233233,
          6.129933433433433,
          6.129933633633634,
          6.129933833833834,
          6.129934034034034,
          6.129934234234234,
          6.129934434434435,
          6.129934634634635,
          6.129934834834835,
          6.129935035035035,
          6.129935235235235,
          6.129935435435436,
          6.129935635635635,
          6.129935835835836,
          6.129936036036036,
          6.129936236236237,
          6.129936436436436,
          6.129936636636637,
          6.129936836836837,
          6.129937037037037,
          6.129937237237237,
          6.129937437437437,
          6.129937637637638,
          6.129937837837838,
          6.129938038038038,
          6.129938238238238,
          6.1299384384384386,
          6.129938638638639,
          6.1299388388388385,
          6.129939039039039,
          6.129939239239239,
          6.12993943943944,
          6.129939639639639,
          6.12993983983984,
          6.12994004004004,
          6.1299402402402405,
          6.12994044044044,
          6.1299406406406405,
          6.129940840840841,
          6.129941041041041,
          6.129941241241241,
          6.129941441441441,
          6.129941641641642,
          6.129941841841842,
          6.129942042042042,
          6.129942242242242,
          6.1299424424424425,
          6.129942642642643,
          6.129942842842843,
          6.129943043043043,
          6.129943243243243,
          6.129943443443444,
          6.129943643643644,
          6.129943843843844,
          6.129944044044044,
          6.1299442442442444,
          6.129944444444445,
          6.129944644644644,
          6.129944844844845,
          6.129945045045045,
          6.129945245245246,
          6.129945445445445,
          6.129945645645646,
          6.129945845845846,
          6.129946046046046,
          6.129946246246246,
          6.129946446446446,
          6.129946646646647,
          6.129946846846847,
          6.129947047047047,
          6.129947247247247,
          6.129947447447448,
          6.129947647647648,
          6.1299478478478475,
          6.129948048048048,
          6.129948248248248,
          6.129948448448449,
          6.129948648648648,
          6.129948848848849,
          6.129949049049049,
          6.1299492492492496,
          6.129949449449449,
          6.1299496496496495,
          6.12994984984985,
          6.12995005005005,
          6.12995025025025,
          6.12995045045045,
          6.129950650650651,
          6.129950850850851,
          6.129951051051051,
          6.129951251251251,
          6.1299514514514515,
          6.129951651651652,
          6.129951851851851,
          6.129952052052052,
          6.129952252252252,
          6.129952452452453,
          6.129952652652653,
          6.129952852852853,
          6.129953053053053,
          6.1299532532532535,
          6.129953453453454,
          6.129953653653653,
          6.129953853853854,
          6.129954054054054,
          6.129954254254255,
          6.129954454454454,
          6.129954654654655,
          6.129954854854855,
          6.1299550550550554,
          6.129955255255255,
          6.129955455455455,
          6.129955655655656,
          6.129955855855856,
          6.129956056056056,
          6.129956256256256,
          6.129956456456457,
          6.129956656656657,
          6.1299568568568565,
          6.129957057057057,
          6.129957257257257,
          6.129957457457458,
          6.129957657657657,
          6.129957857857858,
          6.129958058058058,
          6.129958258258259,
          6.129958458458458,
          6.1299586586586585,
          6.129958858858859,
          6.129959059059059,
          6.129959259259259,
          6.129959459459459,
          6.12995965965966,
          6.12995985985986,
          6.12996006006006,
          6.12996026026026,
          6.1299604604604605,
          6.129960660660661,
          6.1299608608608604,
          6.129961061061061,
          6.129961261261261,
          6.129961461461462,
          6.129961661661661,
          6.129961861861862,
          6.129962062062062,
          6.1299622622622625,
          6.129962462462462,
          6.129962662662662,
          6.129962862862863,
          6.129963063063063,
          6.129963263263264,
          6.129963463463463,
          6.129963663663664,
          6.129963863863864,
          6.1299640640640645,
          6.129964264264264,
          6.129964464464464,
          6.129964664664665,
          6.129964864864865,
          6.129965065065065,
          6.129965265265265,
          6.129965465465466,
          6.129965665665666,
          6.129965865865866,
          6.129966066066066,
          6.129966266266266,
          6.129966466466467,
          6.129966666666666,
          6.129966866866867,
          6.129967067067067,
          6.129967267267268,
          6.129967467467467,
          6.1299676676676675,
          6.129967867867868,
          6.129968068068068,
          6.129968268268268,
          6.129968468468468,
          6.129968668668669,
          6.129968868868869,
          6.129969069069069,
          6.129969269269269,
          6.1299694694694695,
          6.12996966966967,
          6.1299698698698695,
          6.12997007007007,
          6.12997027027027,
          6.129970470470471,
          6.12997067067067,
          6.129970870870871,
          6.129971071071071,
          6.1299712712712715,
          6.129971471471471,
          6.1299716716716715,
          6.129971871871872,
          6.129972072072072,
          6.129972272272272,
          6.129972472472472,
          6.129972672672673,
          6.129972872872873,
          6.129973073073073,
          6.129973273273273,
          6.129973473473473,
          6.129973673673674,
          6.129973873873874,
          6.129974074074074,
          6.129974274274274,
          6.129974474474475,
          6.129974674674675,
          6.129974874874875,
          6.129975075075075,
          6.129975275275275,
          6.129975475475476,
          6.129975675675675,
          6.129975875875876,
          6.129976076076076,
          6.129976276276277,
          6.129976476476476,
          6.129976676676677,
          6.129976876876877,
          6.129977077077077,
          6.129977277277277,
          6.129977477477477,
          6.129977677677678,
          6.129977877877878,
          6.129978078078078,
          6.129978278278278,
          6.1299784784784785,
          6.129978678678679,
          6.1299788788788785,
          6.129979079079079,
          6.129979279279279,
          6.12997947947948,
          6.129979679679679,
          6.12997987987988,
          6.12998008008008,
          6.1299802802802805,
          6.12998048048048,
          6.1299806806806805,
          6.129980880880881,
          6.129981081081081,
          6.129981281281281,
          6.129981481481481,
          6.129981681681682,
          6.129981881881882,
          6.129982082082082,
          6.129982282282282,
          6.1299824824824825,
          6.129982682682683,
          6.129982882882882,
          6.129983083083083,
          6.129983283283283,
          6.129983483483484,
          6.129983683683683,
          6.129983883883884,
          6.129984084084084,
          6.129984284284284,
          6.129984484484485,
          6.129984684684684,
          6.129984884884885,
          6.129985085085085,
          6.129985285285286,
          6.129985485485485,
          6.129985685685686,
          6.129985885885886,
          6.129986086086086,
          6.129986286286286,
          6.129986486486486,
          6.129986686686687,
          6.129986886886887,
          6.129987087087087,
          6.129987287287287,
          6.129987487487488,
          6.129987687687688,
          6.1299878878878875,
          6.129988088088088,
          6.129988288288288,
          6.129988488488489,
          6.129988688688688,
          6.129988888888889,
          6.129989089089089,
          6.1299892892892895,
          6.129989489489489,
          6.1299896896896895,
          6.12998988988989,
          6.12999009009009,
          6.12999029029029,
          6.12999049049049,
          6.129990690690691,
          6.129990890890891,
          6.129991091091091,
          6.129991291291291,
          6.1299914914914915,
          6.129991691691692,
          6.129991891891891,
          6.129992092092092,
          6.129992292292292,
          6.129992492492493,
          6.129992692692692,
          6.129992892892893,
          6.129993093093093,
          6.1299932932932935,
          6.129993493493493,
          6.129993693693693,
          6.129993893893894,
          6.129994094094094,
          6.129994294294294,
          6.129994494494494,
          6.129994694694695,
          6.129994894894895,
          6.129995095095095,
          6.129995295295295,
          6.129995495495495,
          6.129995695695696,
          6.129995895895896,
          6.129996096096096,
          6.129996296296296,
          6.129996496496497,
          6.129996696696697,
          6.1299968968968965,
          6.129997097097097,
          6.129997297297297,
          6.129997497497498,
          6.129997697697697,
          6.129997897897898,
          6.129998098098098,
          6.129998298298299,
          6.129998498498498,
          6.1299986986986985,
          6.129998898898899,
          6.129999099099099,
          6.129999299299299,
          6.129999499499499,
          6.1299996996997,
          6.1299998998999,
          6.1300001001001,
          6.1300003003003,
          6.1300005005005005,
          6.130000700700701,
          6.1300009009009,
          6.130001101101101,
          6.130001301301301,
          6.130001501501502,
          6.130001701701701,
          6.130001901901902,
          6.130002102102102,
          6.1300023023023025,
          6.130002502502502,
          6.130002702702702,
          6.130002902902903,
          6.130003103103103,
          6.130003303303303,
          6.130003503503503,
          6.130003703703704,
          6.130003903903904,
          6.130004104104104,
          6.130004304304304,
          6.130004504504504,
          6.130004704704705,
          6.130004904904904,
          6.130005105105105,
          6.130005305305305,
          6.130005505505506,
          6.130005705705706,
          6.1300059059059055,
          6.130006106106106,
          6.130006306306306,
          6.130006506506507,
          6.130006706706706,
          6.130006906906907,
          6.130007107107107,
          6.130007307307308,
          6.130007507507507,
          6.1300077077077075,
          6.130007907907908,
          6.130008108108108,
          6.130008308308308,
          6.130008508508508,
          6.130008708708709,
          6.130008908908909,
          6.130009109109109,
          6.130009309309309,
          6.1300095095095095,
          6.13000970970971,
          6.1300099099099095,
          6.13001011011011,
          6.13001031031031,
          6.130010510510511,
          6.13001071071071,
          6.130010910910911,
          6.130011111111111,
          6.1300113113113115,
          6.130011511511511,
          6.130011711711711,
          6.130011911911912,
          6.130012112112112,
          6.130012312312312,
          6.130012512512512,
          6.130012712712713,
          6.130012912912913,
          6.130013113113113,
          6.130013313313313,
          6.130013513513513,
          6.130013713713714,
          6.130013913913913,
          6.130014114114114,
          6.130014314314314,
          6.130014514514515,
          6.130014714714714,
          6.130014914914915,
          6.130015115115115,
          6.130015315315315,
          6.130015515515515,
          6.130015715715715,
          6.130015915915916,
          6.130016116116116,
          6.130016316316317,
          6.130016516516516,
          6.1300167167167166,
          6.130016916916917,
          6.130017117117117,
          6.130017317317317,
          6.130017517517517,
          6.130017717717718,
          6.130017917917918,
          6.130018118118118,
          6.130018318318318,
          6.1300185185185185,
          6.130018718718719,
          6.1300189189189185,
          6.130019119119119,
          6.130019319319319,
          6.13001951951952,
          6.130019719719719,
          6.13001991991992,
          6.13002012012012,
          6.1300203203203205,
          6.13002052052052,
          6.1300207207207205,
          6.130020920920921,
          6.130021121121121,
          6.130021321321321,
          6.130021521521521,
          6.130021721721722,
          6.130021921921922,
          6.130022122122122,
          6.130022322322322,
          6.130022522522522,
          6.130022722722723,
          6.130022922922922,
          6.130023123123123,
          6.130023323323323,
          6.130023523523524,
          6.130023723723723,
          6.130023923923924,
          6.130024124124124,
          6.130024324324324,
          6.130024524524524,
          6.130024724724724,
          6.130024924924925,
          6.130025125125125,
          6.130025325325325,
          6.130025525525525,
          6.130025725725726,
          6.130025925925926,
          6.1300261261261255,
          6.130026326326326,
          6.130026526526526,
          6.130026726726727,
          6.130026926926927,
          6.130027127127127,
          6.130027327327327,
          6.1300275275275276,
          6.130027727727728,
          6.1300279279279275,
          6.130028128128128,
          6.130028328328328,
          6.130028528528529,
          6.130028728728728,
          6.130028928928929,
          6.130029129129129,
          6.1300293293293295,
          6.130029529529529,
          6.1300297297297295,
          6.13002992992993,
          6.13003013013013,
          6.13003033033033,
          6.13003053053053,
          6.130030730730731,
          6.130030930930931,
          6.130031131131131,
          6.130031331331331,
          6.1300315315315315,
          6.130031731731732,
          6.130031931931931,
          6.130032132132132,
          6.130032332332332,
          6.130032532532533,
          6.130032732732732,
          6.130032932932933,
          6.130033133133133,
          6.1300333333333334,
          6.130033533533533,
          6.130033733733733,
          6.130033933933934,
          6.130034134134134,
          6.130034334334334,
          6.130034534534534,
          6.130034734734735,
          6.130034934934935,
          6.1300351351351345,
          6.130035335335335,
          6.130035535535535,
          6.130035735735736,
          6.130035935935935,
          6.130036136136136,
          6.130036336336336,
          6.130036536536537,
          6.130036736736736,
          6.1300369369369365,
          6.130037137137137,
          6.130037337337337,
          6.130037537537538,
          6.130037737737737,
          6.130037937937938,
          6.130038138138138,
          6.1300383383383386,
          6.130038538538538,
          6.1300387387387385,
          6.130038938938939,
          6.130039139139139,
          6.130039339339339,
          6.130039539539539,
          6.13003973973974,
          6.13003993993994,
          6.13004014014014,
          6.13004034034034,
          6.1300405405405405,
          6.130040740740741,
          6.13004094094094,
          6.130041141141141,
          6.130041341341341,
          6.130041541541542,
          6.130041741741741,
          6.130041941941942,
          6.130042142142142,
          6.1300423423423425,
          6.130042542542542,
          6.130042742742742,
          6.130042942942943,
          6.130043143143143,
          6.130043343343343,
          6.130043543543543,
          6.130043743743744,
          6.130043943943944,
          6.130044144144144,
          6.130044344344344,
          6.130044544544544,
          6.130044744744745,
          6.130044944944944,
          6.130045145145145,
          6.130045345345345,
          6.130045545545546,
          6.130045745745745,
          6.1300459459459455,
          6.130046146146146,
          6.130046346346346,
          6.130046546546546,
          6.130046746746746,
          6.130046946946947,
          6.130047147147147,
          6.130047347347347,
          6.130047547547547,
          6.1300477477477475,
          6.130047947947948,
          6.130048148148148,
          6.130048348348348,
          6.130048548548548,
          6.130048748748749,
          6.130048948948949,
          6.130049149149149,
          6.130049349349349,
          6.1300495495495495,
          6.13004974974975,
          6.1300499499499495,
          6.13005015015015,
          6.13005035035035,
          6.130050550550551,
          6.13005075075075,
          6.130050950950951,
          6.130051151151151,
          6.1300513513513515,
          6.130051551551551,
          6.130051751751751,
          6.130051951951952,
          6.130052152152152,
          6.130052352352352,
          6.130052552552552,
          6.130052752752753,
          6.130052952952953,
          6.130053153153153,
          6.130053353353353,
          6.130053553553553,
          6.130053753753754,
          6.130053953953953,
          6.130054154154154,
          6.130054354354354,
          6.130054554554555,
          6.130054754754754,
          6.130054954954955,
          6.130055155155155,
          6.130055355355355,
          6.130055555555555,
          6.130055755755755,
          6.130055955955956,
          6.130056156156156,
          6.130056356356356,
          6.130056556556556,
          6.1300567567567565,
          6.130056956956957,
          6.1300571571571565,
          6.130057357357357,
          6.130057557557557,
          6.130057757757758,
          6.130057957957958,
          6.130058158158158,
          6.130058358358358,
          6.1300585585585585,
          6.130058758758759,
          6.1300589589589585,
          6.130059159159159,
          6.130059359359359,
          6.13005955955956,
          6.130059759759759,
          6.13005995995996,
          6.13006016016016,
          6.1300603603603605,
          6.13006056056056,
          6.1300607607607605,
          6.130060960960961,
          6.130061161161161,
          6.130061361361361,
          6.130061561561561,
          6.130061761761762,
          6.130061961961962,
          6.130062162162162,
          6.130062362362362,
          6.130062562562562,
          6.130062762762763,
          6.130062962962962,
          6.130063163163163,
          6.130063363363363,
          6.130063563563564,
          6.130063763763763,
          6.130063963963964,
          6.130064164164164,
          6.130064364364364,
          6.130064564564564,
          6.130064764764764,
          6.130064964964965,
          6.130065165165165,
          6.130065365365365,
          6.130065565565565,
          6.130065765765766,
          6.130065965965966,
          6.1300661661661655,
          6.130066366366366,
          6.130066566566566,
          6.130066766766767,
          6.130066966966966,
          6.130067167167167,
          6.130067367367367,
          6.1300675675675675,
          6.130067767767767,
          6.1300679679679675,
          6.130068168168168,
          6.130068368368368,
          6.130068568568569,
          6.130068768768768,
          6.130068968968969,
          6.130069169169169,
          6.1300693693693695,
          6.130069569569569,
          6.1300697697697695,
          6.13006996996997,
          6.13007017017017,
          6.13007037037037,
          6.13007057057057,
          6.130070770770771,
          6.130070970970971,
          6.130071171171171,
          6.130071371371371,
          6.1300715715715715,
          6.130071771771772,
          6.130071971971971,
          6.130072172172172,
          6.130072372372372,
          6.130072572572573,
          6.130072772772772,
          6.130072972972973,
          6.130073173173173,
          6.130073373373373,
          6.130073573573573,
          6.130073773773773,
          6.130073973973974,
          6.130074174174174,
          6.130074374374374,
          6.130074574574574,
          6.130074774774775,
          6.130074974974975,
          6.1300751751751745,
          6.130075375375375,
          6.130075575575575,
          6.130075775775776,
          6.130075975975975,
          6.130076176176176,
          6.130076376376376,
          6.130076576576577,
          6.130076776776776,
          6.1300769769769765,
          6.130077177177177,
          6.130077377377377,
          6.130077577577577,
          6.130077777777777,
          6.130077977977978,
          6.130078178178178,
          6.130078378378378,
          6.130078578578578,
          6.1300787787787785,
          6.130078978978979,
          6.130079179179179,
          6.130079379379379,
          6.130079579579579,
          6.13007977977978,
          6.13007997997998,
          6.13008018018018,
          6.13008038038038,
          6.1300805805805805,
          6.130080780780781,
          6.13008098098098,
          6.130081181181181,
          6.130081381381381,
          6.130081581581582,
          6.130081781781781,
          6.130081981981982,
          6.130082182182182,
          6.1300823823823825,
          6.130082582582582,
          6.130082782782782,
          6.130082982982983,
          6.130083183183183,
          6.130083383383383,
          6.130083583583583,
          6.130083783783784,
          6.130083983983984,
          6.1300841841841835,
          6.130084384384384,
          6.130084584584584,
          6.130084784784785,
          6.130084984984984,
          6.130085185185185,
          6.130085385385385,
          6.130085585585586,
          6.130085785785785,
          6.1300859859859855,
          6.130086186186186,
          6.130086386386386,
          6.130086586586586,
          6.130086786786786,
          6.130086986986987,
          6.130087187187187,
          6.130087387387387,
          6.130087587587587,
          6.1300877877877875,
          6.130087987987988,
          6.1300881881881875,
          6.130088388388388,
          6.130088588588588,
          6.130088788788789,
          6.130088988988988,
          6.130089189189189,
          6.130089389389389,
          6.1300895895895895,
          6.13008978978979,
          6.130089989989989,
          6.13009019019019,
          6.13009039039039,
          6.130090590590591,
          6.13009079079079,
          6.130090990990991,
          6.130091191191191,
          6.1300913913913915,
          6.130091591591591,
          6.130091791791791,
          6.130091991991992,
          6.130092192192192,
          6.130092392392392,
          6.130092592592592,
          6.130092792792793,
          6.130092992992993,
          6.130093193193193,
          6.130093393393393,
          6.130093593593593,
          6.130093793793794,
          6.130093993993993,
          6.130094194194194,
          6.130094394394394,
          6.130094594594595,
          6.130094794794794,
          6.1300949949949946,
          6.130095195195195,
          6.130095395395395,
          6.130095595595595,
          6.130095795795795,
          6.130095995995996,
          6.130096196196196,
          6.130096396396396,
          6.130096596596596,
          6.1300967967967965,
          6.130096996996997,
          6.1300971971971965,
          6.130097397397397,
          6.130097597597597,
          6.130097797797798,
          6.130097997997997,
          6.130098198198198,
          6.130098398398398,
          6.1300985985985985,
          6.130098798798798,
          6.1300989989989985,
          6.130099199199199,
          6.130099399399399,
          6.130099599599599,
          6.130099799799799,
          6.1301
         ],
         "xaxis": "x",
         "y": [
          0.27269026782519024,
          0.27269026782519046,
          0.27269026782519035,
          0.27269026782519024,
          0.2726902678251905,
          0.27269026782519035,
          0.27269026782519024,
          0.27269026782519035,
          0.27269026782519024,
          0.27269026782519024,
          0.2726902678251906,
          0.27269026782519035,
          0.2726902678251903,
          0.27269026782519057,
          0.27269026782519035,
          0.2726902678251905,
          0.2726902678251905,
          0.27269026782519035,
          0.27269026782519046,
          0.27269026782519,
          0.2726902678251905,
          0.2726902678251905,
          0.27269026782519035,
          0.27269026782519024,
          0.2726902678251902,
          0.2726902678251905,
          0.27269026782519046,
          0.2726902678251905,
          0.27269026782519057,
          0.2726902678251908,
          0.27269026782519046,
          0.27269026782519057,
          0.2726902678251904,
          0.27269026782519035,
          0.27269026782519046,
          0.27269026782519035,
          0.2726902678251904,
          0.27269026782519035,
          0.2726902678251903,
          0.2726902678251906,
          0.27269026782519035,
          0.2726902678251903,
          0.27269026782519046,
          0.2726902678251905,
          0.2726902678251904,
          0.2726902678251905,
          0.27269026782519057,
          0.27269026782519057,
          0.2726902678251905,
          0.27269026782519035,
          0.27269026782519046,
          0.27269026782519057,
          0.27269026782519035,
          0.27269026782519035,
          0.2726902678251901,
          0.2726902678251902,
          0.27269026782519035,
          0.27269026782519046,
          0.2726902678251906,
          0.27269026782519046,
          0.27269026782519046,
          0.27269026782519057,
          0.2726902678251906,
          0.27269026782519035,
          0.27269026782519057,
          0.27269026782519024,
          0.2726902678251905,
          0.2726902678251904,
          0.27269026782519024,
          0.27269026782519057,
          0.27269026782519035,
          0.27269026782519024,
          0.27269026782519046,
          0.27269026782519046,
          0.2726902678251904,
          0.2726902678251904,
          0.2726902678251904,
          0.27269026782519035,
          0.27269026782519057,
          0.27269026782519046,
          0.2726902678251905,
          0.27269026782519057,
          0.27269026782519035,
          0.2726902678251906,
          0.2726902678251907,
          0.2726902678251903,
          0.27269026782519024,
          0.27269026782519035,
          0.2726902678251906,
          0.27269026782519035,
          0.27269026782519035,
          0.27269026782519057,
          0.2726902678251908,
          0.2726902678251904,
          0.27269026782519035,
          0.27269026782519035,
          0.27269026782519057,
          0.27269026782519035,
          0.27269026782519024,
          0.2726902678251907,
          0.2726902678251906,
          0.2726902678251903,
          0.2726902678251903,
          0.2726902678251904,
          0.27269026782519035,
          0.27269026782519046,
          0.27269026782519035,
          0.27269026782519057,
          0.27269026782519046,
          0.27269026782519035,
          0.2726902678251903,
          0.27269026782519057,
          0.2726902678251901,
          0.27269026782519035,
          0.2726902678251905,
          0.2726902678251903,
          0.27269026782519046,
          0.2726902678251901,
          0.2726902678251903,
          0.27269026782519057,
          0.27269026782519046,
          0.2726902678251905,
          0.2726902678251904,
          0.27269026782519035,
          0.2726902678251904,
          0.2726902678251907,
          0.27269026782519046,
          0.2726902678251903,
          0.27269026782519035,
          0.27269026782519007,
          0.27269026782519046,
          0.27269026782519035,
          0.27269026782519035,
          0.2726902678251904,
          0.2726902678251902,
          0.2726902678251904,
          0.2726902678251906,
          0.27269026782519046,
          0.27269026782519057,
          0.27269026782519035,
          0.2726902678251906,
          0.2726902678251905,
          0.27269026782519035,
          0.2726902678251902,
          0.27269026782519046,
          0.27269026782519046,
          0.27269026782519046,
          0.27269026782519007,
          0.27269026782519024,
          0.27269026782519046,
          0.2726902678251903,
          0.27269026782519035,
          0.2726902678251905,
          0.27269026782519024,
          0.27269026782519035,
          0.27269026782519046,
          0.2726902678251903,
          0.27269026782519024,
          0.2726902678251906,
          0.27269026782519,
          0.2726902678251904,
          0.2726902678251901,
          0.27269026782519035,
          0.27269026782519046,
          0.2726902678251905,
          0.2726902678251903,
          0.27269026782519046,
          0.27269026782519046,
          0.27269026782519046,
          0.2726902678251902,
          0.2726902678251907,
          0.2726902678251903,
          0.2726902678251905,
          0.27269026782519035,
          0.2726902678251909,
          0.2726902678251903,
          0.27269026782519035,
          0.27269026782519035,
          0.27269026782519046,
          0.27269026782519057,
          0.2726902678251901,
          0.27269026782519046,
          0.27269026782519035,
          0.27269026782519035,
          0.27269026782519035,
          0.27269026782519046,
          0.27269026782519046,
          0.27269026782519035,
          0.27269026782519046,
          0.2726902678251903,
          0.27269026782519035,
          0.27269026782519046,
          0.27269026782519035,
          0.27269026782519057,
          0.27269026782519046,
          0.27269026782519024,
          0.2726902678251907,
          0.2726902678251906,
          0.27269026782519035,
          0.27269026782519046,
          0.2726902678251905,
          0.27269026782519046,
          0.27269026782519046,
          0.2726902678251905,
          0.27269026782519046,
          0.27269026782519035,
          0.2726902678251905,
          0.2726902678251903,
          0.27269026782519024,
          0.27269026782519057,
          0.2726902678251905,
          0.2726902678251902,
          0.27269026782519046,
          0.27269026782519035,
          0.2726902678251906,
          0.2726902678251906,
          0.27269026782519035,
          0.2726902678251906,
          0.2726902678251904,
          0.2726902678251905,
          0.27269026782519057,
          0.2726902678251903,
          0.27269026782519024,
          0.27269026782519046,
          0.2726902678251904,
          0.27269026782519035,
          0.27269026782519046,
          0.27269026782519035,
          0.2726902678251904,
          0.27269026782519046,
          0.27269026782519046,
          0.27269026782519035,
          0.27269026782519046,
          0.2726902678251905,
          0.2726902678251905,
          0.27269026782519046,
          0.27269026782519035,
          0.2726902678251903,
          0.27269026782519024,
          0.27269026782519024,
          0.27269026782519057,
          0.27269026782519035,
          0.27269026782519024,
          0.2726902678251901,
          0.2726902678251906,
          0.2726902678251905,
          0.27269026782519024,
          0.2726902678251903,
          0.27269026782519046,
          0.27269026782519057,
          0.2726902678251905,
          0.27269026782519057,
          0.27269026782519035,
          0.27269026782519035,
          0.27269026782519035,
          0.27269026782519024,
          0.2726902678251904,
          0.2726902678251904,
          0.2726902678251903,
          0.27269026782519057,
          0.2726902678251904,
          0.27269026782519046,
          0.2726902678251905,
          0.27269026782519035,
          0.2726902678251906,
          0.27269026782519035,
          0.27269026782519035,
          0.27269026782519057,
          0.27269026782519024,
          0.27269026782519046,
          0.2726902678251902,
          0.27269026782519035,
          0.2726902678251906,
          0.27269026782519024,
          0.27269026782519024,
          0.27269026782519046,
          0.2726902678251901,
          0.27269026782519057,
          0.2726902678251904,
          0.2726902678251904,
          0.27269026782519057,
          0.2726902678251908,
          0.27269026782519024,
          0.27269026782519046,
          0.27269026782519057,
          0.2726902678251903,
          0.27269026782519035,
          0.27269026782519024,
          0.2726902678251907,
          0.2726902678251904,
          0.27269026782519024,
          0.2726902678251903,
          0.2726902678251906,
          0.2726902678251905,
          0.2726902678251907,
          0.2726902678251906,
          0.27269026782519057,
          0.2726902678251906,
          0.27269026782519046,
          0.27269026782519046,
          0.27269026782519057,
          0.2726902678251903,
          0.2726902678251904,
          0.27269026782519057,
          0.27269026782519024,
          0.27269026782519035,
          0.2726902678251905,
          0.27269026782519024,
          0.2726902678251904,
          0.27269026782519057,
          0.2726902678251905,
          0.27269026782519057,
          0.27269026782519035,
          0.27269026782519046,
          0.2726902678251906,
          0.27269026782519024,
          0.2726902678251903,
          0.27269026782519035,
          0.27269026782519046,
          0.27269026782519046,
          0.27269026782519024,
          0.27269026782519035,
          0.27269026782519046,
          0.27269026782519024,
          0.27269026782519057,
          0.27269026782519057,
          0.2726902678251904,
          0.27269026782519046,
          0.27269026782519024,
          0.27269026782519046,
          0.2726902678251906,
          0.27269026782519024,
          0.2726902678251906,
          0.2726902678251906,
          0.27269026782519035,
          0.2726902678251901,
          0.27269026782519046,
          0.2726902678251902,
          0.27269026782519024,
          0.27269026782519046,
          0.27269026782519035,
          0.2726902678251907,
          0.27269026782519057,
          0.27269026782519057,
          0.27269026782519046,
          0.2726902678251902,
          0.2726902678251904,
          0.27269026782519046,
          0.27269026782519035,
          0.2726902678251904,
          0.2726902678251903,
          0.27269026782519057,
          0.27269026782519035,
          0.2726902678251903,
          0.27269026782519057,
          0.27269026782519046,
          0.2726902678251905,
          0.27269026782519046,
          0.27269026782519035,
          0.27269026782519035,
          0.27269026782519046,
          0.27269026782519046,
          0.27269026782519035,
          0.27269026782519046,
          0.27269026782519046,
          0.2726902678251901,
          0.2726902678251905,
          0.27269026782519024,
          0.2726902678251905,
          0.27269026782519057,
          0.27269026782519035,
          0.27269026782519057,
          0.27269026782519035,
          0.2726902678251903,
          0.27269026782519046,
          0.27269026782519035,
          0.27269026782519035,
          0.2726902678251908,
          0.2726902678251901,
          0.27269026782519035,
          0.2726902678251901,
          0.27269026782519035,
          0.2726902678251904,
          0.2726902678251901,
          0.27269026782519035,
          0.27269026782519035,
          0.27269026782519057,
          0.27269026782519035,
          0.2726902678251906,
          0.27269026782519046,
          0.27269026782519046,
          0.27269026782519035,
          0.27269026782519057,
          0.2726902678251904,
          0.2726902678251903,
          0.27269026782519046,
          0.27269026782519057,
          0.27269026782519035,
          0.2726902678251903,
          0.2726902678251908,
          0.2726902678251906,
          0.2726902678251906,
          0.2726902678251902,
          0.2726902678251904,
          0.2726902678251906,
          0.2726902678251902,
          0.2726902678251904,
          0.27269026782519057,
          0.2726902678251904,
          0.27269026782519074,
          0.2726902678251903,
          0.27269026782519035,
          0.27269026782519046,
          0.2726902678251904,
          0.2726902678251903,
          0.2726902678251904,
          0.27269026782519035,
          0.2726902678251905,
          0.27269026782519035,
          0.27269026782519024,
          0.2726902678251904,
          0.2726902678251907,
          0.2726902678251907,
          0.27269026782519035,
          0.27269026782519024,
          0.27269026782519035,
          0.27269026782519035,
          0.2726902678251901,
          0.27269026782519046,
          0.27269026782519057,
          0.27269026782519024,
          0.2726902678251902,
          0.2726902678251903,
          0.2726902678251904,
          0.27269026782519046,
          0.27269026782519035,
          0.27269026782519024,
          0.2726902678251905,
          0.27269026782519035,
          0.27269026782519024,
          0.27269026782519035,
          0.27269026782519046,
          0.27269026782519046,
          0.2726902678251901,
          0.27269026782519046,
          0.27269026782519024,
          0.27269026782519057,
          0.27269026782519046,
          0.27269026782519057,
          0.27269026782519046,
          0.27269026782519035,
          0.2726902678251907,
          0.27269026782519024,
          0.2726902678251904,
          0.27269026782519024,
          0.2726902678251904,
          0.2726902678251906,
          0.27269026782519035,
          0.27269026782519024,
          0.27269026782519035,
          0.2726902678251901,
          0.27269026782519035,
          0.2726902678251907,
          0.27269026782519046,
          0.27269026782519046,
          0.27269026782519035,
          0.27269026782519046,
          0.27269026782519057,
          0.2726902678251902,
          0.2726902678251906,
          0.27269026782519035,
          0.27269026782519035,
          0.27269026782519046,
          0.2726902678251903,
          0.2726902678251905,
          0.27269026782519057,
          0.27269026782519035,
          0.2726902678251903,
          0.2726902678251906,
          0.2726902678251905,
          0.27269026782519024,
          0.2726902678251906,
          0.27269026782519035,
          0.27269026782519057,
          0.27269026782519057,
          0.27269026782519024,
          0.27269026782519057,
          0.27269026782519024,
          0.27269026782519057,
          0.27269026782519046,
          0.27269026782519,
          0.27269026782519046,
          0.27269026782519035,
          0.2726902678251906,
          0.27269026782519057,
          0.27269026782519057,
          0.27269026782519057,
          0.27269026782519046,
          0.2726902678251904,
          0.27269026782519046,
          0.27269026782519057,
          0.27269026782519046,
          0.27269026782519057,
          0.27269026782519035,
          0.2726902678251905,
          0.27269026782519035,
          0.2726902678251904,
          0.27269026782519046,
          0.2726902678251907,
          0.27269026782519035,
          0.27269026782519035,
          0.27269026782519046,
          0.27269026782519046,
          0.27269026782519035,
          0.2726902678251906,
          0.2726902678251903,
          0.2726902678251907,
          0.27269026782519057,
          0.27269026782519035,
          0.2726902678251904,
          0.27269026782519057,
          0.2726902678251903,
          0.27269026782519035,
          0.27269026782519046,
          0.27269026782519057,
          0.27269026782519035,
          0.27269026782519035,
          0.2726902678251905,
          0.27269026782519046,
          0.27269026782519046,
          0.27269026782519046,
          0.2726902678251904,
          0.27269026782519046,
          0.27269026782519035,
          0.2726902678251901,
          0.27269026782519046,
          0.27269026782519046,
          0.27269026782519024,
          0.27269026782519007,
          0.2726902678251903,
          0.27269026782519035,
          0.2726902678251905,
          0.27269026782519046,
          0.2726902678251905,
          0.27269026782519046,
          0.27269026782519035,
          0.27269026782519057,
          0.27269026782519035,
          0.27269026782519035,
          0.27269026782519024,
          0.27269026782519007,
          0.2726902678251902,
          0.27269026782519046,
          0.27269026782519046,
          0.27269026782519046,
          0.27269026782519046,
          0.27269026782519046,
          0.27269026782519035,
          0.2726902678251908,
          0.27269026782519046,
          0.27269026782519035,
          0.27269026782519035,
          0.2726902678251907,
          0.27269026782519046,
          0.27269026782519035,
          0.27269026782519046,
          0.27269026782519035,
          0.27269026782519057,
          0.27269026782519035,
          0.2726902678251903,
          0.2726902678251901,
          0.27269026782519046,
          0.2726902678251906,
          0.27269026782519057,
          0.27269026782519035,
          0.27269026782519024,
          0.2726902678251906,
          0.27269026782519057,
          0.2726902678251903,
          0.2726902678251905,
          0.27269026782519035,
          0.2726902678251901,
          0.2726902678251902,
          0.2726902678251901,
          0.27269026782519024,
          0.27269026782519046,
          0.27269026782519035,
          0.2726902678251902,
          0.27269026782519057,
          0.27269026782519057,
          0.2726902678251906,
          0.27269026782519046,
          0.27269026782519035,
          0.27269026782519024,
          0.27269026782519046,
          0.27269026782519024,
          0.27269026782519035,
          0.27269026782519035,
          0.27269026782519046,
          0.27269026782519035,
          0.27269026782519046,
          0.27269026782519046,
          0.27269026782519035,
          0.27269026782519057,
          0.27269026782519046,
          0.27269026782519024,
          0.2726902678251907,
          0.27269026782519046,
          0.27269026782519024,
          0.27269026782519035,
          0.27269026782519024,
          0.2726902678251907,
          0.27269026782519035,
          0.2726902678251904,
          0.27269026782519024,
          0.27269026782519046,
          0.27269026782519024,
          0.27269026782519024,
          0.2726902678251903,
          0.2726902678251906,
          0.2726902678251906,
          0.2726902678251906,
          0.27269026782519046,
          0.27269026782519046,
          0.2726902678251904,
          0.2726902678251908,
          0.2726902678251904,
          0.2726902678251904,
          0.2726902678251902,
          0.27269026782519057,
          0.2726902678251903,
          0.2726902678251903,
          0.2726902678251901,
          0.27269026782519035,
          0.27269026782519074,
          0.27269026782519046,
          0.27269026782519046,
          0.2726902678251907,
          0.27269026782519046,
          0.2726902678251904,
          0.2726902678251904,
          0.27269026782519046,
          0.27269026782519035,
          0.27269026782519035,
          0.27269026782519046,
          0.2726902678251903,
          0.2726902678251901,
          0.2726902678251901,
          0.2726902678251903,
          0.27269026782519046,
          0.27269026782519035,
          0.27269026782519074,
          0.27269026782519046,
          0.2726902678251904,
          0.2726902678251903,
          0.2726902678251904,
          0.2726902678251905,
          0.27269026782519024,
          0.27269026782519035,
          0.27269026782519057,
          0.27269026782519024,
          0.2726902678251902,
          0.27269026782519035,
          0.2726902678251903,
          0.27269026782519035,
          0.27269026782519035,
          0.27269026782519057,
          0.2726902678251908,
          0.27269026782519046,
          0.27269026782519057,
          0.27269026782519046,
          0.2726902678251902,
          0.27269026782519046,
          0.27269026782519046,
          0.27269026782519035,
          0.2726902678251904,
          0.2726902678251902,
          0.2726902678251901,
          0.2726902678251907,
          0.2726902678251901,
          0.27269026782519046,
          0.2726902678251908,
          0.27269026782519024,
          0.27269026782519046,
          0.2726902678251903,
          0.27269026782519035,
          0.27269026782519046,
          0.2726902678251903,
          0.2726902678251906,
          0.27269026782519046,
          0.27269026782519035,
          0.27269026782519035,
          0.2726902678251906,
          0.27269026782519024,
          0.27269026782519024,
          0.27269026782519,
          0.27269026782519046,
          0.27269026782519046,
          0.27269026782519024,
          0.27269026782519035,
          0.2726902678251906,
          0.27269026782519035,
          0.27269026782519035,
          0.2726902678251906,
          0.27269026782519057,
          0.27269026782519035,
          0.2726902678251902,
          0.27269026782519024,
          0.2726902678251905,
          0.27269026782519024,
          0.27269026782518996,
          0.2726902678251907,
          0.2726902678251902,
          0.27269026782519057,
          0.27269026782519074,
          0.27269026782519057,
          0.27269026782519057,
          0.27269026782519046,
          0.2726902678251901,
          0.27269026782519046,
          0.27269026782519035,
          0.27269026782519046,
          0.27269026782519057,
          0.27269026782519024,
          0.27269026782519035,
          0.27269026782519046,
          0.27269026782519035,
          0.27269026782519046,
          0.27269026782519046,
          0.2726902678251904,
          0.27269026782519074,
          0.27269026782519024,
          0.27269026782519046,
          0.2726902678251907,
          0.27269026782519046,
          0.27269026782519035,
          0.27269026782519057,
          0.27269026782519035,
          0.27269026782519046,
          0.2726902678251901,
          0.27269026782519024,
          0.2726902678251903,
          0.2726902678251904,
          0.2726902678251906,
          0.2726902678251906,
          0.27269026782519057,
          0.2726902678251907,
          0.27269026782519035,
          0.2726902678251903,
          0.2726902678251906,
          0.2726902678251903,
          0.2726902678251905,
          0.27269026782519046,
          0.27269026782519024,
          0.2726902678251905,
          0.2726902678251905,
          0.27269026782519035,
          0.2726902678251903,
          0.27269026782519035,
          0.2726902678251906,
          0.27269026782519057,
          0.2726902678251905,
          0.27269026782519024,
          0.27269026782519046,
          0.2726902678251904,
          0.27269026782519035,
          0.27269026782519046,
          0.2726902678251904,
          0.27269026782519035,
          0.27269026782519046,
          0.27269026782519035,
          0.27269026782519035,
          0.2726902678251899,
          0.27269026782519024,
          0.27269026782519035,
          0.27269026782519046,
          0.27269026782519035,
          0.2726902678251904,
          0.27269026782519035,
          0.2726902678251908,
          0.2726902678251902,
          0.27269026782519035,
          0.27269026782519074,
          0.27269026782519035,
          0.2726902678251904,
          0.27269026782519035,
          0.27269026782519035,
          0.27269026782519057,
          0.2726902678251902,
          0.2726902678251902,
          0.2726902678251905,
          0.27269026782519035,
          0.27269026782519057,
          0.2726902678251905,
          0.27269026782519035,
          0.2726902678251902,
          0.27269026782519046,
          0.2726902678251902,
          0.27269026782519035,
          0.27269026782519057,
          0.27269026782519035,
          0.27269026782519035,
          0.27269026782519035,
          0.27269026782519046,
          0.2726902678251907,
          0.2726902678251905,
          0.2726902678251903,
          0.27269026782519057,
          0.27269026782519024,
          0.27269026782519035,
          0.27269026782519035,
          0.27269026782519035,
          0.2726902678251908,
          0.2726902678251905,
          0.2726902678251905,
          0.2726902678251904,
          0.27269026782519046,
          0.27269026782519046,
          0.27269026782519035,
          0.27269026782519,
          0.27269026782519046,
          0.27269026782519057,
          0.27269026782519057,
          0.27269026782519035,
          0.2726902678251904,
          0.27269026782519035,
          0.2726902678251905,
          0.27269026782519046,
          0.27269026782519035,
          0.27269026782519035,
          0.27269026782519024,
          0.27269026782519057,
          0.2726902678251906,
          0.2726902678251902,
          0.27269026782519046,
          0.27269026782519024,
          0.27269026782519035,
          0.2726902678251907,
          0.27269026782519046,
          0.2726902678251903,
          0.27269026782519057,
          0.27269026782519046,
          0.27269026782519057,
          0.27269026782519024,
          0.27269026782519046,
          0.2726902678251906,
          0.2726902678251903,
          0.27269026782519057,
          0.27269026782519024,
          0.2726902678251905,
          0.2726902678251904,
          0.27269026782519024,
          0.27269026782519046,
          0.2726902678251903,
          0.27269026782519035,
          0.27269026782519035,
          0.27269026782519046,
          0.27269026782519024,
          0.2726902678251904,
          0.2726902678251905,
          0.27269026782519035,
          0.27269026782519046,
          0.27269026782519057,
          0.27269026782519,
          0.2726902678251904,
          0.2726902678251903,
          0.27269026782519035,
          0.27269026782519035,
          0.2726902678251901,
          0.27269026782519057,
          0.27269026782519057,
          0.27269026782519046,
          0.2726902678251901,
          0.2726902678251905,
          0.27269026782519035,
          0.27269026782519035,
          0.27269026782519046,
          0.27269026782519035,
          0.2726902678251902,
          0.27269026782519035,
          0.2726902678251904,
          0.2726902678251902,
          0.2726902678251903,
          0.27269026782519046,
          0.2726902678251905,
          0.27269026782519046,
          0.2726902678251907,
          0.2726902678251902,
          0.27269026782519035,
          0.27269026782519035,
          0.2726902678251904,
          0.27269026782519057,
          0.27269026782519046,
          0.2726902678251902,
          0.27269026782519046,
          0.27269026782519035,
          0.2726902678251901,
          0.2726902678251903,
          0.2726902678251901,
          0.2726902678251905,
          0.27269026782519057,
          0.2726902678251905,
          0.2726902678251907,
          0.27269026782519046,
          0.2726902678251904,
          0.27269026782519057,
          0.2726902678251904,
          0.27269026782519057,
          0.2726902678251902,
          0.2726902678251901,
          0.27269026782519024,
          0.27269026782519046,
          0.2726902678251901,
          0.27269026782519024,
          0.2726902678251907,
          0.27269026782519046,
          0.2726902678251906,
          0.27269026782519046,
          0.27269026782519035,
          0.2726902678251904,
          0.27269026782519024,
          0.27269026782519035,
          0.2726902678251904,
          0.27269026782519035,
          0.27269026782519035,
          0.27269026782519035,
          0.27269026782519024,
          0.27269026782519046,
          0.2726902678251901,
          0.2726902678251902,
          0.27269026782519046,
          0.27269026782519035,
          0.2726902678251905,
          0.27269026782519057,
          0.27269026782519024,
          0.27269026782519035,
          0.2726902678251905,
          0.2726902678251904,
          0.27269026782519046,
          0.27269026782519024,
          0.2726902678251905,
          0.27269026782519035,
          0.2726902678251903,
          0.27269026782519024,
          0.2726902678251906,
          0.27269026782519046,
          0.2726902678251907,
          0.2726902678251906,
          0.2726902678251904,
          0.27269026782519057,
          0.27269026782519046,
          0.27269026782519046,
          0.2726902678251903,
          0.27269026782519007,
          0.27269026782519035,
          0.27269026782519057,
          0.27269026782519046,
          0.27269026782519035,
          0.2726902678251903,
          0.27269026782519046,
          0.2726902678251907,
          0.2726902678251901,
          0.27269026782519046,
          0.2726902678251905,
          0.27269026782519024,
          0.27269026782519046,
          0.27269026782519046,
          0.27269026782519046,
          0.27269026782519035,
          0.27269026782519035,
          0.2726902678251905,
          0.27269026782519046,
          0.2726902678251903,
          0.27269026782519035,
          0.27269026782519035,
          0.27269026782519035,
          0.27269026782519046,
          0.2726902678251907,
          0.27269026782519035,
          0.2726902678251906,
          0.27269026782519046,
          0.27269026782519046,
          0.27269026782519035,
          0.27269026782519024,
          0.27269026782519035,
          0.2726902678251907,
          0.2726902678251903,
          0.2726902678251905,
          0.27269026782519046,
          0.27269026782519046,
          0.27269026782519024,
          0.27269026782519007,
          0.2726902678251901,
          0.27269026782519035,
          0.27269026782519057,
          0.2726902678251904,
          0.2726902678251903,
          0.27269026782519057,
          0.2726902678251904,
          0.27269026782519035
         ],
         "yaxis": "y"
        },
        {
         "line": {
          "color": "red"
         },
         "mode": "lines",
         "name": "Precision Adjusted Option Price",
         "opacity": 0.8,
         "type": "scatter",
         "x": [
          6.1299,
          6.1299002002002005,
          6.129900400400401,
          6.1299006006006005,
          6.129900800800801,
          6.129901001001001,
          6.129901201201202,
          6.129901401401401,
          6.129901601601602,
          6.129901801801802,
          6.1299020020020025,
          6.129902202202202,
          6.1299024024024025,
          6.129902602602603,
          6.129902802802803,
          6.129903003003003,
          6.129903203203203,
          6.129903403403404,
          6.129903603603604,
          6.129903803803804,
          6.129904004004004,
          6.1299042042042045,
          6.129904404404405,
          6.129904604604604,
          6.129904804804805,
          6.129905005005005,
          6.129905205205206,
          6.129905405405405,
          6.129905605605606,
          6.129905805805806,
          6.129906006006006,
          6.129906206206206,
          6.129906406406406,
          6.129906606606607,
          6.129906806806807,
          6.129907007007007,
          6.129907207207207,
          6.129907407407408,
          6.129907607607608,
          6.1299078078078075,
          6.129908008008008,
          6.129908208208208,
          6.129908408408409,
          6.129908608608608,
          6.129908808808809,
          6.129909009009009,
          6.12990920920921,
          6.129909409409409,
          6.1299096096096095,
          6.12990980980981,
          6.12991001001001,
          6.12991021021021,
          6.12991041041041,
          6.129910610610611,
          6.129910810810811,
          6.1299110110110115,
          6.129911211211211,
          6.1299114114114115,
          6.129911611611612,
          6.129911811811812,
          6.129912012012012,
          6.129912212212212,
          6.129912412412413,
          6.129912612612613,
          6.129912812812813,
          6.129913013013013,
          6.1299132132132135,
          6.129913413413414,
          6.129913613613613,
          6.129913813813814,
          6.129914014014014,
          6.129914214214215,
          6.129914414414414,
          6.129914614614615,
          6.129914814814815,
          6.1299150150150155,
          6.129915215215215,
          6.129915415415415,
          6.129915615615616,
          6.129915815815816,
          6.129916016016016,
          6.129916216216216,
          6.129916416416417,
          6.129916616616617,
          6.1299168168168165,
          6.129917017017017,
          6.129917217217217,
          6.129917417417418,
          6.129917617617617,
          6.129917817817818,
          6.129918018018018,
          6.129918218218219,
          6.129918418418418,
          6.1299186186186185,
          6.129918818818819,
          6.129919019019019,
          6.129919219219219,
          6.129919419419419,
          6.12991961961962,
          6.12991981981982,
          6.12992002002002,
          6.12992022022022,
          6.1299204204204205,
          6.129920620620621,
          6.1299208208208205,
          6.129921021021021,
          6.129921221221221,
          6.129921421421422,
          6.129921621621622,
          6.129921821821822,
          6.129922022022022,
          6.1299222222222225,
          6.129922422422423,
          6.129922622622622,
          6.129922822822823,
          6.129923023023023,
          6.129923223223224,
          6.129923423423423,
          6.129923623623624,
          6.129923823823824,
          6.1299240240240245,
          6.129924224224224,
          6.129924424424424,
          6.129924624624625,
          6.129924824824825,
          6.129925025025025,
          6.129925225225225,
          6.129925425425426,
          6.129925625625626,
          6.129925825825826,
          6.129926026026026,
          6.129926226226226,
          6.129926426426427,
          6.129926626626626,
          6.129926826826827,
          6.129927027027027,
          6.129927227227228,
          6.129927427427427,
          6.1299276276276276,
          6.129927827827828,
          6.129928028028028,
          6.129928228228228,
          6.129928428428428,
          6.129928628628629,
          6.129928828828829,
          6.129929029029029,
          6.129929229229229,
          6.1299294294294295,
          6.12992962962963,
          6.1299298298298295,
          6.12993003003003,
          6.12993023023023,
          6.129930430430431,
          6.12993063063063,
          6.129930830830831,
          6.129931031031031,
          6.1299312312312315,
          6.129931431431431,
          6.1299316316316315,
          6.129931831831832,
          6.129932032032032,
          6.129932232232233,
          6.129932432432432,
          6.129932632632633,
          6.129932832832833,
          6.1299330330330335,
          6.129933233233233,
          6.129933433433433,
          6.129933633633634,
          6.129933833833834,
          6.129934034034034,
          6.129934234234234,
          6.129934434434435,
          6.129934634634635,
          6.129934834834835,
          6.129935035035035,
          6.129935235235235,
          6.129935435435436,
          6.129935635635635,
          6.129935835835836,
          6.129936036036036,
          6.129936236236237,
          6.129936436436436,
          6.129936636636637,
          6.129936836836837,
          6.129937037037037,
          6.129937237237237,
          6.129937437437437,
          6.129937637637638,
          6.129937837837838,
          6.129938038038038,
          6.129938238238238,
          6.1299384384384386,
          6.129938638638639,
          6.1299388388388385,
          6.129939039039039,
          6.129939239239239,
          6.12993943943944,
          6.129939639639639,
          6.12993983983984,
          6.12994004004004,
          6.1299402402402405,
          6.12994044044044,
          6.1299406406406405,
          6.129940840840841,
          6.129941041041041,
          6.129941241241241,
          6.129941441441441,
          6.129941641641642,
          6.129941841841842,
          6.129942042042042,
          6.129942242242242,
          6.1299424424424425,
          6.129942642642643,
          6.129942842842843,
          6.129943043043043,
          6.129943243243243,
          6.129943443443444,
          6.129943643643644,
          6.129943843843844,
          6.129944044044044,
          6.1299442442442444,
          6.129944444444445,
          6.129944644644644,
          6.129944844844845,
          6.129945045045045,
          6.129945245245246,
          6.129945445445445,
          6.129945645645646,
          6.129945845845846,
          6.129946046046046,
          6.129946246246246,
          6.129946446446446,
          6.129946646646647,
          6.129946846846847,
          6.129947047047047,
          6.129947247247247,
          6.129947447447448,
          6.129947647647648,
          6.1299478478478475,
          6.129948048048048,
          6.129948248248248,
          6.129948448448449,
          6.129948648648648,
          6.129948848848849,
          6.129949049049049,
          6.1299492492492496,
          6.129949449449449,
          6.1299496496496495,
          6.12994984984985,
          6.12995005005005,
          6.12995025025025,
          6.12995045045045,
          6.129950650650651,
          6.129950850850851,
          6.129951051051051,
          6.129951251251251,
          6.1299514514514515,
          6.129951651651652,
          6.129951851851851,
          6.129952052052052,
          6.129952252252252,
          6.129952452452453,
          6.129952652652653,
          6.129952852852853,
          6.129953053053053,
          6.1299532532532535,
          6.129953453453454,
          6.129953653653653,
          6.129953853853854,
          6.129954054054054,
          6.129954254254255,
          6.129954454454454,
          6.129954654654655,
          6.129954854854855,
          6.1299550550550554,
          6.129955255255255,
          6.129955455455455,
          6.129955655655656,
          6.129955855855856,
          6.129956056056056,
          6.129956256256256,
          6.129956456456457,
          6.129956656656657,
          6.1299568568568565,
          6.129957057057057,
          6.129957257257257,
          6.129957457457458,
          6.129957657657657,
          6.129957857857858,
          6.129958058058058,
          6.129958258258259,
          6.129958458458458,
          6.1299586586586585,
          6.129958858858859,
          6.129959059059059,
          6.129959259259259,
          6.129959459459459,
          6.12995965965966,
          6.12995985985986,
          6.12996006006006,
          6.12996026026026,
          6.1299604604604605,
          6.129960660660661,
          6.1299608608608604,
          6.129961061061061,
          6.129961261261261,
          6.129961461461462,
          6.129961661661661,
          6.129961861861862,
          6.129962062062062,
          6.1299622622622625,
          6.129962462462462,
          6.129962662662662,
          6.129962862862863,
          6.129963063063063,
          6.129963263263264,
          6.129963463463463,
          6.129963663663664,
          6.129963863863864,
          6.1299640640640645,
          6.129964264264264,
          6.129964464464464,
          6.129964664664665,
          6.129964864864865,
          6.129965065065065,
          6.129965265265265,
          6.129965465465466,
          6.129965665665666,
          6.129965865865866,
          6.129966066066066,
          6.129966266266266,
          6.129966466466467,
          6.129966666666666,
          6.129966866866867,
          6.129967067067067,
          6.129967267267268,
          6.129967467467467,
          6.1299676676676675,
          6.129967867867868,
          6.129968068068068,
          6.129968268268268,
          6.129968468468468,
          6.129968668668669,
          6.129968868868869,
          6.129969069069069,
          6.129969269269269,
          6.1299694694694695,
          6.12996966966967,
          6.1299698698698695,
          6.12997007007007,
          6.12997027027027,
          6.129970470470471,
          6.12997067067067,
          6.129970870870871,
          6.129971071071071,
          6.1299712712712715,
          6.129971471471471,
          6.1299716716716715,
          6.129971871871872,
          6.129972072072072,
          6.129972272272272,
          6.129972472472472,
          6.129972672672673,
          6.129972872872873,
          6.129973073073073,
          6.129973273273273,
          6.129973473473473,
          6.129973673673674,
          6.129973873873874,
          6.129974074074074,
          6.129974274274274,
          6.129974474474475,
          6.129974674674675,
          6.129974874874875,
          6.129975075075075,
          6.129975275275275,
          6.129975475475476,
          6.129975675675675,
          6.129975875875876,
          6.129976076076076,
          6.129976276276277,
          6.129976476476476,
          6.129976676676677,
          6.129976876876877,
          6.129977077077077,
          6.129977277277277,
          6.129977477477477,
          6.129977677677678,
          6.129977877877878,
          6.129978078078078,
          6.129978278278278,
          6.1299784784784785,
          6.129978678678679,
          6.1299788788788785,
          6.129979079079079,
          6.129979279279279,
          6.12997947947948,
          6.129979679679679,
          6.12997987987988,
          6.12998008008008,
          6.1299802802802805,
          6.12998048048048,
          6.1299806806806805,
          6.129980880880881,
          6.129981081081081,
          6.129981281281281,
          6.129981481481481,
          6.129981681681682,
          6.129981881881882,
          6.129982082082082,
          6.129982282282282,
          6.1299824824824825,
          6.129982682682683,
          6.129982882882882,
          6.129983083083083,
          6.129983283283283,
          6.129983483483484,
          6.129983683683683,
          6.129983883883884,
          6.129984084084084,
          6.129984284284284,
          6.129984484484485,
          6.129984684684684,
          6.129984884884885,
          6.129985085085085,
          6.129985285285286,
          6.129985485485485,
          6.129985685685686,
          6.129985885885886,
          6.129986086086086,
          6.129986286286286,
          6.129986486486486,
          6.129986686686687,
          6.129986886886887,
          6.129987087087087,
          6.129987287287287,
          6.129987487487488,
          6.129987687687688,
          6.1299878878878875,
          6.129988088088088,
          6.129988288288288,
          6.129988488488489,
          6.129988688688688,
          6.129988888888889,
          6.129989089089089,
          6.1299892892892895,
          6.129989489489489,
          6.1299896896896895,
          6.12998988988989,
          6.12999009009009,
          6.12999029029029,
          6.12999049049049,
          6.129990690690691,
          6.129990890890891,
          6.129991091091091,
          6.129991291291291,
          6.1299914914914915,
          6.129991691691692,
          6.129991891891891,
          6.129992092092092,
          6.129992292292292,
          6.129992492492493,
          6.129992692692692,
          6.129992892892893,
          6.129993093093093,
          6.1299932932932935,
          6.129993493493493,
          6.129993693693693,
          6.129993893893894,
          6.129994094094094,
          6.129994294294294,
          6.129994494494494,
          6.129994694694695,
          6.129994894894895,
          6.129995095095095,
          6.129995295295295,
          6.129995495495495,
          6.129995695695696,
          6.129995895895896,
          6.129996096096096,
          6.129996296296296,
          6.129996496496497,
          6.129996696696697,
          6.1299968968968965,
          6.129997097097097,
          6.129997297297297,
          6.129997497497498,
          6.129997697697697,
          6.129997897897898,
          6.129998098098098,
          6.129998298298299,
          6.129998498498498,
          6.1299986986986985,
          6.129998898898899,
          6.129999099099099,
          6.129999299299299,
          6.129999499499499,
          6.1299996996997,
          6.1299998998999,
          6.1300001001001,
          6.1300003003003,
          6.1300005005005005,
          6.130000700700701,
          6.1300009009009,
          6.130001101101101,
          6.130001301301301,
          6.130001501501502,
          6.130001701701701,
          6.130001901901902,
          6.130002102102102,
          6.1300023023023025,
          6.130002502502502,
          6.130002702702702,
          6.130002902902903,
          6.130003103103103,
          6.130003303303303,
          6.130003503503503,
          6.130003703703704,
          6.130003903903904,
          6.130004104104104,
          6.130004304304304,
          6.130004504504504,
          6.130004704704705,
          6.130004904904904,
          6.130005105105105,
          6.130005305305305,
          6.130005505505506,
          6.130005705705706,
          6.1300059059059055,
          6.130006106106106,
          6.130006306306306,
          6.130006506506507,
          6.130006706706706,
          6.130006906906907,
          6.130007107107107,
          6.130007307307308,
          6.130007507507507,
          6.1300077077077075,
          6.130007907907908,
          6.130008108108108,
          6.130008308308308,
          6.130008508508508,
          6.130008708708709,
          6.130008908908909,
          6.130009109109109,
          6.130009309309309,
          6.1300095095095095,
          6.13000970970971,
          6.1300099099099095,
          6.13001011011011,
          6.13001031031031,
          6.130010510510511,
          6.13001071071071,
          6.130010910910911,
          6.130011111111111,
          6.1300113113113115,
          6.130011511511511,
          6.130011711711711,
          6.130011911911912,
          6.130012112112112,
          6.130012312312312,
          6.130012512512512,
          6.130012712712713,
          6.130012912912913,
          6.130013113113113,
          6.130013313313313,
          6.130013513513513,
          6.130013713713714,
          6.130013913913913,
          6.130014114114114,
          6.130014314314314,
          6.130014514514515,
          6.130014714714714,
          6.130014914914915,
          6.130015115115115,
          6.130015315315315,
          6.130015515515515,
          6.130015715715715,
          6.130015915915916,
          6.130016116116116,
          6.130016316316317,
          6.130016516516516,
          6.1300167167167166,
          6.130016916916917,
          6.130017117117117,
          6.130017317317317,
          6.130017517517517,
          6.130017717717718,
          6.130017917917918,
          6.130018118118118,
          6.130018318318318,
          6.1300185185185185,
          6.130018718718719,
          6.1300189189189185,
          6.130019119119119,
          6.130019319319319,
          6.13001951951952,
          6.130019719719719,
          6.13001991991992,
          6.13002012012012,
          6.1300203203203205,
          6.13002052052052,
          6.1300207207207205,
          6.130020920920921,
          6.130021121121121,
          6.130021321321321,
          6.130021521521521,
          6.130021721721722,
          6.130021921921922,
          6.130022122122122,
          6.130022322322322,
          6.130022522522522,
          6.130022722722723,
          6.130022922922922,
          6.130023123123123,
          6.130023323323323,
          6.130023523523524,
          6.130023723723723,
          6.130023923923924,
          6.130024124124124,
          6.130024324324324,
          6.130024524524524,
          6.130024724724724,
          6.130024924924925,
          6.130025125125125,
          6.130025325325325,
          6.130025525525525,
          6.130025725725726,
          6.130025925925926,
          6.1300261261261255,
          6.130026326326326,
          6.130026526526526,
          6.130026726726727,
          6.130026926926927,
          6.130027127127127,
          6.130027327327327,
          6.1300275275275276,
          6.130027727727728,
          6.1300279279279275,
          6.130028128128128,
          6.130028328328328,
          6.130028528528529,
          6.130028728728728,
          6.130028928928929,
          6.130029129129129,
          6.1300293293293295,
          6.130029529529529,
          6.1300297297297295,
          6.13002992992993,
          6.13003013013013,
          6.13003033033033,
          6.13003053053053,
          6.130030730730731,
          6.130030930930931,
          6.130031131131131,
          6.130031331331331,
          6.1300315315315315,
          6.130031731731732,
          6.130031931931931,
          6.130032132132132,
          6.130032332332332,
          6.130032532532533,
          6.130032732732732,
          6.130032932932933,
          6.130033133133133,
          6.1300333333333334,
          6.130033533533533,
          6.130033733733733,
          6.130033933933934,
          6.130034134134134,
          6.130034334334334,
          6.130034534534534,
          6.130034734734735,
          6.130034934934935,
          6.1300351351351345,
          6.130035335335335,
          6.130035535535535,
          6.130035735735736,
          6.130035935935935,
          6.130036136136136,
          6.130036336336336,
          6.130036536536537,
          6.130036736736736,
          6.1300369369369365,
          6.130037137137137,
          6.130037337337337,
          6.130037537537538,
          6.130037737737737,
          6.130037937937938,
          6.130038138138138,
          6.1300383383383386,
          6.130038538538538,
          6.1300387387387385,
          6.130038938938939,
          6.130039139139139,
          6.130039339339339,
          6.130039539539539,
          6.13003973973974,
          6.13003993993994,
          6.13004014014014,
          6.13004034034034,
          6.1300405405405405,
          6.130040740740741,
          6.13004094094094,
          6.130041141141141,
          6.130041341341341,
          6.130041541541542,
          6.130041741741741,
          6.130041941941942,
          6.130042142142142,
          6.1300423423423425,
          6.130042542542542,
          6.130042742742742,
          6.130042942942943,
          6.130043143143143,
          6.130043343343343,
          6.130043543543543,
          6.130043743743744,
          6.130043943943944,
          6.130044144144144,
          6.130044344344344,
          6.130044544544544,
          6.130044744744745,
          6.130044944944944,
          6.130045145145145,
          6.130045345345345,
          6.130045545545546,
          6.130045745745745,
          6.1300459459459455,
          6.130046146146146,
          6.130046346346346,
          6.130046546546546,
          6.130046746746746,
          6.130046946946947,
          6.130047147147147,
          6.130047347347347,
          6.130047547547547,
          6.1300477477477475,
          6.130047947947948,
          6.130048148148148,
          6.130048348348348,
          6.130048548548548,
          6.130048748748749,
          6.130048948948949,
          6.130049149149149,
          6.130049349349349,
          6.1300495495495495,
          6.13004974974975,
          6.1300499499499495,
          6.13005015015015,
          6.13005035035035,
          6.130050550550551,
          6.13005075075075,
          6.130050950950951,
          6.130051151151151,
          6.1300513513513515,
          6.130051551551551,
          6.130051751751751,
          6.130051951951952,
          6.130052152152152,
          6.130052352352352,
          6.130052552552552,
          6.130052752752753,
          6.130052952952953,
          6.130053153153153,
          6.130053353353353,
          6.130053553553553,
          6.130053753753754,
          6.130053953953953,
          6.130054154154154,
          6.130054354354354,
          6.130054554554555,
          6.130054754754754,
          6.130054954954955,
          6.130055155155155,
          6.130055355355355,
          6.130055555555555,
          6.130055755755755,
          6.130055955955956,
          6.130056156156156,
          6.130056356356356,
          6.130056556556556,
          6.1300567567567565,
          6.130056956956957,
          6.1300571571571565,
          6.130057357357357,
          6.130057557557557,
          6.130057757757758,
          6.130057957957958,
          6.130058158158158,
          6.130058358358358,
          6.1300585585585585,
          6.130058758758759,
          6.1300589589589585,
          6.130059159159159,
          6.130059359359359,
          6.13005955955956,
          6.130059759759759,
          6.13005995995996,
          6.13006016016016,
          6.1300603603603605,
          6.13006056056056,
          6.1300607607607605,
          6.130060960960961,
          6.130061161161161,
          6.130061361361361,
          6.130061561561561,
          6.130061761761762,
          6.130061961961962,
          6.130062162162162,
          6.130062362362362,
          6.130062562562562,
          6.130062762762763,
          6.130062962962962,
          6.130063163163163,
          6.130063363363363,
          6.130063563563564,
          6.130063763763763,
          6.130063963963964,
          6.130064164164164,
          6.130064364364364,
          6.130064564564564,
          6.130064764764764,
          6.130064964964965,
          6.130065165165165,
          6.130065365365365,
          6.130065565565565,
          6.130065765765766,
          6.130065965965966,
          6.1300661661661655,
          6.130066366366366,
          6.130066566566566,
          6.130066766766767,
          6.130066966966966,
          6.130067167167167,
          6.130067367367367,
          6.1300675675675675,
          6.130067767767767,
          6.1300679679679675,
          6.130068168168168,
          6.130068368368368,
          6.130068568568569,
          6.130068768768768,
          6.130068968968969,
          6.130069169169169,
          6.1300693693693695,
          6.130069569569569,
          6.1300697697697695,
          6.13006996996997,
          6.13007017017017,
          6.13007037037037,
          6.13007057057057,
          6.130070770770771,
          6.130070970970971,
          6.130071171171171,
          6.130071371371371,
          6.1300715715715715,
          6.130071771771772,
          6.130071971971971,
          6.130072172172172,
          6.130072372372372,
          6.130072572572573,
          6.130072772772772,
          6.130072972972973,
          6.130073173173173,
          6.130073373373373,
          6.130073573573573,
          6.130073773773773,
          6.130073973973974,
          6.130074174174174,
          6.130074374374374,
          6.130074574574574,
          6.130074774774775,
          6.130074974974975,
          6.1300751751751745,
          6.130075375375375,
          6.130075575575575,
          6.130075775775776,
          6.130075975975975,
          6.130076176176176,
          6.130076376376376,
          6.130076576576577,
          6.130076776776776,
          6.1300769769769765,
          6.130077177177177,
          6.130077377377377,
          6.130077577577577,
          6.130077777777777,
          6.130077977977978,
          6.130078178178178,
          6.130078378378378,
          6.130078578578578,
          6.1300787787787785,
          6.130078978978979,
          6.130079179179179,
          6.130079379379379,
          6.130079579579579,
          6.13007977977978,
          6.13007997997998,
          6.13008018018018,
          6.13008038038038,
          6.1300805805805805,
          6.130080780780781,
          6.13008098098098,
          6.130081181181181,
          6.130081381381381,
          6.130081581581582,
          6.130081781781781,
          6.130081981981982,
          6.130082182182182,
          6.1300823823823825,
          6.130082582582582,
          6.130082782782782,
          6.130082982982983,
          6.130083183183183,
          6.130083383383383,
          6.130083583583583,
          6.130083783783784,
          6.130083983983984,
          6.1300841841841835,
          6.130084384384384,
          6.130084584584584,
          6.130084784784785,
          6.130084984984984,
          6.130085185185185,
          6.130085385385385,
          6.130085585585586,
          6.130085785785785,
          6.1300859859859855,
          6.130086186186186,
          6.130086386386386,
          6.130086586586586,
          6.130086786786786,
          6.130086986986987,
          6.130087187187187,
          6.130087387387387,
          6.130087587587587,
          6.1300877877877875,
          6.130087987987988,
          6.1300881881881875,
          6.130088388388388,
          6.130088588588588,
          6.130088788788789,
          6.130088988988988,
          6.130089189189189,
          6.130089389389389,
          6.1300895895895895,
          6.13008978978979,
          6.130089989989989,
          6.13009019019019,
          6.13009039039039,
          6.130090590590591,
          6.13009079079079,
          6.130090990990991,
          6.130091191191191,
          6.1300913913913915,
          6.130091591591591,
          6.130091791791791,
          6.130091991991992,
          6.130092192192192,
          6.130092392392392,
          6.130092592592592,
          6.130092792792793,
          6.130092992992993,
          6.130093193193193,
          6.130093393393393,
          6.130093593593593,
          6.130093793793794,
          6.130093993993993,
          6.130094194194194,
          6.130094394394394,
          6.130094594594595,
          6.130094794794794,
          6.1300949949949946,
          6.130095195195195,
          6.130095395395395,
          6.130095595595595,
          6.130095795795795,
          6.130095995995996,
          6.130096196196196,
          6.130096396396396,
          6.130096596596596,
          6.1300967967967965,
          6.130096996996997,
          6.1300971971971965,
          6.130097397397397,
          6.130097597597597,
          6.130097797797798,
          6.130097997997997,
          6.130098198198198,
          6.130098398398398,
          6.1300985985985985,
          6.130098798798798,
          6.1300989989989985,
          6.130099199199199,
          6.130099399399399,
          6.130099599599599,
          6.130099799799799,
          6.1301
         ],
         "xaxis": "x",
         "y": [
          0.27269026782519,
          0.27269026782519,
          0.27269026782519,
          0.27269026782519,
          0.27269026782519,
          0.27269026782519,
          0.27269026782519,
          0.27269026782519,
          0.27269026782519,
          0.27269026782519,
          0.27269026782519,
          0.27269026782519,
          0.27269026782519,
          0.27269026782519,
          0.27269026782519,
          0.27269026782519,
          0.27269026782519,
          0.27269026782519,
          0.27269026782519,
          0.27269026782519,
          0.27269026782519,
          0.27269026782519,
          0.27269026782519,
          0.27269026782519,
          0.27269026782519,
          0.27269026782519,
          0.27269026782519,
          0.27269026782519,
          0.27269026782519,
          0.27269026782519,
          0.27269026782519,
          0.27269026782519,
          0.27269026782519,
          0.27269026782519,
          0.27269026782519,
          0.27269026782519,
          0.27269026782519,
          0.27269026782519,
          0.27269026782519,
          0.27269026782519,
          0.27269026782519,
          0.27269026782519,
          0.27269026782519,
          0.27269026782519,
          0.27269026782519,
          0.27269026782519,
          0.27269026782519,
          0.27269026782519,
          0.27269026782519,
          0.27269026782519,
          0.27269026782519,
          0.27269026782519,
          0.27269026782519,
          0.27269026782519,
          0.27269026782519,
          0.27269026782519,
          0.27269026782519,
          0.27269026782519,
          0.27269026782519,
          0.27269026782519,
          0.27269026782519,
          0.27269026782519,
          0.27269026782519,
          0.27269026782519,
          0.27269026782519,
          0.27269026782519,
          0.27269026782519,
          0.27269026782519,
          0.27269026782519,
          0.27269026782519,
          0.27269026782519,
          0.27269026782519,
          0.27269026782519,
          0.27269026782519,
          0.27269026782519,
          0.27269026782519,
          0.27269026782519,
          0.27269026782519,
          0.27269026782519,
          0.27269026782519,
          0.27269026782519,
          0.27269026782519,
          0.27269026782519,
          0.27269026782519,
          0.27269026782519,
          0.27269026782519,
          0.27269026782519,
          0.27269026782519,
          0.27269026782519,
          0.27269026782519,
          0.27269026782519,
          0.27269026782519,
          0.27269026782519,
          0.27269026782519,
          0.27269026782519,
          0.27269026782519,
          0.27269026782519,
          0.27269026782519,
          0.27269026782519,
          0.27269026782519,
          0.27269026782519,
          0.27269026782519,
          0.27269026782519,
          0.27269026782519,
          0.27269026782519,
          0.27269026782519,
          0.27269026782519,
          0.27269026782519,
          0.27269026782519,
          0.27269026782519,
          0.27269026782519,
          0.27269026782519,
          0.27269026782519,
          0.27269026782519,
          0.27269026782519,
          0.27269026782519,
          0.27269026782519,
          0.27269026782519,
          0.27269026782519,
          0.27269026782519,
          0.27269026782519,
          0.27269026782519,
          0.27269026782519,
          0.27269026782519,
          0.27269026782519,
          0.27269026782519,
          0.27269026782519,
          0.27269026782519,
          0.27269026782519,
          0.27269026782519,
          0.27269026782519,
          0.27269026782519,
          0.27269026782519,
          0.27269026782519,
          0.27269026782519,
          0.27269026782519,
          0.27269026782519,
          0.27269026782519,
          0.27269026782519,
          0.27269026782519,
          0.27269026782519,
          0.27269026782519,
          0.27269026782519,
          0.27269026782519,
          0.27269026782519,
          0.27269026782519,
          0.27269026782519,
          0.27269026782519,
          0.27269026782519,
          0.27269026782519,
          0.27269026782519,
          0.27269026782519,
          0.27269026782519,
          0.27269026782519,
          0.27269026782519,
          0.27269026782519,
          0.27269026782519,
          0.27269026782519,
          0.27269026782519,
          0.27269026782519,
          0.27269026782519,
          0.27269026782519,
          0.27269026782519,
          0.27269026782519,
          0.27269026782519,
          0.27269026782519,
          0.27269026782519,
          0.27269026782519,
          0.27269026782519,
          0.27269026782519,
          0.27269026782519,
          0.27269026782519,
          0.27269026782519,
          0.27269026782519,
          0.27269026782519,
          0.27269026782519,
          0.27269026782519,
          0.27269026782519,
          0.27269026782519,
          0.27269026782519,
          0.27269026782519,
          0.27269026782519,
          0.27269026782519,
          0.27269026782519,
          0.27269026782519,
          0.27269026782519,
          0.27269026782519,
          0.27269026782519,
          0.27269026782519,
          0.27269026782519,
          0.27269026782519,
          0.27269026782519,
          0.27269026782519,
          0.27269026782519,
          0.27269026782519,
          0.27269026782519,
          0.27269026782519,
          0.27269026782519,
          0.27269026782519,
          0.27269026782519,
          0.27269026782519,
          0.27269026782519,
          0.27269026782519,
          0.27269026782519,
          0.27269026782519,
          0.27269026782519,
          0.27269026782519,
          0.27269026782519,
          0.27269026782519,
          0.27269026782519,
          0.27269026782519,
          0.27269026782519,
          0.27269026782519,
          0.27269026782519,
          0.27269026782519,
          0.27269026782519,
          0.27269026782519,
          0.27269026782519,
          0.27269026782519,
          0.27269026782519,
          0.27269026782519,
          0.27269026782519,
          0.27269026782519,
          0.27269026782519,
          0.27269026782519,
          0.27269026782519,
          0.27269026782519,
          0.27269026782519,
          0.27269026782519,
          0.27269026782519,
          0.27269026782519,
          0.27269026782519,
          0.27269026782519,
          0.27269026782519,
          0.27269026782519,
          0.27269026782519,
          0.27269026782519,
          0.27269026782519,
          0.27269026782519,
          0.27269026782519,
          0.27269026782519,
          0.27269026782519,
          0.27269026782519,
          0.27269026782519,
          0.27269026782519,
          0.27269026782519,
          0.27269026782519,
          0.27269026782519,
          0.27269026782519,
          0.27269026782519,
          0.27269026782519,
          0.27269026782519,
          0.27269026782519,
          0.27269026782519,
          0.27269026782519,
          0.27269026782519,
          0.27269026782519,
          0.27269026782519,
          0.27269026782519,
          0.27269026782519,
          0.27269026782519,
          0.27269026782519,
          0.27269026782519,
          0.27269026782519,
          0.27269026782519,
          0.27269026782519,
          0.27269026782519,
          0.27269026782519,
          0.27269026782519,
          0.27269026782519,
          0.27269026782519,
          0.27269026782519,
          0.27269026782519,
          0.27269026782519,
          0.27269026782519,
          0.27269026782519,
          0.27269026782519,
          0.27269026782519,
          0.27269026782519,
          0.27269026782519,
          0.27269026782519,
          0.27269026782519,
          0.27269026782519,
          0.27269026782519,
          0.27269026782519,
          0.27269026782519,
          0.27269026782519,
          0.27269026782519,
          0.27269026782519,
          0.27269026782519,
          0.27269026782519,
          0.27269026782519,
          0.27269026782519,
          0.27269026782519,
          0.27269026782519,
          0.27269026782519,
          0.27269026782519,
          0.27269026782519,
          0.27269026782519,
          0.27269026782519,
          0.27269026782519,
          0.27269026782519,
          0.27269026782519,
          0.27269026782519,
          0.27269026782519,
          0.27269026782519,
          0.27269026782519,
          0.27269026782519,
          0.27269026782519,
          0.27269026782519,
          0.27269026782519,
          0.27269026782519,
          0.27269026782519,
          0.27269026782519,
          0.27269026782519,
          0.27269026782519,
          0.27269026782519,
          0.27269026782519,
          0.27269026782519,
          0.27269026782519,
          0.27269026782519,
          0.27269026782519,
          0.27269026782519,
          0.27269026782519,
          0.27269026782519,
          0.27269026782519,
          0.27269026782519,
          0.27269026782519,
          0.27269026782519,
          0.27269026782519,
          0.27269026782519,
          0.27269026782519,
          0.27269026782519,
          0.27269026782519,
          0.27269026782519,
          0.27269026782519,
          0.27269026782519,
          0.27269026782519,
          0.27269026782519,
          0.27269026782519,
          0.27269026782519,
          0.27269026782519,
          0.27269026782519,
          0.27269026782519,
          0.27269026782519,
          0.27269026782519,
          0.27269026782519,
          0.27269026782519,
          0.27269026782519,
          0.27269026782519,
          0.27269026782519,
          0.27269026782519,
          0.27269026782519,
          0.27269026782519,
          0.27269026782519,
          0.27269026782519,
          0.27269026782519,
          0.27269026782519,
          0.27269026782519,
          0.27269026782519,
          0.27269026782519,
          0.27269026782519,
          0.27269026782519,
          0.27269026782519,
          0.27269026782519,
          0.27269026782519,
          0.27269026782519,
          0.27269026782519,
          0.27269026782519,
          0.27269026782519,
          0.27269026782519,
          0.27269026782519,
          0.27269026782519,
          0.27269026782519,
          0.27269026782519,
          0.27269026782519,
          0.27269026782519,
          0.27269026782519,
          0.27269026782519,
          0.27269026782519,
          0.27269026782519,
          0.27269026782519,
          0.27269026782519,
          0.27269026782519,
          0.27269026782519,
          0.27269026782519,
          0.27269026782519,
          0.27269026782519,
          0.27269026782519,
          0.27269026782519,
          0.27269026782519,
          0.27269026782519,
          0.27269026782519,
          0.27269026782519,
          0.27269026782519,
          0.27269026782519,
          0.27269026782519,
          0.27269026782519,
          0.27269026782519,
          0.27269026782519,
          0.27269026782519,
          0.27269026782519,
          0.27269026782519,
          0.27269026782519,
          0.27269026782519,
          0.27269026782519,
          0.27269026782519,
          0.27269026782519,
          0.27269026782519,
          0.27269026782519,
          0.27269026782519,
          0.27269026782519,
          0.27269026782519,
          0.27269026782519,
          0.27269026782519,
          0.27269026782519,
          0.27269026782519,
          0.27269026782519,
          0.27269026782519,
          0.27269026782519,
          0.27269026782519,
          0.27269026782519,
          0.27269026782519,
          0.27269026782519,
          0.27269026782519,
          0.27269026782519,
          0.27269026782519,
          0.27269026782519,
          0.27269026782519,
          0.27269026782519,
          0.27269026782519,
          0.27269026782519,
          0.27269026782519,
          0.27269026782519,
          0.27269026782519,
          0.27269026782519,
          0.27269026782519,
          0.27269026782519,
          0.27269026782519,
          0.27269026782519,
          0.27269026782519,
          0.27269026782519,
          0.27269026782519,
          0.27269026782519,
          0.27269026782519,
          0.27269026782519,
          0.27269026782519,
          0.27269026782519,
          0.27269026782519,
          0.27269026782519,
          0.27269026782519,
          0.27269026782519,
          0.27269026782519,
          0.27269026782519,
          0.27269026782519,
          0.27269026782519,
          0.27269026782519,
          0.27269026782519,
          0.27269026782519,
          0.27269026782519,
          0.27269026782519,
          0.27269026782519,
          0.27269026782519,
          0.27269026782519,
          0.27269026782519,
          0.27269026782519,
          0.27269026782519,
          0.27269026782519,
          0.27269026782519,
          0.27269026782519,
          0.27269026782519,
          0.27269026782519,
          0.27269026782519,
          0.27269026782519,
          0.27269026782519,
          0.27269026782519,
          0.27269026782519,
          0.27269026782519,
          0.27269026782519,
          0.27269026782519,
          0.27269026782519,
          0.27269026782519,
          0.27269026782519,
          0.27269026782519,
          0.27269026782519,
          0.27269026782519,
          0.27269026782519,
          0.27269026782519,
          0.27269026782519,
          0.27269026782519,
          0.27269026782519,
          0.27269026782519,
          0.27269026782519,
          0.27269026782519,
          0.27269026782519,
          0.27269026782519,
          0.27269026782519,
          0.27269026782519,
          0.27269026782519,
          0.27269026782519,
          0.27269026782519,
          0.27269026782519,
          0.27269026782519,
          0.27269026782519,
          0.27269026782519,
          0.27269026782519,
          0.27269026782519,
          0.27269026782519,
          0.27269026782519,
          0.27269026782519,
          0.27269026782519,
          0.27269026782519,
          0.27269026782519,
          0.27269026782519,
          0.27269026782519,
          0.27269026782519,
          0.27269026782519,
          0.27269026782519,
          0.27269026782519,
          0.27269026782519,
          0.27269026782519,
          0.27269026782519,
          0.27269026782519,
          0.27269026782519,
          0.27269026782519,
          0.27269026782519,
          0.27269026782519,
          0.27269026782519,
          0.27269026782519,
          0.27269026782519,
          0.27269026782519,
          0.27269026782519,
          0.27269026782519,
          0.27269026782519,
          0.27269026782519,
          0.27269026782519,
          0.27269026782519,
          0.27269026782519,
          0.27269026782519,
          0.27269026782519,
          0.27269026782519,
          0.27269026782519,
          0.27269026782519,
          0.27269026782519,
          0.27269026782519,
          0.27269026782519,
          0.27269026782519,
          0.27269026782519,
          0.27269026782519,
          0.27269026782519,
          0.27269026782519,
          0.27269026782519,
          0.27269026782519,
          0.27269026782519,
          0.27269026782519,
          0.27269026782519,
          0.27269026782519,
          0.27269026782519,
          0.27269026782519,
          0.27269026782519,
          0.27269026782519,
          0.27269026782519,
          0.27269026782519,
          0.27269026782519,
          0.27269026782519,
          0.27269026782519,
          0.27269026782519,
          0.27269026782519,
          0.27269026782519,
          0.27269026782519,
          0.27269026782519,
          0.27269026782519,
          0.27269026782519,
          0.27269026782519,
          0.27269026782519,
          0.27269026782519,
          0.27269026782519,
          0.27269026782519,
          0.27269026782519,
          0.27269026782519,
          0.27269026782519,
          0.27269026782519,
          0.27269026782519,
          0.27269026782519,
          0.27269026782519,
          0.27269026782519,
          0.27269026782519,
          0.27269026782519,
          0.27269026782519,
          0.27269026782519,
          0.27269026782519,
          0.27269026782519,
          0.27269026782519,
          0.27269026782519,
          0.27269026782519,
          0.27269026782519,
          0.27269026782519,
          0.27269026782519,
          0.27269026782519,
          0.27269026782519,
          0.27269026782519,
          0.27269026782519,
          0.27269026782519,
          0.27269026782519,
          0.27269026782519,
          0.27269026782519,
          0.27269026782519,
          0.27269026782519,
          0.27269026782519,
          0.27269026782519,
          0.27269026782519,
          0.27269026782519,
          0.27269026782519,
          0.27269026782519,
          0.27269026782519,
          0.27269026782519,
          0.27269026782519,
          0.27269026782519,
          0.27269026782519,
          0.27269026782519,
          0.27269026782519,
          0.27269026782519,
          0.27269026782519,
          0.27269026782519,
          0.27269026782519,
          0.27269026782519,
          0.27269026782519,
          0.27269026782519,
          0.27269026782519,
          0.27269026782519,
          0.27269026782519,
          0.27269026782519,
          0.27269026782519,
          0.27269026782519,
          0.27269026782519,
          0.27269026782519,
          0.27269026782519,
          0.27269026782519,
          0.27269026782519,
          0.27269026782519,
          0.27269026782519,
          0.27269026782519,
          0.27269026782519,
          0.27269026782519,
          0.27269026782519,
          0.27269026782519,
          0.27269026782519,
          0.27269026782519,
          0.27269026782519,
          0.27269026782519,
          0.27269026782519,
          0.27269026782519,
          0.27269026782519,
          0.27269026782519,
          0.27269026782519,
          0.27269026782519,
          0.27269026782519,
          0.27269026782519,
          0.27269026782519,
          0.27269026782519,
          0.27269026782519,
          0.27269026782519,
          0.27269026782519,
          0.27269026782519,
          0.27269026782519,
          0.27269026782519,
          0.27269026782519,
          0.27269026782519,
          0.27269026782519,
          0.27269026782519,
          0.27269026782519,
          0.27269026782519,
          0.27269026782519,
          0.27269026782519,
          0.27269026782519,
          0.27269026782519,
          0.27269026782519,
          0.27269026782519,
          0.27269026782519,
          0.27269026782519,
          0.27269026782519,
          0.27269026782519,
          0.27269026782519,
          0.27269026782519,
          0.27269026782519,
          0.27269026782519,
          0.27269026782519,
          0.27269026782519,
          0.27269026782519,
          0.27269026782519,
          0.27269026782519,
          0.27269026782519,
          0.27269026782519,
          0.27269026782519,
          0.27269026782519,
          0.27269026782519,
          0.27269026782519,
          0.27269026782519,
          0.27269026782519,
          0.27269026782519,
          0.27269026782519,
          0.27269026782519,
          0.27269026782519,
          0.27269026782519,
          0.27269026782519,
          0.27269026782519,
          0.27269026782519,
          0.27269026782519,
          0.27269026782519,
          0.27269026782519,
          0.27269026782519,
          0.27269026782519,
          0.27269026782519,
          0.27269026782519,
          0.27269026782519,
          0.27269026782519,
          0.27269026782519,
          0.27269026782519,
          0.27269026782519,
          0.27269026782519,
          0.27269026782519,
          0.27269026782519,
          0.27269026782519,
          0.27269026782519,
          0.27269026782519,
          0.27269026782519,
          0.27269026782519,
          0.27269026782519,
          0.27269026782519,
          0.27269026782519,
          0.27269026782519,
          0.27269026782519,
          0.27269026782519,
          0.27269026782519,
          0.27269026782519,
          0.27269026782519,
          0.27269026782519,
          0.27269026782519,
          0.27269026782519,
          0.27269026782519,
          0.27269026782519,
          0.27269026782519,
          0.27269026782519,
          0.27269026782519,
          0.27269026782519,
          0.27269026782519,
          0.27269026782519,
          0.27269026782519,
          0.27269026782519,
          0.27269026782519,
          0.27269026782519,
          0.27269026782519,
          0.27269026782519,
          0.27269026782519,
          0.27269026782519,
          0.27269026782519,
          0.27269026782519,
          0.27269026782519,
          0.27269026782519,
          0.27269026782519,
          0.27269026782519,
          0.27269026782519,
          0.27269026782519,
          0.27269026782519,
          0.27269026782519,
          0.27269026782519,
          0.27269026782519,
          0.27269026782519,
          0.27269026782519,
          0.27269026782519,
          0.27269026782519,
          0.27269026782519,
          0.27269026782519,
          0.27269026782519,
          0.27269026782519,
          0.27269026782519,
          0.27269026782519,
          0.27269026782519,
          0.27269026782519,
          0.27269026782519,
          0.27269026782519,
          0.27269026782519,
          0.27269026782519,
          0.27269026782519,
          0.27269026782519,
          0.27269026782519,
          0.27269026782519,
          0.27269026782519,
          0.27269026782519,
          0.27269026782519,
          0.27269026782519,
          0.27269026782519,
          0.27269026782519,
          0.27269026782519,
          0.27269026782519,
          0.27269026782519,
          0.27269026782519,
          0.27269026782519,
          0.27269026782519,
          0.27269026782519,
          0.27269026782519,
          0.27269026782519,
          0.27269026782519,
          0.27269026782519,
          0.27269026782519,
          0.27269026782519,
          0.27269026782519,
          0.27269026782519,
          0.27269026782519,
          0.27269026782519,
          0.27269026782519,
          0.27269026782519,
          0.27269026782519,
          0.27269026782519,
          0.27269026782519,
          0.27269026782519,
          0.27269026782519,
          0.27269026782519,
          0.27269026782519,
          0.27269026782519,
          0.27269026782519,
          0.27269026782519,
          0.27269026782519,
          0.27269026782519,
          0.27269026782519,
          0.27269026782519,
          0.27269026782519,
          0.27269026782519,
          0.27269026782519,
          0.27269026782519,
          0.27269026782519,
          0.27269026782519,
          0.27269026782519,
          0.27269026782519,
          0.27269026782519,
          0.27269026782519,
          0.27269026782519,
          0.27269026782519,
          0.27269026782519,
          0.27269026782519,
          0.27269026782519,
          0.27269026782519,
          0.27269026782519,
          0.27269026782519,
          0.27269026782519,
          0.27269026782519,
          0.27269026782519,
          0.27269026782519,
          0.27269026782519,
          0.27269026782519,
          0.27269026782519,
          0.27269026782519,
          0.27269026782519,
          0.27269026782519,
          0.27269026782519,
          0.27269026782519,
          0.27269026782519,
          0.27269026782519,
          0.27269026782519,
          0.27269026782519,
          0.27269026782519,
          0.27269026782519,
          0.27269026782519,
          0.27269026782519,
          0.27269026782519,
          0.27269026782519,
          0.27269026782519,
          0.27269026782519,
          0.27269026782519,
          0.27269026782519,
          0.27269026782519,
          0.27269026782519,
          0.27269026782519,
          0.27269026782519,
          0.27269026782519,
          0.27269026782519,
          0.27269026782519,
          0.27269026782519,
          0.27269026782519,
          0.27269026782519,
          0.27269026782519,
          0.27269026782519,
          0.27269026782519,
          0.27269026782519,
          0.27269026782519,
          0.27269026782519,
          0.27269026782519,
          0.27269026782519,
          0.27269026782519,
          0.27269026782519,
          0.27269026782519,
          0.27269026782519,
          0.27269026782519,
          0.27269026782519,
          0.27269026782519,
          0.27269026782519,
          0.27269026782519,
          0.27269026782519,
          0.27269026782519,
          0.27269026782519,
          0.27269026782519,
          0.27269026782519,
          0.27269026782519,
          0.27269026782519,
          0.27269026782519,
          0.27269026782519,
          0.27269026782519,
          0.27269026782519,
          0.27269026782519,
          0.27269026782519,
          0.27269026782519,
          0.27269026782519,
          0.27269026782519,
          0.27269026782519,
          0.27269026782519,
          0.27269026782519,
          0.27269026782519,
          0.27269026782519,
          0.27269026782519,
          0.27269026782519,
          0.27269026782519,
          0.27269026782519,
          0.27269026782519,
          0.27269026782519,
          0.27269026782519,
          0.27269026782519,
          0.27269026782519,
          0.27269026782519,
          0.27269026782519,
          0.27269026782519,
          0.27269026782519,
          0.27269026782519,
          0.27269026782519,
          0.27269026782519,
          0.27269026782519,
          0.27269026782519,
          0.27269026782519,
          0.27269026782519,
          0.27269026782519,
          0.27269026782519,
          0.27269026782519,
          0.27269026782519,
          0.27269026782519,
          0.27269026782519,
          0.27269026782519,
          0.27269026782519,
          0.27269026782519,
          0.27269026782519,
          0.27269026782519,
          0.27269026782519,
          0.27269026782519,
          0.27269026782519,
          0.27269026782519,
          0.27269026782519,
          0.27269026782519,
          0.27269026782519,
          0.27269026782519,
          0.27269026782519,
          0.27269026782519,
          0.27269026782519,
          0.27269026782519,
          0.27269026782519,
          0.27269026782519,
          0.27269026782519,
          0.27269026782519,
          0.27269026782519,
          0.27269026782519,
          0.27269026782519,
          0.27269026782519,
          0.27269026782519,
          0.27269026782519,
          0.27269026782519,
          0.27269026782519,
          0.27269026782519,
          0.27269026782519,
          0.27269026782519,
          0.27269026782519,
          0.27269026782519,
          0.27269026782519,
          0.27269026782519,
          0.27269026782519,
          0.27269026782519,
          0.27269026782519,
          0.27269026782519,
          0.27269026782519,
          0.27269026782519,
          0.27269026782519,
          0.27269026782519,
          0.27269026782519,
          0.27269026782519,
          0.27269026782519,
          0.27269026782519,
          0.27269026782519,
          0.27269026782519,
          0.27269026782519,
          0.27269026782519,
          0.27269026782519,
          0.27269026782519,
          0.27269026782519,
          0.27269026782519
         ],
         "yaxis": "y"
        }
       ],
       "layout": {
        "height": 600,
        "legend": {
         "title": {
          "text": "Legend"
         }
        },
        "template": {
         "data": {
          "bar": [
           {
            "error_x": {
             "color": "#2a3f5f"
            },
            "error_y": {
             "color": "#2a3f5f"
            },
            "marker": {
             "line": {
              "color": "#E5ECF6",
              "width": 0.5
             },
             "pattern": {
              "fillmode": "overlay",
              "size": 10,
              "solidity": 0.2
             }
            },
            "type": "bar"
           }
          ],
          "barpolar": [
           {
            "marker": {
             "line": {
              "color": "#E5ECF6",
              "width": 0.5
             },
             "pattern": {
              "fillmode": "overlay",
              "size": 10,
              "solidity": 0.2
             }
            },
            "type": "barpolar"
           }
          ],
          "carpet": [
           {
            "aaxis": {
             "endlinecolor": "#2a3f5f",
             "gridcolor": "white",
             "linecolor": "white",
             "minorgridcolor": "white",
             "startlinecolor": "#2a3f5f"
            },
            "baxis": {
             "endlinecolor": "#2a3f5f",
             "gridcolor": "white",
             "linecolor": "white",
             "minorgridcolor": "white",
             "startlinecolor": "#2a3f5f"
            },
            "type": "carpet"
           }
          ],
          "choropleth": [
           {
            "colorbar": {
             "outlinewidth": 0,
             "ticks": ""
            },
            "type": "choropleth"
           }
          ],
          "contour": [
           {
            "colorbar": {
             "outlinewidth": 0,
             "ticks": ""
            },
            "colorscale": [
             [
              0,
              "#0d0887"
             ],
             [
              0.1111111111111111,
              "#46039f"
             ],
             [
              0.2222222222222222,
              "#7201a8"
             ],
             [
              0.3333333333333333,
              "#9c179e"
             ],
             [
              0.4444444444444444,
              "#bd3786"
             ],
             [
              0.5555555555555556,
              "#d8576b"
             ],
             [
              0.6666666666666666,
              "#ed7953"
             ],
             [
              0.7777777777777778,
              "#fb9f3a"
             ],
             [
              0.8888888888888888,
              "#fdca26"
             ],
             [
              1,
              "#f0f921"
             ]
            ],
            "type": "contour"
           }
          ],
          "contourcarpet": [
           {
            "colorbar": {
             "outlinewidth": 0,
             "ticks": ""
            },
            "type": "contourcarpet"
           }
          ],
          "heatmap": [
           {
            "colorbar": {
             "outlinewidth": 0,
             "ticks": ""
            },
            "colorscale": [
             [
              0,
              "#0d0887"
             ],
             [
              0.1111111111111111,
              "#46039f"
             ],
             [
              0.2222222222222222,
              "#7201a8"
             ],
             [
              0.3333333333333333,
              "#9c179e"
             ],
             [
              0.4444444444444444,
              "#bd3786"
             ],
             [
              0.5555555555555556,
              "#d8576b"
             ],
             [
              0.6666666666666666,
              "#ed7953"
             ],
             [
              0.7777777777777778,
              "#fb9f3a"
             ],
             [
              0.8888888888888888,
              "#fdca26"
             ],
             [
              1,
              "#f0f921"
             ]
            ],
            "type": "heatmap"
           }
          ],
          "heatmapgl": [
           {
            "colorbar": {
             "outlinewidth": 0,
             "ticks": ""
            },
            "colorscale": [
             [
              0,
              "#0d0887"
             ],
             [
              0.1111111111111111,
              "#46039f"
             ],
             [
              0.2222222222222222,
              "#7201a8"
             ],
             [
              0.3333333333333333,
              "#9c179e"
             ],
             [
              0.4444444444444444,
              "#bd3786"
             ],
             [
              0.5555555555555556,
              "#d8576b"
             ],
             [
              0.6666666666666666,
              "#ed7953"
             ],
             [
              0.7777777777777778,
              "#fb9f3a"
             ],
             [
              0.8888888888888888,
              "#fdca26"
             ],
             [
              1,
              "#f0f921"
             ]
            ],
            "type": "heatmapgl"
           }
          ],
          "histogram": [
           {
            "marker": {
             "pattern": {
              "fillmode": "overlay",
              "size": 10,
              "solidity": 0.2
             }
            },
            "type": "histogram"
           }
          ],
          "histogram2d": [
           {
            "colorbar": {
             "outlinewidth": 0,
             "ticks": ""
            },
            "colorscale": [
             [
              0,
              "#0d0887"
             ],
             [
              0.1111111111111111,
              "#46039f"
             ],
             [
              0.2222222222222222,
              "#7201a8"
             ],
             [
              0.3333333333333333,
              "#9c179e"
             ],
             [
              0.4444444444444444,
              "#bd3786"
             ],
             [
              0.5555555555555556,
              "#d8576b"
             ],
             [
              0.6666666666666666,
              "#ed7953"
             ],
             [
              0.7777777777777778,
              "#fb9f3a"
             ],
             [
              0.8888888888888888,
              "#fdca26"
             ],
             [
              1,
              "#f0f921"
             ]
            ],
            "type": "histogram2d"
           }
          ],
          "histogram2dcontour": [
           {
            "colorbar": {
             "outlinewidth": 0,
             "ticks": ""
            },
            "colorscale": [
             [
              0,
              "#0d0887"
             ],
             [
              0.1111111111111111,
              "#46039f"
             ],
             [
              0.2222222222222222,
              "#7201a8"
             ],
             [
              0.3333333333333333,
              "#9c179e"
             ],
             [
              0.4444444444444444,
              "#bd3786"
             ],
             [
              0.5555555555555556,
              "#d8576b"
             ],
             [
              0.6666666666666666,
              "#ed7953"
             ],
             [
              0.7777777777777778,
              "#fb9f3a"
             ],
             [
              0.8888888888888888,
              "#fdca26"
             ],
             [
              1,
              "#f0f921"
             ]
            ],
            "type": "histogram2dcontour"
           }
          ],
          "mesh3d": [
           {
            "colorbar": {
             "outlinewidth": 0,
             "ticks": ""
            },
            "type": "mesh3d"
           }
          ],
          "parcoords": [
           {
            "line": {
             "colorbar": {
              "outlinewidth": 0,
              "ticks": ""
             }
            },
            "type": "parcoords"
           }
          ],
          "pie": [
           {
            "automargin": true,
            "type": "pie"
           }
          ],
          "scatter": [
           {
            "fillpattern": {
             "fillmode": "overlay",
             "size": 10,
             "solidity": 0.2
            },
            "type": "scatter"
           }
          ],
          "scatter3d": [
           {
            "line": {
             "colorbar": {
              "outlinewidth": 0,
              "ticks": ""
             }
            },
            "marker": {
             "colorbar": {
              "outlinewidth": 0,
              "ticks": ""
             }
            },
            "type": "scatter3d"
           }
          ],
          "scattercarpet": [
           {
            "marker": {
             "colorbar": {
              "outlinewidth": 0,
              "ticks": ""
             }
            },
            "type": "scattercarpet"
           }
          ],
          "scattergeo": [
           {
            "marker": {
             "colorbar": {
              "outlinewidth": 0,
              "ticks": ""
             }
            },
            "type": "scattergeo"
           }
          ],
          "scattergl": [
           {
            "marker": {
             "colorbar": {
              "outlinewidth": 0,
              "ticks": ""
             }
            },
            "type": "scattergl"
           }
          ],
          "scattermapbox": [
           {
            "marker": {
             "colorbar": {
              "outlinewidth": 0,
              "ticks": ""
             }
            },
            "type": "scattermapbox"
           }
          ],
          "scatterpolar": [
           {
            "marker": {
             "colorbar": {
              "outlinewidth": 0,
              "ticks": ""
             }
            },
            "type": "scatterpolar"
           }
          ],
          "scatterpolargl": [
           {
            "marker": {
             "colorbar": {
              "outlinewidth": 0,
              "ticks": ""
             }
            },
            "type": "scatterpolargl"
           }
          ],
          "scatterternary": [
           {
            "marker": {
             "colorbar": {
              "outlinewidth": 0,
              "ticks": ""
             }
            },
            "type": "scatterternary"
           }
          ],
          "surface": [
           {
            "colorbar": {
             "outlinewidth": 0,
             "ticks": ""
            },
            "colorscale": [
             [
              0,
              "#0d0887"
             ],
             [
              0.1111111111111111,
              "#46039f"
             ],
             [
              0.2222222222222222,
              "#7201a8"
             ],
             [
              0.3333333333333333,
              "#9c179e"
             ],
             [
              0.4444444444444444,
              "#bd3786"
             ],
             [
              0.5555555555555556,
              "#d8576b"
             ],
             [
              0.6666666666666666,
              "#ed7953"
             ],
             [
              0.7777777777777778,
              "#fb9f3a"
             ],
             [
              0.8888888888888888,
              "#fdca26"
             ],
             [
              1,
              "#f0f921"
             ]
            ],
            "type": "surface"
           }
          ],
          "table": [
           {
            "cells": {
             "fill": {
              "color": "#EBF0F8"
             },
             "line": {
              "color": "white"
             }
            },
            "header": {
             "fill": {
              "color": "#C8D4E3"
             },
             "line": {
              "color": "white"
             }
            },
            "type": "table"
           }
          ]
         },
         "layout": {
          "annotationdefaults": {
           "arrowcolor": "#2a3f5f",
           "arrowhead": 0,
           "arrowwidth": 1
          },
          "autotypenumbers": "strict",
          "coloraxis": {
           "colorbar": {
            "outlinewidth": 0,
            "ticks": ""
           }
          },
          "colorscale": {
           "diverging": [
            [
             0,
             "#8e0152"
            ],
            [
             0.1,
             "#c51b7d"
            ],
            [
             0.2,
             "#de77ae"
            ],
            [
             0.3,
             "#f1b6da"
            ],
            [
             0.4,
             "#fde0ef"
            ],
            [
             0.5,
             "#f7f7f7"
            ],
            [
             0.6,
             "#e6f5d0"
            ],
            [
             0.7,
             "#b8e186"
            ],
            [
             0.8,
             "#7fbc41"
            ],
            [
             0.9,
             "#4d9221"
            ],
            [
             1,
             "#276419"
            ]
           ],
           "sequential": [
            [
             0,
             "#0d0887"
            ],
            [
             0.1111111111111111,
             "#46039f"
            ],
            [
             0.2222222222222222,
             "#7201a8"
            ],
            [
             0.3333333333333333,
             "#9c179e"
            ],
            [
             0.4444444444444444,
             "#bd3786"
            ],
            [
             0.5555555555555556,
             "#d8576b"
            ],
            [
             0.6666666666666666,
             "#ed7953"
            ],
            [
             0.7777777777777778,
             "#fb9f3a"
            ],
            [
             0.8888888888888888,
             "#fdca26"
            ],
            [
             1,
             "#f0f921"
            ]
           ],
           "sequentialminus": [
            [
             0,
             "#0d0887"
            ],
            [
             0.1111111111111111,
             "#46039f"
            ],
            [
             0.2222222222222222,
             "#7201a8"
            ],
            [
             0.3333333333333333,
             "#9c179e"
            ],
            [
             0.4444444444444444,
             "#bd3786"
            ],
            [
             0.5555555555555556,
             "#d8576b"
            ],
            [
             0.6666666666666666,
             "#ed7953"
            ],
            [
             0.7777777777777778,
             "#fb9f3a"
            ],
            [
             0.8888888888888888,
             "#fdca26"
            ],
            [
             1,
             "#f0f921"
            ]
           ]
          },
          "colorway": [
           "#636efa",
           "#EF553B",
           "#00cc96",
           "#ab63fa",
           "#FFA15A",
           "#19d3f3",
           "#FF6692",
           "#B6E880",
           "#FF97FF",
           "#FECB52"
          ],
          "font": {
           "color": "#2a3f5f"
          },
          "geo": {
           "bgcolor": "white",
           "lakecolor": "white",
           "landcolor": "#E5ECF6",
           "showlakes": true,
           "showland": true,
           "subunitcolor": "white"
          },
          "hoverlabel": {
           "align": "left"
          },
          "hovermode": "closest",
          "mapbox": {
           "style": "light"
          },
          "paper_bgcolor": "white",
          "plot_bgcolor": "#E5ECF6",
          "polar": {
           "angularaxis": {
            "gridcolor": "white",
            "linecolor": "white",
            "ticks": ""
           },
           "bgcolor": "#E5ECF6",
           "radialaxis": {
            "gridcolor": "white",
            "linecolor": "white",
            "ticks": ""
           }
          },
          "scene": {
           "xaxis": {
            "backgroundcolor": "#E5ECF6",
            "gridcolor": "white",
            "gridwidth": 2,
            "linecolor": "white",
            "showbackground": true,
            "ticks": "",
            "zerolinecolor": "white"
           },
           "yaxis": {
            "backgroundcolor": "#E5ECF6",
            "gridcolor": "white",
            "gridwidth": 2,
            "linecolor": "white",
            "showbackground": true,
            "ticks": "",
            "zerolinecolor": "white"
           },
           "zaxis": {
            "backgroundcolor": "#E5ECF6",
            "gridcolor": "white",
            "gridwidth": 2,
            "linecolor": "white",
            "showbackground": true,
            "ticks": "",
            "zerolinecolor": "white"
           }
          },
          "shapedefaults": {
           "line": {
            "color": "#2a3f5f"
           }
          },
          "ternary": {
           "aaxis": {
            "gridcolor": "white",
            "linecolor": "white",
            "ticks": ""
           },
           "baxis": {
            "gridcolor": "white",
            "linecolor": "white",
            "ticks": ""
           },
           "bgcolor": "#E5ECF6",
           "caxis": {
            "gridcolor": "white",
            "linecolor": "white",
            "ticks": ""
           }
          },
          "title": {
           "x": 0.05
          },
          "xaxis": {
           "automargin": true,
           "gridcolor": "white",
           "linecolor": "white",
           "ticks": "",
           "title": {
            "standoff": 15
           },
           "zerolinecolor": "white",
           "zerolinewidth": 2
          },
          "yaxis": {
           "automargin": true,
           "gridcolor": "white",
           "linecolor": "white",
           "ticks": "",
           "title": {
            "standoff": 15
           },
           "zerolinecolor": "white",
           "zerolinewidth": 2
          }
         }
        },
        "title": {
         "text": "Option price vs Underlying price (Original vs Precision Adjusted)"
        },
        "width": 1000,
        "xaxis": {
         "anchor": "y",
         "domain": [
          0,
          1
         ],
         "title": {
          "text": "Underlying price"
         }
        },
        "yaxis": {
         "anchor": "x",
         "domain": [
          0,
          1
         ],
         "title": {
          "text": "Option price"
         }
        }
       }
      }
     },
     "metadata": {},
     "output_type": "display_data"
    }
   ],
   "source": [
    "S_vect = np.linspace(S0 - 1e-4, S0 + 1e-4 , 1000)\n",
    "price_vect = []\n",
    "price_vect_adj = []\n",
    "\n",
    "for S in S_vect:\n",
    "    price_, _, _, _ = asian_option_pricer_MC(S0=S)\n",
    "    price_vect.append(price_)\n",
    "    price_adj_, _, _, _ = asian_option_pricer_MC_precision(S0=S)\n",
    "    price_vect_adj.append(price_adj_)\n",
    "\n",
    "# Create a subplot with two traces\n",
    "fig = make_subplots(rows=1, cols=1)\n",
    "\n",
    "# Add original data trace\n",
    "fig.add_trace(pltgo.Scatter(x=S_vect, y=price_vect, mode='lines', name='Original Option Price', opacity=0.8, line=dict(color='blue')), row=1, col=1)\n",
    "\n",
    "# Add precision-adjusted data trace\n",
    "fig.add_trace(pltgo.Scatter(x=S_vect, y=price_vect_adj, mode='lines', name='Precision Adjusted Option Price', opacity=0.8, line=dict(color='red')), row=1, col=1)\n",
    "\n",
    "# Update axis titles\n",
    "fig.update_xaxes(title_text='Underlying price', row=1, col=1)\n",
    "fig.update_yaxes(title_text='Option price', row=1, col=1)\n",
    "\n",
    "# Update layout\n",
    "fig.update_layout(title='Option price vs Underlying price (Original vs Precision Adjusted)', \n",
    "                  height=600, \n",
    "                  width=1000, \n",
    "                  legend_title='Legend')  # legend settings\n",
    "\n",
    "# Show the plot\n",
    "fig.show()"
   ]
  },
  {
   "cell_type": "code",
   "execution_count": 30,
   "metadata": {},
   "outputs": [],
   "source": [
    "\"\"\"\n",
    "\n",
    "    Alternative way to compute the Delta: \n",
    "    \n",
    "    - \"Plain\" version without precision adjustment\n",
    "    - Precision adjusted version\n",
    "    \n",
    "\"\"\"\n",
    "\n",
    "def Delta_Asian_FD(S0 = 6.13, h = 1e-3):\n",
    "    \n",
    "    # forward difference\n",
    "    y, _, _, _ = asian_option_pricer_MC(S0 = S0)\n",
    "    y_h, _, _, _ = asian_option_pricer_MC(S0 = S0 + h)\n",
    "    \n",
    "    # backward difference\n",
    "    y_h_m, _, _, _ = asian_option_pricer_MC(S0 = S0 - h)\n",
    "    \n",
    "    # centered difference\n",
    "    y_h_minus, _, _, _ = asian_option_pricer_MC(S0 = S0 - h/2)\n",
    "    y_h_plus, _, _, _ = asian_option_pricer_MC(S0 = S0 + h/2)\n",
    "    \n",
    "    delta_B = (y - y_h_m) / h\n",
    "    delta_F = (y_h - y) / h\n",
    "    delta_C = (y_h_plus - y_h_minus) / h\n",
    "    \n",
    "    return delta_B, delta_F, delta_C\n",
    "\n",
    "\n",
    "def Delta_Asian_FD_precision(S0=6.13, h=1e-3):\n",
    "    \n",
    "    getcontext().prec = 15\n",
    "    \n",
    "    # forward difference\n",
    "    y, _, _, _ = asian_option_pricer_MC_precision(S0=S0)\n",
    "    y_h, _, _, _ = asian_option_pricer_MC_precision(S0=S0 + h)\n",
    "    \n",
    "    # backward difference\n",
    "    y_h_m, _, _, _ = asian_option_pricer_MC_precision(S0=S0 - h)\n",
    "    \n",
    "    # centered difference\n",
    "    y_h_minus, _, _, _ = asian_option_pricer_MC_precision(S0=S0 - h/2)\n",
    "    y_h_plus, _, _, _ = asian_option_pricer_MC_precision(S0=S0 + h/2)\n",
    "    \n",
    "    h = Decimal(str(h))\n",
    "    \n",
    "    delta_B = (y - y_h_m) / h\n",
    "    delta_F = (y_h - y) / h\n",
    "    delta_C = (y_h_plus - y_h_minus) / h\n",
    "    \n",
    "    return delta_B, delta_F, delta_C"
   ]
  },
  {
   "cell_type": "code",
   "execution_count": 31,
   "metadata": {},
   "outputs": [
    {
     "name": "stdout",
     "output_type": "stream",
     "text": [
      "Delta Backward Difference: 1.1102230246251565e-10\n",
      "Delta Forward Difference: -1.1102230246251565e-10\n",
      "Delta Centered Difference: -2.220446049250313e-10\n",
      "\n",
      "Delta Backward Difference (Precision): 0E-9\n",
      "Delta Forward Difference (Precision): 0E-9\n",
      "Delta Centered Difference (Precision): 0E-9\n"
     ]
    }
   ],
   "source": [
    "h = 1e-6 \n",
    "\n",
    "delta_B, delta_F, delta_C = Delta_Asian_FD(S0 = S0, h = h)\n",
    "\n",
    "\n",
    "print(\"Delta Backward Difference:\", delta_B)\n",
    "print(\"Delta Forward Difference:\", delta_F)\n",
    "print(\"Delta Centered Difference:\", delta_C)\n",
    "\n",
    "delta_B, delta_F, delta_C = Delta_Asian_FD_precision(S0 = S0, h = h)\n",
    "\n",
    "print(\"\\nDelta Backward Difference (Precision):\", delta_B)\n",
    "print(\"Delta Forward Difference (Precision):\", delta_F)\n",
    "print(\"Delta Centered Difference (Precision):\", delta_C)"
   ]
  },
  {
   "cell_type": "code",
   "execution_count": 32,
   "metadata": {},
   "outputs": [
    {
     "name": "stdout",
     "output_type": "stream",
     "text": [
      "\n",
      "h: 0.001\n",
      "Delta Backward Difference: 1.1102230246251565e-13\n",
      "Delta Forward Difference: 5.551115123125783e-14\n",
      "Delta Centered Difference: -1.6653345369377348e-13\n",
      "\n",
      "h: 0.0001\n",
      "Delta Backward Difference: 2.220446049250313e-12\n",
      "Delta Forward Difference: -1.1102230246251565e-12\n",
      "Delta Centered Difference: 1.6653345369377348e-12\n",
      "\n",
      "h: 1e-05\n",
      "Delta Backward Difference: 2.2204460492503128e-11\n",
      "Delta Forward Difference: 0.0\n",
      "Delta Centered Difference: 5.551115123125782e-12\n",
      "\n",
      "h: 1e-06\n",
      "Delta Backward Difference: 1.1102230246251565e-10\n",
      "Delta Forward Difference: -1.1102230246251565e-10\n",
      "Delta Centered Difference: -2.220446049250313e-10\n",
      "\n",
      "h: 1e-07\n",
      "Delta Backward Difference: 1.1102230246251565e-09\n",
      "Delta Forward Difference: -1.1102230246251565e-09\n",
      "Delta Centered Difference: 1.1102230246251565e-09\n",
      "\n",
      "h: 1e-08\n",
      "Delta Backward Difference: 1.6653345369377348e-08\n",
      "Delta Forward Difference: -1.1102230246251565e-08\n",
      "Delta Centered Difference: -5.551115123125783e-09\n",
      "\n",
      "h: 1e-09\n",
      "Delta Backward Difference: 3.3306690738754696e-07\n",
      "Delta Forward Difference: -1.1102230246251564e-07\n",
      "Delta Centered Difference: 2.7755575615628914e-07\n",
      "\n",
      "h: 1e-10\n",
      "Delta Backward Difference: 5.551115123125783e-07\n",
      "Delta Forward Difference: 0.0\n",
      "Delta Centered Difference: -3.3306690738754696e-06\n",
      "\n",
      "h: 1e-11\n",
      "Delta Backward Difference: -5.551115123125783e-06\n",
      "Delta Forward Difference: 0.0\n",
      "Delta Centered Difference: -4.9960036108132044e-05\n",
      "\n",
      "h: 1e-12\n",
      "Delta Backward Difference: 0.00011102230246251565\n",
      "Delta Forward Difference: 0.0\n",
      "Delta Centered Difference: -0.0004996003610813204\n",
      "\n",
      "h: 1e-13\n",
      "Delta Backward Difference: 0.002220446049250313\n",
      "Delta Forward Difference: -0.0033306690738754696\n",
      "Delta Centered Difference: 0.004440892098500626\n"
     ]
    },
    {
     "data": {
      "image/png": "[encoded data removed]",
      "text/plain": [
       "<Figure size 1000x600 with 1 Axes>"
      ]
     },
     "metadata": {},
     "output_type": "display_data"
    }
   ],
   "source": [
    "h_vect = [1e-3, 1e-4, 1e-5, 1e-6, 1e-7, 1e-8, 1e-9, 1e-10, 1e-11, 1e-12, 1e-13]\n",
    "\n",
    "delta_B_vect = []\n",
    "delta_F_vect = []\n",
    "delta_C_vect = []\n",
    "\n",
    "for h in h_vect:\n",
    "    print(\"\\nh:\", h)\n",
    "    delta_B, delta_F, delta_C = Delta_Asian_FD(S0 = S0, h = h)\n",
    "    delta_B_vect.append(delta_B)\n",
    "    delta_F_vect.append(delta_F)\n",
    "    delta_C_vect.append(delta_C)\n",
    "    print(\"Delta Backward Difference:\", delta_B)\n",
    "    print(\"Delta Forward Difference:\", delta_F)\n",
    "    print(\"Delta Centered Difference:\", delta_C)\n",
    "    \n",
    "# Plot\n",
    "plt.figure(figsize=(10, 6))\n",
    "plt.plot(h_vect, delta_B_vect, marker='o', linestyle='-', label='Backward Difference')\n",
    "plt.plot(h_vect, delta_F_vect, marker='o', linestyle='-', label='Forward Difference')\n",
    "plt.plot(h_vect, delta_C_vect, marker='o', linestyle='-', label='Centered Difference')\n",
    "plt.xscale('log')\n",
    "plt.xlabel('Step size (h) (log scale)')\n",
    "plt.ylabel('Delta')\n",
    "plt.title('Delta vs. Step Size')\n",
    "plt.legend()\n",
    "plt.grid(True)\n",
    "plt.tight_layout()\n",
    "plt.show()\n",
    "    "
   ]
  },
  {
   "cell_type": "code",
   "execution_count": 33,
   "metadata": {},
   "outputs": [
    {
     "name": "stdout",
     "output_type": "stream",
     "text": [
      "\n",
      "h: 0.001\n",
      "Delta Backward Difference: 0E-12\n",
      "Delta Forward Difference: 0E-12\n",
      "Delta Centered Difference: 0E-12\n",
      "\n",
      "h: 0.0001\n",
      "Delta Backward Difference: 0E-11\n",
      "Delta Forward Difference: 0E-11\n",
      "Delta Centered Difference: 0E-11\n",
      "\n",
      "h: 1e-05\n",
      "Delta Backward Difference: 0E-10\n",
      "Delta Forward Difference: 0E-10\n",
      "Delta Centered Difference: 0E-10\n",
      "\n",
      "h: 1e-06\n",
      "Delta Backward Difference: 0E-9\n",
      "Delta Forward Difference: 0E-9\n",
      "Delta Centered Difference: 0E-9\n",
      "\n",
      "h: 1e-07\n",
      "Delta Backward Difference: 0E-8\n",
      "Delta Forward Difference: 0E-8\n",
      "Delta Centered Difference: 0E-8\n",
      "\n",
      "h: 1e-08\n",
      "Delta Backward Difference: 0E-7\n",
      "Delta Forward Difference: 0E-7\n",
      "Delta Centered Difference: 0E-7\n",
      "\n",
      "h: 1e-09\n",
      "Delta Backward Difference: 0.000000\n",
      "Delta Forward Difference: 0.000000\n",
      "Delta Centered Difference: 0.000000\n",
      "\n",
      "h: 1e-10\n",
      "Delta Backward Difference: 0.00000\n",
      "Delta Forward Difference: 0.00000\n",
      "Delta Centered Difference: 0.00000\n",
      "\n",
      "h: 1e-11\n",
      "Delta Backward Difference: 0.0000\n",
      "Delta Forward Difference: 0.0000\n",
      "Delta Centered Difference: 0.0000\n",
      "\n",
      "h: 1e-12\n",
      "Delta Backward Difference: 0.000\n",
      "Delta Forward Difference: 0.000\n",
      "Delta Centered Difference: 0.000\n",
      "\n",
      "h: 1e-13\n",
      "Delta Backward Difference: 0.00\n",
      "Delta Forward Difference: 0.00\n",
      "Delta Centered Difference: 0.00\n"
     ]
    },
    {
     "data": {
      "image/png": "[encoded data removed]",
      "text/plain": [
       "<Figure size 1000x600 with 1 Axes>"
      ]
     },
     "metadata": {},
     "output_type": "display_data"
    }
   ],
   "source": [
    "h_vect = [1e-3, 1e-4, 1e-5, 1e-6, 1e-7, 1e-8, 1e-9, 1e-10, 1e-11, 1e-12, 1e-13]\n",
    "\n",
    "delta_B_vect = []\n",
    "delta_F_vect = []\n",
    "delta_C_vect = []\n",
    "\n",
    "for h in h_vect:\n",
    "    print(\"\\nh:\", h)\n",
    "    delta_B, delta_F, delta_C = Delta_Asian_FD_precision(S0 = S0, h = h)\n",
    "    delta_B_vect.append(delta_B)\n",
    "    delta_F_vect.append(delta_F)\n",
    "    delta_C_vect.append(delta_C)\n",
    "    print(\"Delta Backward Difference:\", delta_B)\n",
    "    print(\"Delta Forward Difference:\", delta_F)\n",
    "    print(\"Delta Centered Difference:\", delta_C)\n",
    "    \n",
    "delta_asian = 0.0 # Asian Option Delta is analytically 0\n",
    "\n",
    "# Plot\n",
    "plt.figure(figsize=(10, 6))\n",
    "plt.plot(h_vect, delta_B_vect, marker='o', linestyle='-', label='Backward Difference')\n",
    "plt.plot(h_vect, delta_F_vect, marker='o', linestyle='-', label='Forward Difference')\n",
    "plt.plot(h_vect, delta_C_vect, marker='o', linestyle='-', label='Centered Difference')\n",
    "plt.xscale('log')\n",
    "plt.xlabel('Step size (h) (log scale)')\n",
    "plt.ylabel('Delta')\n",
    "plt.title('Delta vs. Step Size (Precision adjusted)')\n",
    "plt.legend()\n",
    "plt.grid(True)\n",
    "plt.tight_layout()\n",
    "plt.show()"
   ]
  },
  {
   "cell_type": "markdown",
   "metadata": {},
   "source": [
    "### Vega"
   ]
  },
  {
   "cell_type": "code",
   "execution_count": 34,
   "metadata": {},
   "outputs": [
    {
     "data": {
      "application/vnd.plotly.v1+json": {
       "config": {
        "plotlyServerURL": "https://plot.ly"
       },
       "data": [
        {
         "line": {
          "color": "blue"
         },
         "mode": "lines",
         "name": "Original Option Price",
         "opacity": 0.8,
         "type": "scatter",
         "x": [
          0.159,
          0.15902020202020203,
          0.15904040404040404,
          0.15906060606060607,
          0.15908080808080807,
          0.1591010101010101,
          0.15912121212121214,
          0.15914141414141414,
          0.15916161616161617,
          0.15918181818181817,
          0.1592020202020202,
          0.15922222222222224,
          0.15924242424242424,
          0.15926262626262627,
          0.15928282828282828,
          0.1593030303030303,
          0.15932323232323234,
          0.15934343434343434,
          0.15936363636363637,
          0.15938383838383838,
          0.1594040404040404,
          0.15942424242424244,
          0.15944444444444444,
          0.15946464646464648,
          0.15948484848484848,
          0.1595050505050505,
          0.15952525252525251,
          0.15954545454545455,
          0.15956565656565658,
          0.15958585858585858,
          0.1596060606060606,
          0.15962626262626262,
          0.15964646464646465,
          0.15966666666666668,
          0.15968686868686868,
          0.15970707070707071,
          0.15972727272727272,
          0.15974747474747475,
          0.15976767676767678,
          0.15978787878787878,
          0.15980808080808082,
          0.15982828282828282,
          0.15984848484848485,
          0.15986868686868688,
          0.15988888888888889,
          0.15990909090909092,
          0.15992929292929292,
          0.15994949494949495,
          0.15996969696969698,
          0.159989898989899,
          0.16001010101010102,
          0.16003030303030302,
          0.16005050505050505,
          0.16007070707070709,
          0.1600909090909091,
          0.16011111111111112,
          0.16013131313131312,
          0.16015151515151516,
          0.1601717171717172,
          0.1601919191919192,
          0.16021212121212122,
          0.16023232323232323,
          0.16025252525252526,
          0.1602727272727273,
          0.1602929292929293,
          0.16031313131313132,
          0.16033333333333333,
          0.16035353535353536,
          0.1603737373737374,
          0.1603939393939394,
          0.16041414141414143,
          0.16043434343434343,
          0.16045454545454546,
          0.1604747474747475,
          0.1604949494949495,
          0.16051515151515153,
          0.16053535353535353,
          0.16055555555555556,
          0.16057575757575757,
          0.1605959595959596,
          0.16061616161616163,
          0.16063636363636363,
          0.16065656565656566,
          0.16067676767676767,
          0.1606969696969697,
          0.16071717171717173,
          0.16073737373737373,
          0.16075757575757577,
          0.16077777777777777,
          0.1607979797979798,
          0.16081818181818183,
          0.16083838383838384,
          0.16085858585858587,
          0.16087878787878787,
          0.1608989898989899,
          0.16091919191919193,
          0.16093939393939394,
          0.16095959595959597,
          0.16097979797979797,
          0.161
         ],
         "xaxis": "x",
         "y": [
          0.2709563209651442,
          0.27099135083887876,
          0.2710263806807708,
          0.2710614105133564,
          0.27109644032732655,
          0.27113147014614936,
          0.2711664999435342,
          0.27120152973770606,
          0.27123655950540226,
          0.2712715892544653,
          0.2713066189694925,
          0.2713416486502835,
          0.27137667829968176,
          0.27141170793145203,
          0.2714467375197597,
          0.27148176706459065,
          0.2715167965741464,
          0.2715518260436944,
          0.27158685547365585,
          0.2716218848791812,
          0.2716569142650509,
          0.2716919436270675,
          0.27172697296397985,
          0.2717620022939582,
          0.27179703160211843,
          0.2718320608719986,
          0.2718670901109344,
          0.27190211932965236,
          0.27193714852547995,
          0.2719721776776973,
          0.27200720679092366,
          0.27204223586855436,
          0.2720772649025373,
          0.27211229389536906,
          0.27214732285377324,
          0.2721823517768697,
          0.27221738067687884,
          0.2722524095493091,
          0.27228743839342506,
          0.2723224672176952,
          0.27235749600474973,
          0.2723925247557127,
          0.2724275534791434,
          0.2724625821701371,
          0.2724976108244131,
          0.27253263943490413,
          0.2725676680015964,
          0.2726026965449052,
          0.2726377250708227,
          0.2726727535838389,
          0.2727077820701178,
          0.27274281055577215,
          0.2727778390126667,
          0.2728128674257112,
          0.27284789579866453,
          0.27288292415237014,
          0.272917952487064,
          0.2729529808099917,
          0.27298800910350235,
          0.27302303735840583,
          0.2730580655819143,
          0.27309309377176477,
          0.27312812194499037,
          0.2731631501343229,
          0.2731981783124111,
          0.2732332064726723,
          0.2732682346140469,
          0.2733032627413956,
          0.2733382908711467,
          0.27337331899319506,
          0.27340834711735407,
          0.27344337520642514,
          0.27347840328715034,
          0.2735134313294752,
          0.27354845935312494,
          0.27358348738350563,
          0.27361851537528525,
          0.2736535433230528,
          0.2736885712286275,
          0.2737235991098496,
          0.2737586269730473,
          0.2737936547974943,
          0.2738286826093798,
          0.2738637104075736,
          0.2738987381653263,
          0.2739337659033277,
          0.27396879361303894,
          0.2740038213120661,
          0.2740388490059389,
          0.27407387666194827,
          0.27410890429411844,
          0.27414393190421016,
          0.27417895947387116,
          0.2742139870231345,
          0.27424901455720097,
          0.274284042060031,
          0.274319069523256,
          0.27435409697783997,
          0.2743891244245716,
          0.27442415186568114
         ],
         "yaxis": "y"
        },
        {
         "line": {
          "color": "red"
         },
         "mode": "lines",
         "name": "Precision Adjusted Option Price",
         "opacity": 0.8,
         "type": "scatter",
         "x": [
          0.159,
          0.15902020202020203,
          0.15904040404040404,
          0.15906060606060607,
          0.15908080808080807,
          0.1591010101010101,
          0.15912121212121214,
          0.15914141414141414,
          0.15916161616161617,
          0.15918181818181817,
          0.1592020202020202,
          0.15922222222222224,
          0.15924242424242424,
          0.15926262626262627,
          0.15928282828282828,
          0.1593030303030303,
          0.15932323232323234,
          0.15934343434343434,
          0.15936363636363637,
          0.15938383838383838,
          0.1594040404040404,
          0.15942424242424244,
          0.15944444444444444,
          0.15946464646464648,
          0.15948484848484848,
          0.1595050505050505,
          0.15952525252525251,
          0.15954545454545455,
          0.15956565656565658,
          0.15958585858585858,
          0.1596060606060606,
          0.15962626262626262,
          0.15964646464646465,
          0.15966666666666668,
          0.15968686868686868,
          0.15970707070707071,
          0.15972727272727272,
          0.15974747474747475,
          0.15976767676767678,
          0.15978787878787878,
          0.15980808080808082,
          0.15982828282828282,
          0.15984848484848485,
          0.15986868686868688,
          0.15988888888888889,
          0.15990909090909092,
          0.15992929292929292,
          0.15994949494949495,
          0.15996969696969698,
          0.159989898989899,
          0.16001010101010102,
          0.16003030303030302,
          0.16005050505050505,
          0.16007070707070709,
          0.1600909090909091,
          0.16011111111111112,
          0.16013131313131312,
          0.16015151515151516,
          0.1601717171717172,
          0.1601919191919192,
          0.16021212121212122,
          0.16023232323232323,
          0.16025252525252526,
          0.1602727272727273,
          0.1602929292929293,
          0.16031313131313132,
          0.16033333333333333,
          0.16035353535353536,
          0.1603737373737374,
          0.1603939393939394,
          0.16041414141414143,
          0.16043434343434343,
          0.16045454545454546,
          0.1604747474747475,
          0.1604949494949495,
          0.16051515151515153,
          0.16053535353535353,
          0.16055555555555556,
          0.16057575757575757,
          0.1605959595959596,
          0.16061616161616163,
          0.16063636363636363,
          0.16065656565656566,
          0.16067676767676767,
          0.1606969696969697,
          0.16071717171717173,
          0.16073737373737373,
          0.16075757575757577,
          0.16077777777777777,
          0.1607979797979798,
          0.16081818181818183,
          0.16083838383838384,
          0.16085858585858587,
          0.16087878787878787,
          0.1608989898989899,
          0.16091919191919193,
          0.16093939393939394,
          0.16095959595959597,
          0.16097979797979797,
          0.161
         ],
         "xaxis": "x",
         "y": [
          0.270956320965144,
          0.270991350838879,
          0.27102638068077,
          0.271061410513357,
          0.271096440327327,
          0.27113147014615,
          0.271166499943534,
          0.271201529737706,
          0.271236559505403,
          0.271271589254465,
          0.271306618969492,
          0.271341648650283,
          0.271376678299682,
          0.271411707931452,
          0.271446737519759,
          0.27148176706459,
          0.271516796574147,
          0.271551826043695,
          0.271586855473656,
          0.271621884879182,
          0.271656914265051,
          0.271691943627068,
          0.27172697296398,
          0.271762002293958,
          0.271797031602119,
          0.271832060871999,
          0.271867090110935,
          0.271902119329653,
          0.27193714852548,
          0.271972177677697,
          0.272007206790924,
          0.272042235868555,
          0.272077264902537,
          0.272112293895369,
          0.272147322853773,
          0.272182351776869,
          0.27221738067688,
          0.272252409549309,
          0.272287438393425,
          0.272322467217694,
          0.27235749600475,
          0.272392524755712,
          0.272427553479143,
          0.272462582170137,
          0.272497610824414,
          0.272532639434904,
          0.272567668001596,
          0.272602696544905,
          0.272637725070823,
          0.272672753583839,
          0.272707782070119,
          0.272742810555772,
          0.272777839012666,
          0.27281286742571,
          0.272847895798665,
          0.27288292415237,
          0.272917952487064,
          0.272952980809991,
          0.272988009103502,
          0.273023037358406,
          0.273058065581915,
          0.273093093771765,
          0.27312812194499,
          0.273163150134323,
          0.273198178312411,
          0.273233206472672,
          0.273268234614048,
          0.273303262741397,
          0.273338290871147,
          0.273373318993195,
          0.273408347117354,
          0.273443375206425,
          0.27347840328715,
          0.273513431329475,
          0.273548459353124,
          0.273583487383505,
          0.273618515375285,
          0.273653543323052,
          0.273688571228627,
          0.27372359910985,
          0.273758626973048,
          0.273793654797494,
          0.27382868260938,
          0.273863710407573,
          0.273898738165326,
          0.273933765903328,
          0.273968793613038,
          0.274003821312066,
          0.274038849005939,
          0.274073876661948,
          0.274108904294118,
          0.27414393190421,
          0.27417895947387,
          0.274213987023134,
          0.274249014557201,
          0.27428404206003,
          0.274319069523256,
          0.27435409697784,
          0.274389124424572,
          0.274424151865682
         ],
         "yaxis": "y"
        }
       ],
       "layout": {
        "height": 600,
        "legend": {
         "title": {
          "text": "Legend"
         }
        },
        "template": {
         "data": {
          "bar": [
           {
            "error_x": {
             "color": "#2a3f5f"
            },
            "error_y": {
             "color": "#2a3f5f"
            },
            "marker": {
             "line": {
              "color": "#E5ECF6",
              "width": 0.5
             },
             "pattern": {
              "fillmode": "overlay",
              "size": 10,
              "solidity": 0.2
             }
            },
            "type": "bar"
           }
          ],
          "barpolar": [
           {
            "marker": {
             "line": {
              "color": "#E5ECF6",
              "width": 0.5
             },
             "pattern": {
              "fillmode": "overlay",
              "size": 10,
              "solidity": 0.2
             }
            },
            "type": "barpolar"
           }
          ],
          "carpet": [
           {
            "aaxis": {
             "endlinecolor": "#2a3f5f",
             "gridcolor": "white",
             "linecolor": "white",
             "minorgridcolor": "white",
             "startlinecolor": "#2a3f5f"
            },
            "baxis": {
             "endlinecolor": "#2a3f5f",
             "gridcolor": "white",
             "linecolor": "white",
             "minorgridcolor": "white",
             "startlinecolor": "#2a3f5f"
            },
            "type": "carpet"
           }
          ],
          "choropleth": [
           {
            "colorbar": {
             "outlinewidth": 0,
             "ticks": ""
            },
            "type": "choropleth"
           }
          ],
          "contour": [
           {
            "colorbar": {
             "outlinewidth": 0,
             "ticks": ""
            },
            "colorscale": [
             [
              0,
              "#0d0887"
             ],
             [
              0.1111111111111111,
              "#46039f"
             ],
             [
              0.2222222222222222,
              "#7201a8"
             ],
             [
              0.3333333333333333,
              "#9c179e"
             ],
             [
              0.4444444444444444,
              "#bd3786"
             ],
             [
              0.5555555555555556,
              "#d8576b"
             ],
             [
              0.6666666666666666,
              "#ed7953"
             ],
             [
              0.7777777777777778,
              "#fb9f3a"
             ],
             [
              0.8888888888888888,
              "#fdca26"
             ],
             [
              1,
              "#f0f921"
             ]
            ],
            "type": "contour"
           }
          ],
          "contourcarpet": [
           {
            "colorbar": {
             "outlinewidth": 0,
             "ticks": ""
            },
            "type": "contourcarpet"
           }
          ],
          "heatmap": [
           {
            "colorbar": {
             "outlinewidth": 0,
             "ticks": ""
            },
            "colorscale": [
             [
              0,
              "#0d0887"
             ],
             [
              0.1111111111111111,
              "#46039f"
             ],
             [
              0.2222222222222222,
              "#7201a8"
             ],
             [
              0.3333333333333333,
              "#9c179e"
             ],
             [
              0.4444444444444444,
              "#bd3786"
             ],
             [
              0.5555555555555556,
              "#d8576b"
             ],
             [
              0.6666666666666666,
              "#ed7953"
             ],
             [
              0.7777777777777778,
              "#fb9f3a"
             ],
             [
              0.8888888888888888,
              "#fdca26"
             ],
             [
              1,
              "#f0f921"
             ]
            ],
            "type": "heatmap"
           }
          ],
          "heatmapgl": [
           {
            "colorbar": {
             "outlinewidth": 0,
             "ticks": ""
            },
            "colorscale": [
             [
              0,
              "#0d0887"
             ],
             [
              0.1111111111111111,
              "#46039f"
             ],
             [
              0.2222222222222222,
              "#7201a8"
             ],
             [
              0.3333333333333333,
              "#9c179e"
             ],
             [
              0.4444444444444444,
              "#bd3786"
             ],
             [
              0.5555555555555556,
              "#d8576b"
             ],
             [
              0.6666666666666666,
              "#ed7953"
             ],
             [
              0.7777777777777778,
              "#fb9f3a"
             ],
             [
              0.8888888888888888,
              "#fdca26"
             ],
             [
              1,
              "#f0f921"
             ]
            ],
            "type": "heatmapgl"
           }
          ],
          "histogram": [
           {
            "marker": {
             "pattern": {
              "fillmode": "overlay",
              "size": 10,
              "solidity": 0.2
             }
            },
            "type": "histogram"
           }
          ],
          "histogram2d": [
           {
            "colorbar": {
             "outlinewidth": 0,
             "ticks": ""
            },
            "colorscale": [
             [
              0,
              "#0d0887"
             ],
             [
              0.1111111111111111,
              "#46039f"
             ],
             [
              0.2222222222222222,
              "#7201a8"
             ],
             [
              0.3333333333333333,
              "#9c179e"
             ],
             [
              0.4444444444444444,
              "#bd3786"
             ],
             [
              0.5555555555555556,
              "#d8576b"
             ],
             [
              0.6666666666666666,
              "#ed7953"
             ],
             [
              0.7777777777777778,
              "#fb9f3a"
             ],
             [
              0.8888888888888888,
              "#fdca26"
             ],
             [
              1,
              "#f0f921"
             ]
            ],
            "type": "histogram2d"
           }
          ],
          "histogram2dcontour": [
           {
            "colorbar": {
             "outlinewidth": 0,
             "ticks": ""
            },
            "colorscale": [
             [
              0,
              "#0d0887"
             ],
             [
              0.1111111111111111,
              "#46039f"
             ],
             [
              0.2222222222222222,
              "#7201a8"
             ],
             [
              0.3333333333333333,
              "#9c179e"
             ],
             [
              0.4444444444444444,
              "#bd3786"
             ],
             [
              0.5555555555555556,
              "#d8576b"
             ],
             [
              0.6666666666666666,
              "#ed7953"
             ],
             [
              0.7777777777777778,
              "#fb9f3a"
             ],
             [
              0.8888888888888888,
              "#fdca26"
             ],
             [
              1,
              "#f0f921"
             ]
            ],
            "type": "histogram2dcontour"
           }
          ],
          "mesh3d": [
           {
            "colorbar": {
             "outlinewidth": 0,
             "ticks": ""
            },
            "type": "mesh3d"
           }
          ],
          "parcoords": [
           {
            "line": {
             "colorbar": {
              "outlinewidth": 0,
              "ticks": ""
             }
            },
            "type": "parcoords"
           }
          ],
          "pie": [
           {
            "automargin": true,
            "type": "pie"
           }
          ],
          "scatter": [
           {
            "fillpattern": {
             "fillmode": "overlay",
             "size": 10,
             "solidity": 0.2
            },
            "type": "scatter"
           }
          ],
          "scatter3d": [
           {
            "line": {
             "colorbar": {
              "outlinewidth": 0,
              "ticks": ""
             }
            },
            "marker": {
             "colorbar": {
              "outlinewidth": 0,
              "ticks": ""
             }
            },
            "type": "scatter3d"
           }
          ],
          "scattercarpet": [
           {
            "marker": {
             "colorbar": {
              "outlinewidth": 0,
              "ticks": ""
             }
            },
            "type": "scattercarpet"
           }
          ],
          "scattergeo": [
           {
            "marker": {
             "colorbar": {
              "outlinewidth": 0,
              "ticks": ""
             }
            },
            "type": "scattergeo"
           }
          ],
          "scattergl": [
           {
            "marker": {
             "colorbar": {
              "outlinewidth": 0,
              "ticks": ""
             }
            },
            "type": "scattergl"
           }
          ],
          "scattermapbox": [
           {
            "marker": {
             "colorbar": {
              "outlinewidth": 0,
              "ticks": ""
             }
            },
            "type": "scattermapbox"
           }
          ],
          "scatterpolar": [
           {
            "marker": {
             "colorbar": {
              "outlinewidth": 0,
              "ticks": ""
             }
            },
            "type": "scatterpolar"
           }
          ],
          "scatterpolargl": [
           {
            "marker": {
             "colorbar": {
              "outlinewidth": 0,
              "ticks": ""
             }
            },
            "type": "scatterpolargl"
           }
          ],
          "scatterternary": [
           {
            "marker": {
             "colorbar": {
              "outlinewidth": 0,
              "ticks": ""
             }
            },
            "type": "scatterternary"
           }
          ],
          "surface": [
           {
            "colorbar": {
             "outlinewidth": 0,
             "ticks": ""
            },
            "colorscale": [
             [
              0,
              "#0d0887"
             ],
             [
              0.1111111111111111,
              "#46039f"
             ],
             [
              0.2222222222222222,
              "#7201a8"
             ],
             [
              0.3333333333333333,
              "#9c179e"
             ],
             [
              0.4444444444444444,
              "#bd3786"
             ],
             [
              0.5555555555555556,
              "#d8576b"
             ],
             [
              0.6666666666666666,
              "#ed7953"
             ],
             [
              0.7777777777777778,
              "#fb9f3a"
             ],
             [
              0.8888888888888888,
              "#fdca26"
             ],
             [
              1,
              "#f0f921"
             ]
            ],
            "type": "surface"
           }
          ],
          "table": [
           {
            "cells": {
             "fill": {
              "color": "#EBF0F8"
             },
             "line": {
              "color": "white"
             }
            },
            "header": {
             "fill": {
              "color": "#C8D4E3"
             },
             "line": {
              "color": "white"
             }
            },
            "type": "table"
           }
          ]
         },
         "layout": {
          "annotationdefaults": {
           "arrowcolor": "#2a3f5f",
           "arrowhead": 0,
           "arrowwidth": 1
          },
          "autotypenumbers": "strict",
          "coloraxis": {
           "colorbar": {
            "outlinewidth": 0,
            "ticks": ""
           }
          },
          "colorscale": {
           "diverging": [
            [
             0,
             "#8e0152"
            ],
            [
             0.1,
             "#c51b7d"
            ],
            [
             0.2,
             "#de77ae"
            ],
            [
             0.3,
             "#f1b6da"
            ],
            [
             0.4,
             "#fde0ef"
            ],
            [
             0.5,
             "#f7f7f7"
            ],
            [
             0.6,
             "#e6f5d0"
            ],
            [
             0.7,
             "#b8e186"
            ],
            [
             0.8,
             "#7fbc41"
            ],
            [
             0.9,
             "#4d9221"
            ],
            [
             1,
             "#276419"
            ]
           ],
           "sequential": [
            [
             0,
             "#0d0887"
            ],
            [
             0.1111111111111111,
             "#46039f"
            ],
            [
             0.2222222222222222,
             "#7201a8"
            ],
            [
             0.3333333333333333,
             "#9c179e"
            ],
            [
             0.4444444444444444,
             "#bd3786"
            ],
            [
             0.5555555555555556,
             "#d8576b"
            ],
            [
             0.6666666666666666,
             "#ed7953"
            ],
            [
             0.7777777777777778,
             "#fb9f3a"
            ],
            [
             0.8888888888888888,
             "#fdca26"
            ],
            [
             1,
             "#f0f921"
            ]
           ],
           "sequentialminus": [
            [
             0,
             "#0d0887"
            ],
            [
             0.1111111111111111,
             "#46039f"
            ],
            [
             0.2222222222222222,
             "#7201a8"
            ],
            [
             0.3333333333333333,
             "#9c179e"
            ],
            [
             0.4444444444444444,
             "#bd3786"
            ],
            [
             0.5555555555555556,
             "#d8576b"
            ],
            [
             0.6666666666666666,
             "#ed7953"
            ],
            [
             0.7777777777777778,
             "#fb9f3a"
            ],
            [
             0.8888888888888888,
             "#fdca26"
            ],
            [
             1,
             "#f0f921"
            ]
           ]
          },
          "colorway": [
           "#636efa",
           "#EF553B",
           "#00cc96",
           "#ab63fa",
           "#FFA15A",
           "#19d3f3",
           "#FF6692",
           "#B6E880",
           "#FF97FF",
           "#FECB52"
          ],
          "font": {
           "color": "#2a3f5f"
          },
          "geo": {
           "bgcolor": "white",
           "lakecolor": "white",
           "landcolor": "#E5ECF6",
           "showlakes": true,
           "showland": true,
           "subunitcolor": "white"
          },
          "hoverlabel": {
           "align": "left"
          },
          "hovermode": "closest",
          "mapbox": {
           "style": "light"
          },
          "paper_bgcolor": "white",
          "plot_bgcolor": "#E5ECF6",
          "polar": {
           "angularaxis": {
            "gridcolor": "white",
            "linecolor": "white",
            "ticks": ""
           },
           "bgcolor": "#E5ECF6",
           "radialaxis": {
            "gridcolor": "white",
            "linecolor": "white",
            "ticks": ""
           }
          },
          "scene": {
           "xaxis": {
            "backgroundcolor": "#E5ECF6",
            "gridcolor": "white",
            "gridwidth": 2,
            "linecolor": "white",
            "showbackground": true,
            "ticks": "",
            "zerolinecolor": "white"
           },
           "yaxis": {
            "backgroundcolor": "#E5ECF6",
            "gridcolor": "white",
            "gridwidth": 2,
            "linecolor": "white",
            "showbackground": true,
            "ticks": "",
            "zerolinecolor": "white"
           },
           "zaxis": {
            "backgroundcolor": "#E5ECF6",
            "gridcolor": "white",
            "gridwidth": 2,
            "linecolor": "white",
            "showbackground": true,
            "ticks": "",
            "zerolinecolor": "white"
           }
          },
          "shapedefaults": {
           "line": {
            "color": "#2a3f5f"
           }
          },
          "ternary": {
           "aaxis": {
            "gridcolor": "white",
            "linecolor": "white",
            "ticks": ""
           },
           "baxis": {
            "gridcolor": "white",
            "linecolor": "white",
            "ticks": ""
           },
           "bgcolor": "#E5ECF6",
           "caxis": {
            "gridcolor": "white",
            "linecolor": "white",
            "ticks": ""
           }
          },
          "title": {
           "x": 0.05
          },
          "xaxis": {
           "automargin": true,
           "gridcolor": "white",
           "linecolor": "white",
           "ticks": "",
           "title": {
            "standoff": 15
           },
           "zerolinecolor": "white",
           "zerolinewidth": 2
          },
          "yaxis": {
           "automargin": true,
           "gridcolor": "white",
           "linecolor": "white",
           "ticks": "",
           "title": {
            "standoff": 15
           },
           "zerolinecolor": "white",
           "zerolinewidth": 2
          }
         }
        },
        "title": {
         "text": "Option price vs Underlying volatility (Original vs Precision Adjusted)"
        },
        "width": 1000,
        "xaxis": {
         "anchor": "y",
         "domain": [
          0,
          1
         ],
         "title": {
          "text": "Underlying volatility"
         }
        },
        "yaxis": {
         "anchor": "x",
         "domain": [
          0,
          1
         ],
         "title": {
          "text": "Option price"
         }
        }
       }
      }
     },
     "metadata": {},
     "output_type": "display_data"
    }
   ],
   "source": [
    "sigma_vect = np.linspace(sigma - 1e-3, sigma + 1e-3 , 100)\n",
    "price_vect = []\n",
    "price_vect_adj = []\n",
    "\n",
    "for sig in sigma_vect:\n",
    "    price_, _, _, _ = asian_option_pricer_MC(sigma = sig)\n",
    "    price_vect.append(price_)\n",
    "    price_adj_, _, _, _ = asian_option_pricer_MC_precision(sigma = sig)\n",
    "    price_vect_adj.append(price_adj_)\n",
    "\n",
    "# Create a subplot with two traces\n",
    "fig = make_subplots(rows=1, cols=1)\n",
    "\n",
    "# Add original data trace\n",
    "fig.add_trace(pltgo.Scatter(x=sigma_vect, y=price_vect, mode='lines', name='Original Option Price', opacity=0.8, line=dict(color='blue')), row=1, col=1)\n",
    "\n",
    "# Add precision-adjusted data trace\n",
    "fig.add_trace(pltgo.Scatter(x=sigma_vect, y=price_vect_adj, mode='lines', name='Precision Adjusted Option Price', opacity=0.8, line=dict(color='red')), row=1, col=1)\n",
    "\n",
    "# Update axis titles\n",
    "fig.update_xaxes(title_text='Underlying volatility', row=1, col=1)\n",
    "fig.update_yaxes(title_text='Option price', row=1, col=1)\n",
    "\n",
    "# Update layout\n",
    "fig.update_layout(title='Option price vs Underlying volatility (Original vs Precision Adjusted)', \n",
    "                  height=600, \n",
    "                  width=1000, \n",
    "                  legend_title='Legend')  # legend settings\n",
    "\n",
    "# Show the plot\n",
    "fig.show()"
   ]
  },
  {
   "cell_type": "code",
   "execution_count": 35,
   "metadata": {},
   "outputs": [],
   "source": [
    "\"\"\"\n",
    "\n",
    "    Alternative way to compute the Vega: \n",
    "    \n",
    "    - \"Plain\" version without precision adjustment\n",
    "    - Precision adjusted version\n",
    "    \n",
    "\"\"\"\n",
    "\n",
    "def Vega_Asian_FD(sigma = 0.16, h = 1e-3):\n",
    "    \n",
    "    # forward difference\n",
    "    y, _, _, _ = asian_option_pricer_MC(sigma = sigma)\n",
    "    y_h, _, _, _ = asian_option_pricer_MC(sigma = sigma + h)\n",
    "    \n",
    "    # centered difference\n",
    "    y_h_minus, _, _, _ = asian_option_pricer_MC(sigma = sigma - h/2)\n",
    "    y_h_plus, _, _, _ = asian_option_pricer_MC(sigma = sigma + h/2)\n",
    "    \n",
    "    vega_F = (y_h - y) / h\n",
    "    vega_C = (y_h_plus - y_h_minus) / h\n",
    "    \n",
    "    return vega_F, vega_C\n",
    "\n",
    "def Vega_Asian_FD_precision(sigma = 0.16, h = 1e-3):\n",
    "    \n",
    "    getcontext().prec = 15\n",
    "    \n",
    "    # forward difference\n",
    "    y, _, _, _ = asian_option_pricer_MC_precision(sigma = sigma)\n",
    "    y_h, _, _, _ = asian_option_pricer_MC_precision(sigma = sigma + h)\n",
    "    \n",
    "    \n",
    "    # centered difference\n",
    "    y_h_minus, _, _, _ = asian_option_pricer_MC_precision(sigma = sigma - h/2)\n",
    "    y_h_plus, _, _, _ = asian_option_pricer_MC_precision(sigma = sigma + h/2)\n",
    "    \n",
    "    h = Decimal(str(h))\n",
    "    \n",
    "    vega_F = (y_h - y) / h\n",
    "    vega_C = (y_h_plus - y_h_minus) / h\n",
    "    \n",
    "    return vega_F, vega_C"
   ]
  },
  {
   "cell_type": "code",
   "execution_count": 36,
   "metadata": {},
   "outputs": [
    {
     "name": "stdout",
     "output_type": "stream",
     "text": [
      "Vega Forward Difference: 1.7339093560941876\n",
      "Vega Centered Difference: 1.7339093513202286\n",
      "\n",
      "Vega Forward Difference (Precision): 1.733909357\n",
      "Vega Centered Difference (Precision): 1.733909351\n"
     ]
    }
   ],
   "source": [
    "h = 1e-6\n",
    "\n",
    "vega_F, vega_C = Vega_Asian_FD(sigma = sigma, h = h)\n",
    "\n",
    "print(\"Vega Forward Difference:\", vega_F)\n",
    "print(\"Vega Centered Difference:\", vega_C)\n",
    "\n",
    "vega_F, vega_C = Vega_Asian_FD_precision(sigma = sigma, h = h)\n",
    "\n",
    "print(\"\\nVega Forward Difference (Precision):\", vega_F)\n",
    "print(\"Vega Centered Difference (Precision):\", vega_C)"
   ]
  },
  {
   "cell_type": "code",
   "execution_count": 37,
   "metadata": {},
   "outputs": [
    {
     "name": "stdout",
     "output_type": "stream",
     "text": [
      "\n",
      "h: 0.001\n",
      "Vega Forward Difference: 1.7338840404906852\n",
      "Vega Centered Difference: 1.7339128059610243\n",
      "\n",
      "h: 0.0001\n",
      "Vega Forward Difference: 1.7339073752964396\n",
      "Vega Centered Difference: 1.7339104331109967\n",
      "\n",
      "h: 1e-05\n",
      "Vega Forward Difference: 1.733910246631831\n",
      "Vega Centered Difference: 1.7339097364676979\n",
      "\n",
      "h: 1e-06\n",
      "Vega Forward Difference: 1.7339093560941876\n",
      "Vega Centered Difference: 1.7339093513202286\n",
      "\n",
      "h: 1e-07\n",
      "Vega Forward Difference: 1.733909346657292\n",
      "Vega Centered Difference: 1.733909348877738\n",
      "\n",
      "h: 1e-08\n",
      "Vega Forward Difference: 1.733909332779504\n",
      "Vega Centered Difference: 1.7339093660861948\n"
     ]
    },
    {
     "data": {
      "image/png": "[encoded data removed]",
      "text/plain": [
       "<Figure size 1000x600 with 1 Axes>"
      ]
     },
     "metadata": {},
     "output_type": "display_data"
    }
   ],
   "source": [
    "h_vect = [1e-3, 1e-4, 1e-5, 1e-6, 1e-7, 1e-8]\n",
    "\n",
    "vega_FD_vect = []\n",
    "vega_CD_vect = []\n",
    "\n",
    "for h in h_vect:\n",
    "    print(\"\\nh:\", h)\n",
    "    vega_F, vega_C = Vega_Asian_FD(sigma = sigma, h = h)\n",
    "    vega_FD_vect.append(vega_F)\n",
    "    vega_CD_vect.append(vega_C)\n",
    "    print(\"Vega Forward Difference:\", vega_F)\n",
    "    print(\"Vega Centered Difference:\", vega_C)\n",
    "\n",
    "vega_asian = vega_CD_vect[3] # using vega centered difference with h = 1e-6\n",
    "\n",
    "# Plot\n",
    "plt.figure(figsize=(10, 6))\n",
    "plt.plot(h_vect, vega_FD_vect, marker='o', linestyle='-', label='Forward Difference')\n",
    "plt.plot(h_vect, vega_CD_vect, marker='o', linestyle='-', label='Centered Difference')\n",
    "plt.xlabel('Step size (h) (log scale)')\n",
    "plt.xscale('log')\n",
    "plt.yscale('log')\n",
    "plt.ylabel('Vega (log scale)')\n",
    "plt.title('Vega vs. Step Size (log-log scale)')\n",
    "plt.legend()\n",
    "plt.grid(True)\n",
    "plt.tight_layout()\n",
    "plt.show()"
   ]
  },
  {
   "cell_type": "code",
   "execution_count": 38,
   "metadata": {},
   "outputs": [
    {
     "name": "stdout",
     "output_type": "stream",
     "text": [
      "\n",
      "h: 0.001\n",
      "Vega Forward Difference: 1.733884040492\n",
      "Vega Centered Difference: 1.733912805962\n",
      "\n",
      "h: 0.0001\n",
      "Vega Forward Difference: 1.73390737530\n",
      "Vega Centered Difference: 1.73391043310\n",
      "\n",
      "h: 1e-05\n",
      "Vega Forward Difference: 1.7339102467\n",
      "Vega Centered Difference: 1.7339097365\n",
      "\n",
      "h: 1e-06\n",
      "Vega Forward Difference: 1.733909357\n",
      "Vega Centered Difference: 1.733909351\n",
      "\n",
      "h: 1e-07\n",
      "Vega Forward Difference: 1.73390935\n",
      "Vega Centered Difference: 1.73390935\n",
      "\n",
      "h: 1e-08\n",
      "Vega Forward Difference: 1.7339094\n",
      "Vega Centered Difference: 1.7339093\n"
     ]
    },
    {
     "data": {
      "image/png": "[encoded data removed]",
      "text/plain": [
       "<Figure size 1000x600 with 1 Axes>"
      ]
     },
     "metadata": {},
     "output_type": "display_data"
    }
   ],
   "source": [
    "h_vect = [1e-3, 1e-4, 1e-5, 1e-6, 1e-7, 1e-8]\n",
    "\n",
    "vega_FD_vect = []\n",
    "vega_CD_vect = []\n",
    "\n",
    "for h in h_vect:\n",
    "    print(\"\\nh:\", h)\n",
    "    vega_F, vega_C = Vega_Asian_FD_precision(sigma = sigma, h = h)\n",
    "    vega_FD_vect.append(vega_F)\n",
    "    vega_CD_vect.append(vega_C)\n",
    "    print(\"Vega Forward Difference:\", vega_F)\n",
    "    print(\"Vega Centered Difference:\", vega_C)\n",
    "    \n",
    "# Plot\n",
    "plt.figure(figsize=(10, 6))\n",
    "plt.plot(h_vect, vega_FD_vect, marker='o', linestyle='-', label='Forward Difference')\n",
    "plt.plot(h_vect, vega_CD_vect, marker='o', linestyle='-', label='Centered Difference')\n",
    "plt.xlabel('Step size (h) (log scale)')\n",
    "plt.xscale('log')\n",
    "plt.yscale('log')\n",
    "plt.ylabel('Vega (log scale)')\n",
    "plt.title('Vega vs. Step Size (log-log scale)')\n",
    "plt.legend()\n",
    "plt.grid(True)\n",
    "plt.tight_layout()\n",
    "plt.show()"
   ]
  },
  {
   "cell_type": "markdown",
   "metadata": {},
   "source": [
    "## NPVs and pricing of X%"
   ]
  },
  {
   "cell_type": "markdown",
   "metadata": {},
   "source": [
    "Since a contract must be favorable for both parties, we price it by setting its total NPV equal to zero, meaning that $NPV_{PartyA} = NPV_{PartyB}$. By considering the inflows only, the NPVs are composed as follows:\n",
    "\n",
    "$NPV_{PartyA} = X\\% + NPV_{Asian}$;\n",
    "$NPV_{PartyB} = NPV_{rate} + NPV_{Spol}$.\n",
    "\n",
    "Furthermore, from now on, when we refer to the total NPV we mean the following:\n",
    "$$\n",
    "\\begin{align*}\n",
    "    NPV_{tot} &= NPV_{PartyA} - NPV_{PartyB} \\\\\n",
    "    &= X\\% + NPV_{Asian} - NPV_{rate} - NPV_{Spol}\n",
    "\\end{align*}\n",
    "$$\n",
    "\n",
    "X% is priced by setting the total NPV equal to zero, therefore:\n",
    "\n",
    "$$\n",
    "X\\% = NPV_{rate} + NPV_{spol} - NPV_{asian}\n",
    "$$\n"
   ]
  },
  {
   "cell_type": "markdown",
   "metadata": {},
   "source": [
    "Once we have found the price of the asian option we can include it in the NPV computation (since it's already the sum of the discounted cash flows)"
   ]
  },
  {
   "cell_type": "code",
   "execution_count": 39,
   "metadata": {},
   "outputs": [
    {
     "name": "stdout",
     "output_type": "stream",
     "text": [
      "NPV Asian Option: 0.27269026782519046\n"
     ]
    }
   ],
   "source": [
    "price, _, _, _ = asian_option_pricer_MC(S0 = S0, \n",
    "                                        K = K, \n",
    "                                        sigma = sigma, \n",
    "                                        d = d, \n",
    "                                        start_day = dtSettle, \n",
    "                                        dates = payment_dates_B, \n",
    "                                        alpha = alpha, \n",
    "                                        n_sim = n_sim, \n",
    "                                        bs_dates = termDates, \n",
    "                                        bs_discounts = discounts, \n",
    "                                        seed = SEED)\n",
    "\n",
    "NPV_asian = price # price of the Asian Option is computed as the average of the payoffs discounted with the zero rates\n",
    "\n",
    "print(\"NPV Asian Option:\", NPV_asian)"
   ]
  },
  {
   "cell_type": "markdown",
   "metadata": {},
   "source": [
    "$$\n",
    "\\begin{align*}\n",
    "    NPV_{rate} &= \\sum_{i=0}^{n-1} B(t_0, t_i) - B(t_0, t_{i+1})  \\\\\n",
    "    &= B(t_0, t_0) - B(t_0, t_n) \\\\\n",
    "    &= 1 - B(t_0, t_n)\n",
    "\\end{align*}\n",
    "$$"
   ]
  },
  {
   "cell_type": "code",
   "execution_count": 40,
   "metadata": {},
   "outputs": [
    {
     "name": "stdout",
     "output_type": "stream",
     "text": [
      "NPV Rate: 0.14594790632747878\n"
     ]
    }
   ],
   "source": [
    "NPV_rate = 1 - disc_payment_dates_A[-1]\n",
    "\n",
    "print(\"NPV Rate:\", NPV_rate)"
   ]
  },
  {
   "cell_type": "markdown",
   "metadata": {},
   "source": [
    "$$\n",
    "\\begin{align*}\n",
    "    NPV_{Spol} &= \\sum_{i=1}^{n} S_{Spol} B(t_0, t_i) \\\\\n",
    "    &= S_{Spol} \\sum_{i=1}^{n} B(t_0, t_i)\n",
    "\\end{align*}\n",
    "$$"
   ]
  },
  {
   "cell_type": "code",
   "execution_count": 41,
   "metadata": {},
   "outputs": [
    {
     "name": "stdout",
     "output_type": "stream",
     "text": [
      "NPV Spol: 0.2948440078236477\n"
     ]
    }
   ],
   "source": [
    "NPV_Spol = Spol * np.sum(disc_payment_dates_A)\n",
    "\n",
    "print(\"NPV Spol:\", NPV_Spol)"
   ]
  },
  {
   "cell_type": "code",
   "execution_count": 42,
   "metadata": {},
   "outputs": [
    {
     "name": "stdout",
     "output_type": "stream",
     "text": [
      "X: 0.16810164632593605\n",
      "Total up-front payment: 16810164.632593606\n"
     ]
    }
   ],
   "source": [
    "P = 100000000 # Principal Amount\n",
    "\n",
    "X = NPV_rate + NPV_Spol - NPV_asian\n",
    "\n",
    "print(\"X:\", X)\n",
    "\n",
    "print(\"Total up-front payment:\", P*X)"
   ]
  },
  {
   "cell_type": "code",
   "execution_count": 43,
   "metadata": {},
   "outputs": [
    {
     "name": "stdout",
     "output_type": "stream",
     "text": [
      "NPV Party A: 0.4407919141511265\n",
      "NPV Party B: 0.4407919141511265\n"
     ]
    }
   ],
   "source": [
    "NPV_partyA = X + NPV_asian\n",
    "\n",
    "NPV_partyB = NPV_rate + NPV_Spol\n",
    "\n",
    "print(\"NPV Party A:\", NPV_partyA)\n",
    "print(\"NPV Party B:\", NPV_partyB)"
   ]
  },
  {
   "cell_type": "code",
   "execution_count": 44,
   "metadata": {},
   "outputs": [
    {
     "name": "stdout",
     "output_type": "stream",
     "text": [
      "NPV Party A POV: 0.0\n"
     ]
    }
   ],
   "source": [
    "NPV_A_POV = NPV_partyA - NPV_partyB # Net Present Value of Party A Point of View, same as NPV_tot\n",
    "\n",
    "print(\"NPV Party A POV:\", NPV_A_POV)"
   ]
  },
  {
   "cell_type": "markdown",
   "metadata": {},
   "source": [
    "## DV01 (before hedging)"
   ]
  },
  {
   "cell_type": "code",
   "execution_count": 45,
   "metadata": {},
   "outputs": [],
   "source": [
    "def compute_NPV (zeroCurve, \n",
    "                 discCurve, \n",
    "                 payment_dates_A, \n",
    "                 payment_dates_B, \n",
    "                 Spol, \n",
    "                 alpha, \n",
    "                 S0, \n",
    "                 K, \n",
    "                 sigma, \n",
    "                 d, \n",
    "                 dtSettle, \n",
    "                 termDates, \n",
    "                 upfront = X,\n",
    "                 n_sim = 100000, \n",
    "                 seed = SEED) :\n",
    "    \n",
    "    zr_payment_dates_A = [interpZeroRate(dtSettle, date, termDates, discCurve) for date in payment_dates_A]\n",
    "    #zr_payment_dates_B = [interpZeroRate(dtSettle, date, termDates, discCurve) for date in payment_dates_B]\n",
    "    \n",
    "    disc_payment_dates_A = [np.exp(-zr * yearfrac(dtSettle, date, DC_CONV[\"PARTY_A\"])) for date, zr in zip(payment_dates_A, zr_payment_dates_A)]\n",
    "    #disc_payment_dates_B = [np.exp(-zr * yearfrac(dtSettle, date, DC_CONV[\"PARTY_B\"])) for date, zr in zip(payment_dates_B, zr_payment_dates_B)]\n",
    "    \n",
    "    NPV_rate = 1 - disc_payment_dates_A[-1]\n",
    "    \n",
    "    print(\"NPV Rate:\\t\", NPV_rate)\n",
    "    \n",
    "    NPV_Spol = Spol * np.sum(disc_payment_dates_A)\n",
    "    \n",
    "    print(\"NPV Spol:\\t\", NPV_Spol)\n",
    "    \n",
    "    NPV_asian, _, _, _ = asian_option_pricer_MC(S0 = S0,\n",
    "                                        K = K,\n",
    "                                        sigma = sigma,\n",
    "                                        d = d,\n",
    "                                        start_day = dtSettle,\n",
    "                                        dates = payment_dates_B,\n",
    "                                        alpha = alpha,\n",
    "                                        n_sim = n_sim,\n",
    "                                        bs_dates = termDates,\n",
    "                                        bs_discounts = discCurve,\n",
    "                                        seed = seed)\n",
    "    \n",
    "    print(\"NPV Asian:\\t\", NPV_asian)\n",
    "    \n",
    "    NPV_partyA = upfront + NPV_asian\n",
    "    \n",
    "    print(\"NPV Party A:\\t\", NPV_partyA)\n",
    "    \n",
    "    NPV_partyB = NPV_rate + NPV_Spol\n",
    "    \n",
    "    print(\"NPV Party B:\\t\", NPV_partyB)\n",
    "    \n",
    "    NPV_A_POV = NPV_partyA - NPV_partyB\n",
    "    \n",
    "    print(\"NPV Party A POV:\\t\", NPV_A_POV)\n",
    "    \n",
    "    return NPV_A_POV, NPV_partyA, NPV_partyB"
   ]
  },
  {
   "cell_type": "code",
   "execution_count": 46,
   "metadata": {},
   "outputs": [
    {
     "name": "stdout",
     "output_type": "stream",
     "text": [
      "NPV Rate:\t 0.14594790632747878\n",
      "NPV Spol:\t 0.2948440078236477\n",
      "NPV Asian:\t 0.27269026782519046\n",
      "NPV Party A:\t 0.4407919141511265\n",
      "NPV Party B:\t 0.4407919141511265\n",
      "NPV Party A POV:\t 0.0\n"
     ]
    }
   ],
   "source": [
    "NPV_A_POV, NPV_partyA, NPV_partyB = compute_NPV(zeroCurve, \n",
    "                                                discCurve, \n",
    "                                                payment_dates_A, \n",
    "                                                payment_dates_B, \n",
    "                                                Spol, \n",
    "                                                alpha, \n",
    "                                                S0, \n",
    "                                                K, \n",
    "                                                sigma, \n",
    "                                                d, \n",
    "                                                dtSettle, \n",
    "                                                termDates,\n",
    "                                                X,\n",
    "                                                n_sim = 100000, \n",
    "                                                seed = SEED)"
   ]
  },
  {
   "cell_type": "code",
   "execution_count": 47,
   "metadata": {},
   "outputs": [],
   "source": [
    "def DVO1 (shift=1e-4, \n",
    "          NPV_A_old = 0.0,\n",
    "          dtSettle = dtSettle,\n",
    "          df_depo = df_depo,\n",
    "          df_futures = df_futures,\n",
    "          df_swaps = df_swaps):\n",
    "      \n",
    "    print(\"\\nComputing DV01 ...\\n\")\n",
    "    \n",
    "    # using shifted curves\n",
    "    discCurve_shift, zeroCurve_shift, _, _ = bootstrapCurves(dtSettle=dtSettle, df_depo=df_depo, df_futures=df_futures, df_swaps=df_swaps, shift=shift)\n",
    "    \n",
    "    NPV_A_POV_new, NPV_new_A, NPV_new_B = compute_NPV(zeroCurve_shift, discCurve_shift, payment_dates_A, payment_dates_B, Spol, alpha, S0, K, sigma, d, dtSettle, termDates, X, n_sim = 100000, seed = SEED)\n",
    "    \n",
    "    print(\"DV01:\\t\", NPV_A_POV_new - NPV_A_old)\n",
    "    \n",
    "    return NPV_A_POV_new - NPV_A_old, NPV_new_A, NPV_new_B"
   ]
  },
  {
   "cell_type": "code",
   "execution_count": 48,
   "metadata": {},
   "outputs": [
    {
     "name": "stdout",
     "output_type": "stream",
     "text": [
      "\n",
      "Computing DV01 ...\n",
      "\n",
      "NPV Rate:\t 0.14628156371028678\n",
      "NPV Spol:\t 0.2947837888618075\n",
      "NPV Asian:\t 0.27300986198781496\n",
      "NPV Party A:\t 0.441111508313751\n",
      "NPV Party B:\t 0.4410653525720943\n",
      "NPV Party A POV:\t 4.61557416567282e-05\n",
      "DV01:\t 4.61557416567282e-05\n",
      "\n",
      "DV01: 4.61557416567282e-05\n",
      "NPV Party A New: 0.441111508313751\n",
      "NPV Party B New: 0.4410653525720943\n"
     ]
    }
   ],
   "source": [
    "DV01_res, NPV_A_new, NPV_B_new = DVO1(shift=1e-4, NPV_A_old=NPV_A_POV, dtSettle=dtSettle, df_depo=df_depo, df_futures=df_futures, df_swaps=df_swaps)\n",
    "\n",
    "print(\"\\nDV01:\", DV01_res)\n",
    "print(\"NPV Party A New:\", NPV_A_new)\n",
    "print(\"NPV Party B New:\", NPV_B_new)"
   ]
  },
  {
   "cell_type": "markdown",
   "metadata": {},
   "source": [
    "## Hedging"
   ]
  },
  {
   "cell_type": "markdown",
   "metadata": {},
   "source": [
    "### Hedging $\\mathcal{V}$"
   ]
  },
  {
   "cell_type": "markdown",
   "metadata": {},
   "source": [
    "Before hedging, we need to retrieve the proper 4 years ATM-Fwd Europian Call option infos."
   ]
  },
  {
   "cell_type": "code",
   "execution_count": 49,
   "metadata": {},
   "outputs": [
    {
     "name": "stdout",
     "output_type": "stream",
     "text": [
      "Start day: 2008-02-19 00:00:00\n",
      "Maturity day: 2012-02-20 00:00:00\n",
      "\n",
      "Zero rate at maturity: 0.03884727187241848\n",
      "Stock price:\t 6.13\n",
      "Forward price:\t 6.101800169748639\n"
     ]
    }
   ],
   "source": [
    "\"\"\"\n",
    "ATM-Fwd European Call Option\n",
    "\"\"\"\n",
    "\n",
    "print(\"Start day:\", start_day)\n",
    "print(\"Maturity day:\", maturity_day)\n",
    "\n",
    "zr_ATM_fwd = interpZeroRate(start_day, maturity_day, termDates, discounts)\n",
    "print(\"\\nZero rate at maturity:\", zr_ATM_fwd)\n",
    "\n",
    "T = 4\n",
    "S0 = 6.13 # initial price of the underlying\n",
    "F0 = S0 * np.exp((zr_ATM_fwd - d)*T) # forward price\n",
    "K = F0 # strike price set to the forward price as the option is ATM-Fwd\n",
    "sigma = 0.16\n",
    "\n",
    "print(\"Stock price:\\t\", S0)\n",
    "print(\"Forward price:\\t\", F0)"
   ]
  },
  {
   "cell_type": "code",
   "execution_count": 50,
   "metadata": {},
   "outputs": [
    {
     "name": "stdout",
     "output_type": "stream",
     "text": [
      "European Call Option Delta:\t 0.4802336960160685\n",
      "European Call Option price:\t 0.6640236867941245\n",
      "European Call Option Vega:\t 4.114854180046203\n"
     ]
    }
   ],
   "source": [
    "price_eu_C = callEuropean(S0, K, T, zr_ATM_fwd, d, sigma)\n",
    "delta_eu_C = deltaEuropean(S0, K, T, zr_ATM_fwd, d, sigma)\n",
    "vega_eu_C = vegaEuropean(S0, K, T, zr_ATM_fwd, d, sigma)\n",
    "\n",
    "print(\"European Call Option Delta:\\t\", delta_eu_C)\n",
    "print(\"European Call Option price:\\t\", price_eu_C)\n",
    "print(\"European Call Option Vega:\\t\", vega_eu_C)"
   ]
  },
  {
   "cell_type": "markdown",
   "metadata": {},
   "source": [
    "In order to hedge $\\mathcal{V}$, since we are long on the Asian option, we need to short the ATM-Fwd Europian Call option. In particulat for each unit of Asian option we need to short $\\frac{\\mathcal{V}_{Asian}}{\\mathcal{V}_{European}}$ units of the ATM-Fwd Europian Call option.\n",
    "\n",
    "**Remark**: shorting the ATM-Fwd Europian Call option means that now our $\\Delta$ is changed (negative)."
   ]
  },
  {
   "cell_type": "code",
   "execution_count": 51,
   "metadata": {},
   "outputs": [
    {
     "name": "stdout",
     "output_type": "stream",
     "text": [
      "Vega of Asian Option = 1.7339093513202286\n",
      "Vega of European call option in the market = 4.114854180046203\n",
      "\n",
      "=====================================\n",
      "[*] Sell 0.42 European call options\n",
      "=====================================\n"
     ]
    }
   ],
   "source": [
    "vega_ratio = vega_asian / vega_eu_C\n",
    "\n",
    "print(f'Vega of Asian Option = {vega_asian}')\n",
    "print(f'Vega of European call option in the market = {vega_eu_C}\\n')\n",
    "print('=====================================')\n",
    "print(\"[*] Sell {:.2f} European call options\".format(vega_asian / vega_eu_C))\n",
    "print('=====================================')"
   ]
  },
  {
   "cell_type": "code",
   "execution_count": 52,
   "metadata": {},
   "outputs": [],
   "source": [
    "\"\"\"\n",
    "    New NPV function that takes into account the European Call Option\n",
    "\"\"\"\n",
    "\n",
    "def compute_NPV_eu (start_day = start_day,\n",
    "                    maturity_day = maturity_day,\n",
    "                    discCurve = discCurve, \n",
    "                    dates_A = payment_dates_A, \n",
    "                    dates_B = payment_dates_B, \n",
    "                    Spol = 200e-4, \n",
    "                    alpha = 1.2, \n",
    "                    S0 = 6.13, \n",
    "                    K = 1, \n",
    "                    sigma = 0.16, \n",
    "                    d = 0.04, \n",
    "                    start = dtSettle, \n",
    "                    termDates = termDates, \n",
    "                    upfront = X,\n",
    "                    ratio = vega_ratio,\n",
    "                    n_sim = 100000, \n",
    "                    seed = SEED):\n",
    "    \n",
    "    \"\"\"\n",
    "    Party A : $NPV_{float} = NPV_{rate} + NPV_{spol}$\n",
    "\n",
    "    Party B: $NPV_{fixed} = X + NPV_{asian}$\n",
    "    \n",
    "    \"\"\"\n",
    "    \n",
    "    zr_payment_dates_A = [interpZeroRate(start, date, termDates, discCurve) for date in payment_dates_A]\n",
    "    #zr_payment_dates_B = [interpZeroRate(start, date, termDates, discCurve) for date in payment_dates_B]\n",
    "    \n",
    "    disc_payment_dates_A = [np.exp(-zr * yearfrac(start, date, DC_CONV[\"PARTY_A\"])) for date, zr in zip(payment_dates_A, zr_payment_dates_A)]\n",
    "    #disc_payment_dates_B = [np.exp(-zr * yearfrac(start, date, DC_CONV[\"PARTY_B\"])) for date, zr in zip(payment_dates_B, zr_payment_dates_B)]\n",
    "    \n",
    "    NPV_rate = 1 - disc_payment_dates_A[-1]\n",
    "    \n",
    "    print(\"NPV Rate:\\t\", NPV_rate)\n",
    "    \n",
    "    NPV_Spol = Spol * np.sum(disc_payment_dates_A)\n",
    "    \n",
    "    print(\"NPV Spol:\\t\", NPV_Spol)\n",
    "    \n",
    "    NPV_asian, _, _, _ = asian_option_pricer_MC(S0 = S0,\n",
    "                                        K = K,\n",
    "                                        sigma = sigma,\n",
    "                                        d = d,\n",
    "                                        start_day = start,\n",
    "                                        dates = payment_dates_B,\n",
    "                                        alpha = alpha,\n",
    "                                        n_sim = n_sim,\n",
    "                                        bs_dates = termDates,\n",
    "                                        bs_discounts = discCurve,\n",
    "                                        seed = seed)\n",
    "    \n",
    "    print(\"NPV Asian:\\t\", NPV_asian)\n",
    "    \n",
    "    zr_ATM_fwd = interpZeroRate(start_day, maturity_day, termDates, discCurve)\n",
    "\n",
    "    T = 4\n",
    "    F0 = S0 * np.exp((zr_ATM_fwd - d)*T) # forward price\n",
    "    K_eu = F0 # strike price set to the forward price as the option is ATM-Fwd\n",
    "    \n",
    "    NPV_eu = callEuropean(S0, K_eu, T, zr_ATM_fwd, d, sigma)\n",
    "    \n",
    "    print(\"NPV European:\\t\", NPV_eu)\n",
    "    \n",
    "    NPV_partyA_eu = upfront + NPV_asian + ratio * NPV_eu # already taking into account the vega ratio for vega neutral hedging\n",
    "    \n",
    "    print(\"NPV Party A:\\t\", NPV_partyA_eu)\n",
    "    \n",
    "    NPV_partyB_eu = NPV_rate + NPV_Spol\n",
    "    \n",
    "    print(\"NPV Party B:\\t\", NPV_partyB_eu)\n",
    "    \n",
    "    NPV_A_POV_eu = NPV_partyA_eu - NPV_partyB_eu\n",
    "    \n",
    "    print(\"NPV Party A POV:\\t\", NPV_A_POV_eu)\n",
    "    \n",
    "    return NPV_A_POV_eu, NPV_partyA_eu, NPV_partyB_eu"
   ]
  },
  {
   "cell_type": "code",
   "execution_count": 53,
   "metadata": {},
   "outputs": [
    {
     "name": "stdout",
     "output_type": "stream",
     "text": [
      "NPV Rate:\t 0.14594790632747878\n",
      "NPV Spol:\t 0.2948440078236477\n",
      "NPV Asian:\t 0.27269026782519046\n",
      "NPV European:\t 0.6640236867941245\n",
      "NPV Party A:\t 0.7205969399558414\n",
      "NPV Party B:\t 0.4407919141511265\n",
      "NPV Party A POV:\t 0.2798050258047149\n",
      "\n",
      "NPV Party A POV (European): 0.2798050258047149\n",
      "NPV Party A (European): 0.7205969399558414\n",
      "NPV Party B (European): 0.4407919141511265\n"
     ]
    }
   ],
   "source": [
    "NPV_A_POV_eu, NPV_partyA_eu, NPV_partyB_eu = compute_NPV_eu()\n",
    "\n",
    "print(\"\\nNPV Party A POV (European):\", NPV_A_POV_eu)\n",
    "print(\"NPV Party A (European):\", NPV_partyA_eu)\n",
    "print(\"NPV Party B (European):\", NPV_partyB_eu)"
   ]
  },
  {
   "cell_type": "code",
   "execution_count": 54,
   "metadata": {},
   "outputs": [],
   "source": [
    "def DV01_eu (shift=1e-4, \n",
    "             NPV_A_old = NPV_A_POV_eu,\n",
    "             dtSettle = dtSettle,\n",
    "             df_depo = df_depo,\n",
    "             df_futures = df_futures,\n",
    "             df_swaps = df_swaps):\n",
    "      \n",
    "    print(\"\\nComputing DV01 ...\\n\")\n",
    "    \n",
    "    discCurve_shift, zeroCurve_shift, _, _ = bootstrapCurves(dtSettle=dtSettle, df_depo=df_depo, df_futures=df_futures, df_swaps=df_swaps, shift=shift)\n",
    "    \n",
    "    NPV_A_POV_new, NPV_new_A, NPV_new_B = compute_NPV_eu(discCurve=discCurve_shift)\n",
    "    \n",
    "    print(\"DV01:\\t\", NPV_A_POV_new - NPV_A_old)\n",
    "    \n",
    "    return NPV_A_POV_new - NPV_A_old, NPV_new_A, NPV_new_B    "
   ]
  },
  {
   "cell_type": "code",
   "execution_count": 55,
   "metadata": {},
   "outputs": [
    {
     "name": "stdout",
     "output_type": "stream",
     "text": [
      "\n",
      "Computing DV01 ...\n",
      "\n",
      "NPV Rate:\t 0.14628156371028678\n",
      "NPV Spol:\t 0.2947837888618075\n",
      "NPV Asian:\t 0.27300986198781496\n",
      "NPV European:\t 0.6640236867941254\n",
      "NPV Party A:\t 0.7209165341184663\n",
      "NPV Party B:\t 0.4410653525720943\n",
      "NPV Party A POV:\t 0.27985118154637206\n",
      "DV01:\t 4.615574165717229e-05\n"
     ]
    },
    {
     "data": {
      "text/plain": [
       "(4.615574165717229e-05, 0.7209165341184663, 0.4410653525720943)"
      ]
     },
     "execution_count": 55,
     "metadata": {},
     "output_type": "execute_result"
    }
   ],
   "source": [
    "DV01_eu()"
   ]
  },
  {
   "cell_type": "markdown",
   "metadata": {},
   "source": [
    "### Hedging $\\Delta$"
   ]
  },
  {
   "cell_type": "markdown",
   "metadata": {},
   "source": [
    "Our asian option has $\\Delta_{Asian} = 0$, so it may seem that we do not need to hedge it. However, we need to hedge the $\\mathcal{V}_{Asian}$ first, and after Vega is hedged, we can hedge the $\\Delta_{Asian}$.\n",
    "\n",
    "In particular, as shorting the ATM-Fwd Europian Call option changes our $\\Delta$ to negative, we need to buy $\\left|\\frac{\\mathcal{V}_{European}}{\\mathcal{V}_{Asian}} \\times \\Delta_{European}\\right|$ units of the underlying asset."
   ]
  },
  {
   "cell_type": "code",
   "execution_count": 56,
   "metadata": {},
   "outputs": [
    {
     "name": "stdout",
     "output_type": "stream",
     "text": [
      "Delta Asian option = 0.0\n",
      "Delta European option = 0.4802336960160685\n",
      "Total delta of the portfolio = -0.20235995248122926\n",
      "\n",
      "=====================================\n",
      "[*] Buy 0.20235995248122926 shares of ENEl stock\n",
      "=====================================\n"
     ]
    }
   ],
   "source": [
    "print(f'Delta Asian option = {delta_asian}')\n",
    "print(f'Delta European option = {delta_eu_C}')\n",
    "print(f'Total delta of the portfolio = {delta_asian - (vega_asian / vega_eu_C) * delta_eu_C}\\n')\n",
    "delta_shares = delta_asian - (vega_asian / vega_eu_C) * delta_eu_C\n",
    "\n",
    "action = ''\n",
    "print('=====================================')\n",
    "if delta_shares > 0:\n",
    "    action = 'Sell'\n",
    "else:\n",
    "    action = 'Buy'\n",
    "print(f\"[*] {action} {abs(delta_shares)} shares of ENEl stock\")\n",
    "print('=====================================')"
   ]
  },
  {
   "cell_type": "markdown",
   "metadata": {},
   "source": [
    "### Hedging DV01"
   ]
  },
  {
   "cell_type": "markdown",
   "metadata": {},
   "source": [
    "To compute the DV01 of the swap, we first evaluate the NPV of the swap with the non-shifted IB bootstrap curve, then we shift this curve and calculate the new NPV of the swap. Finally, the DV01 is the difference between these two."
   ]
  },
  {
   "cell_type": "code",
   "execution_count": 57,
   "metadata": {},
   "outputs": [],
   "source": [
    "IRS_dates = payment_dates_A # exactly the same as the payment dates of party A"
   ]
  },
  {
   "cell_type": "code",
   "execution_count": 58,
   "metadata": {},
   "outputs": [],
   "source": [
    "# compute NPV of the IRS\n",
    "\n",
    "def compute_NPV_SWAP (start_day = start_day,\n",
    "                      discCurve = discCurve,\n",
    "                      termDates = termDates,\n",
    "                      payment_dates_float = IRS_dates,\n",
    "                      payment_dates_fixed = payment_dates_B,\n",
    "                      S = 3.958 / 100,\n",
    "                      N_value = 1):\n",
    "    \n",
    "    # floating leg\n",
    "    zr = interpZeroRate(start_day, payment_dates_float[-1], termDates, discCurve)\n",
    "    \n",
    "    # exploiting telescopic sum for computing the NPV of the floating leg\n",
    "    NPV_float = 1 - np.exp(-zr * yearfrac(start_day, payment_dates_float[-1], convention='ACT/360')) # ACT/360 day count convention for floating leg\n",
    "    \n",
    "    print(\"NPV Floating Leg:\\t\", NPV_float)\n",
    "    \n",
    "    # fixed leg\n",
    "    S = 3.958 / 100 # fixed rate as mid BID/ASK\n",
    "    \n",
    "    zr_payment_dates = [interpZeroRate(start_day, date, termDates, discCurve) for date in payment_dates_fixed]\n",
    "    \n",
    "    NPV_fixed = N_value * S * np.sum([np.exp(-zr * yearfrac(start_day, date, DC_CONV[\"SWAP\"])) for date, zr in zip(payment_dates_fixed, zr_payment_dates)])\n",
    "    \n",
    "    print(\"NPV Fixed Leg:\\t\", NPV_fixed)\n",
    "    \n",
    "    NPV = NPV_float - NPV_fixed # NPV of the swap from the perspective of the party A who pays the fixed leg and receives the floating leg\n",
    "    \n",
    "    print(\"NPV Swap:\\t\", NPV)\n",
    "    \n",
    "    return NPV_float, NPV_fixed, NPV"
   ]
  },
  {
   "cell_type": "code",
   "execution_count": 59,
   "metadata": {},
   "outputs": [
    {
     "name": "stdout",
     "output_type": "stream",
     "text": [
      "NPV Floating Leg:\t 0.14594790632747878\n",
      "NPV Fixed Leg:\t 0.14390828538258854\n",
      "NPV Swap:\t 0.0020396209448902414\n"
     ]
    }
   ],
   "source": [
    "S_NPV_float, S_NPV_fixed, S_NPV = compute_NPV_SWAP(start_day=start_day, discCurve=discCurve, termDates=termDates, payment_dates_float=IRS_dates, payment_dates_fixed=payment_dates_B)\n",
    "\n",
    "# print(\"NPV Float:\", S_NPV_float)\n",
    "# print(\"NPV Fixed:\", S_NPV_fixed)\n",
    "# print(\"NPV Swap:\", S_NPV)"
   ]
  },
  {
   "cell_type": "code",
   "execution_count": 60,
   "metadata": {},
   "outputs": [],
   "source": [
    "def DV01_SWAP (shift = 1e-4,\n",
    "               start_day = start_day,\n",
    "               discCurve = discCurve,\n",
    "               termDates = termDates,\n",
    "               payment_dates_float = IRS_dates,\n",
    "               payment_dates_fixed = payment_dates_B):\n",
    "    \n",
    "    print(\"\\nComputing DV01 SWAP ...\\n\")\n",
    "\n",
    "    _, _, NPV_old = compute_NPV_SWAP(start_day=start_day, discCurve=discCurve, termDates=termDates, payment_dates_float=IRS_dates, payment_dates_fixed=payment_dates_B)\n",
    "    \n",
    "    print(\"\\n---SHIFT---\\n\")\n",
    "    \n",
    "    discCurve_shift, _, _, _ = bootstrapCurves(dtSettle=start_day, df_depo=df_depo, df_futures=df_futures, df_swaps=df_swaps, shift=shift)\n",
    "    \n",
    "    _, _, NPV_new = compute_NPV_SWAP(start_day=start_day, discCurve=discCurve_shift, termDates=termDates, payment_dates_float=IRS_dates, payment_dates_fixed=payment_dates_B)\n",
    "    \n",
    "    return NPV_new - NPV_old"
   ]
  },
  {
   "cell_type": "code",
   "execution_count": 61,
   "metadata": {},
   "outputs": [
    {
     "name": "stdout",
     "output_type": "stream",
     "text": [
      "\n",
      "Computing DV01 SWAP ...\n",
      "\n",
      "NPV Floating Leg:\t 0.14594790632747878\n",
      "NPV Fixed Leg:\t 0.14390828538258854\n",
      "NPV Swap:\t 0.0020396209448902414\n",
      "\n",
      "---SHIFT---\n",
      "\n",
      "NPV Floating Leg:\t 0.14628156371028678\n",
      "NPV Fixed Leg:\t 0.1438741615309421\n",
      "NPV Swap:\t 0.002407402179344681\n",
      "\n",
      "DV01 Swap: 0.00036778123445443955\n"
     ]
    }
   ],
   "source": [
    "DV01_SWAP_res = DV01_SWAP(start_day=start_day, discCurve=discCurve, termDates=termDates, payment_dates_float=IRS_dates, payment_dates_fixed=payment_dates_B)\n",
    "\n",
    "print(\"\\nDV01 Swap:\", DV01_SWAP_res)"
   ]
  },
  {
   "cell_type": "code",
   "execution_count": 62,
   "metadata": {},
   "outputs": [
    {
     "name": "stdout",
     "output_type": "stream",
     "text": [
      "\n",
      "Computing DV01 ...\n",
      "\n",
      "NPV Rate:\t 0.14628156371028678\n",
      "NPV Spol:\t 0.2947837888618075\n",
      "NPV Asian:\t 0.27300986198781496\n",
      "NPV European:\t 0.6640236867941254\n",
      "NPV Party A:\t 0.7209165341184663\n",
      "NPV Party B:\t 0.4410653525720943\n",
      "NPV Party A POV:\t 0.27985118154637206\n",
      "DV01:\t 4.615574165717229e-05\n",
      "\n",
      "The DV01 of our portfolio is: 4.615574165717229e-05\n",
      "The DV01 of the 4y IR swap vs Euribor 3m is: 0.00036778123445443955\n",
      "The ratio between the two is: 0.12549781591124118\n",
      "\n",
      "=====================================\n",
      "[*] Enter in a 4y IR swap vs Euribor 3m with notional amount = 12549781.591124117\n",
      "=====================================\n"
     ]
    }
   ],
   "source": [
    "DV01, _ , _ = DV01_eu() # DV01 of the portfolio with the European call option\n",
    "print(f'\\nThe DV01 of our portfolio is: {DV01}')\n",
    "print(f'The DV01 of the 4y IR swap vs Euribor 3m is: {DV01_SWAP_res}')\n",
    "ratio = DV01 / DV01_SWAP_res\n",
    "print(f'The ratio between the two is: {ratio}\\n')\n",
    "tot_swap_amount = ratio * P  # since every DV01 variation is computed every 100$ of notional amount (check)\n",
    "print('=====================================')\n",
    "print(f'[*] Enter in a 4y IR swap vs Euribor 3m with notional amount = {tot_swap_amount}')\n",
    "print('=====================================')"
   ]
  },
  {
   "cell_type": "markdown",
   "metadata": {},
   "source": [
    "### Complete Hedging"
   ]
  },
  {
   "cell_type": "code",
   "execution_count": 63,
   "metadata": {},
   "outputs": [
    {
     "name": "stdout",
     "output_type": "stream",
     "text": [
      "=====================================\n",
      "[*] Total Delta of the portfolio: 0.0\n",
      "[*] Total Vega of the portfolio: 0.0\n",
      "[*] Total DV01 of the portfolio: 0.0\n",
      "=====================================\n"
     ]
    }
   ],
   "source": [
    "total_delta = delta_asian - (vega_asian / vega_eu_C) * delta_eu_C - delta_shares\n",
    "total_vega = vega_asian - (vega_asian / vega_eu_C) * vega_eu_C\n",
    "total_DV01 = DV01 - ratio * DV01_SWAP_res\n",
    "\n",
    "print('=====================================')\n",
    "print(f\"[*] Total Delta of the portfolio: {total_delta}\")\n",
    "print(f\"[*] Total Vega of the portfolio: {total_vega}\")\n",
    "print(f\"[*] Total DV01 of the portfolio: {total_DV01}\")\n",
    "print('=====================================')"
   ]
  },
  {
   "cell_type": "markdown",
   "metadata": {},
   "source": [
    "And we are successfully hedged!"
   ]
  }
 ],
 "metadata": {
  "kernelspec": {
   "display_name": "Python 3 (ipykernel)",
   "language": "python",
   "name": "python3"
  },
  "language_info": {
   "codemirror_mode": {
    "name": "ipython",
    "version": 3
   },
   "file_extension": ".py",
   "mimetype": "text/x-python",
   "name": "python",
   "nbconvert_exporter": "python",
   "pygments_lexer": "ipython3",
   "version": "3.11.1"
  }
 },
 "nbformat": 4,
 "nbformat_minor": 4
}
